{
 "cells": [
  {
   "cell_type": "markdown",
   "metadata": {},
   "source": [
    "# Libraries"
   ]
  },
  {
   "cell_type": "code",
   "execution_count": 1,
   "metadata": {},
   "outputs": [],
   "source": [
    "import numpy as np"
   ]
  },
  {
   "cell_type": "code",
   "execution_count": 2,
   "metadata": {},
   "outputs": [],
   "source": [
    "# Alias np.NaN to np.nan for backward compatibility\n",
    "np.NaN = np.nan"
   ]
  },
  {
   "cell_type": "markdown",
   "metadata": {},
   "source": [
    "# 1. Support Functions"
   ]
  },
  {
   "cell_type": "code",
   "execution_count": 3,
   "metadata": {},
   "outputs": [],
   "source": [
    "from database_setup import convert_excel_to_csvs"
   ]
  },
  {
   "cell_type": "markdown",
   "metadata": {},
   "source": [
    "# 2. Reading from EXCEL and generating CSV inputs"
   ]
  },
  {
   "cell_type": "code",
   "execution_count": 4,
   "metadata": {},
   "outputs": [
    {
     "data": {
      "text/plain": [
       "\"\\nThe objective of the following function is to loop through my input Excel file (which was an ideation and discussion piece), and generate the CSV inputs with the coefficients of modification.\\nThis preserves the rationale behind selecting the coefficients, whilst maintaining transparency on the decisions made.\\n\\nAlso, we are preserving the original database + activity ID combo, for future reference.\\n\\nBy running the following function, we genereate a folder (input_coefficients), with all the coefficient modifiers as one CSV per activity.\\n\\n----\\n\\nThe excel file might have a range of tabs, but the only ones that will be processed are the ones that start with 'EF Contribution'.\\n\""
      ]
     },
     "execution_count": 4,
     "metadata": {},
     "output_type": "execute_result"
    }
   ],
   "source": [
    "'''\n",
    "The objective of the following function is to loop through my input Excel file (which was an ideation and discussion piece), and generate the CSV inputs with the coefficients of modification.\n",
    "This preserves the rationale behind selecting the coefficients, whilst maintaining transparency on the decisions made.\n",
    "\n",
    "Also, we are preserving the original database + activity ID combo, for future reference.\n",
    "\n",
    "By running the following function, we genereate a folder (input_coefficients), with all the coefficient modifiers as one CSV per activity.\n",
    "\n",
    "----\n",
    "\n",
    "The excel file might have a range of tabs, but the only ones that will be processed are the ones that start with 'EF Contribution'.\n",
    "'''"
   ]
  },
  {
   "cell_type": "code",
   "execution_count": 5,
   "metadata": {},
   "outputs": [
    {
     "name": "stdout",
     "output_type": "stream",
     "text": [
      "Saved sheet 'EF Contributions_2' as 'input_coefficients\\7b370e739f88f9729064638bf7210c78.csv'\n",
      "Saved sheet 'EF Contributions_3_A' as 'input_coefficients\\9f9aaa855cf07859c28cb6fc84e3a2fd.csv'\n",
      "Saved sheet 'EF Contributions_3_B' as 'input_coefficients\\bde92d093e012fc74b4cf23bd73869be.csv'\n",
      "Saved sheet 'EF Contributions_4_A' as 'input_coefficients\\ecc38c81906feff810d89bb6c123560a.csv'\n",
      "Saved sheet 'EF Contributions_4_B' as 'input_coefficients\\f5ec689f258fc22994162fe53b025b0d.csv'\n",
      "Saved sheet 'EF Contributions_5_A' as 'input_coefficients\\ecc38c81906feff810d89bb6c123560a.csv'\n",
      "Saved sheet 'EF Contributions_5_B' as 'input_coefficients\\b2ab8da844b26789a68138f5eebc21eb.csv'\n",
      "Saved sheet 'EF Contribution_6_A' as 'input_coefficients\\fb970e38e35ff930ea6ca1865d33cc52.csv'\n",
      "Saved sheet 'EF Contributions_6_B' as 'input_coefficients\\3dd23e526c5de9474538ce20d43a402f.csv'\n",
      "Saved sheet 'EF Contributions_8' as 'input_coefficients\\d0953092b5b10c411f947eb33b8f4add.csv'\n",
      "Saved sheet 'EF Contributions_9_A' as 'input_coefficients\\31bda81a4c4a3a273f827fc8832f4da3.csv'\n",
      "Saved sheet 'EF Contributions_9_B' as 'input_coefficients\\0b5870b08f744c37b54945c34adb7dcd.csv'\n",
      "Saved sheet 'EF Contributions_9_C' as 'input_coefficients\\adfb686ff68d3eac8aaa5ea0cb3c169e.csv'\n",
      "Saved sheet 'EF Contributions_11_A' as 'input_coefficients\\d0617f6353f60771cfb7dcdfe6c78ee1.csv'\n",
      "Saved sheet 'EF Contributions_11_B' as 'input_coefficients\\4bcdd0870049fd3b15b4cfa1b4ed580f.csv'\n",
      "Saved sheet 'EF Contributions_13_A' as 'input_coefficients\\52112ff78d75aabf60bd4b63055d0a61.csv'\n",
      "Saved sheet 'EF Contributions_13_B' as 'input_coefficients\\dc75ef318dcef071d7f6c578aba30921.csv'\n",
      "Saved sheet 'EF Contributions_13_C' as 'input_coefficients\\3d908539006e39885946109381e53214.csv'\n",
      "Saved sheet 'EF Contributions_13_D' as 'input_coefficients\\4c6809146c7ded41c88cfcb01111a595.csv'\n",
      "Saved sheet 'EF Contributions_14_A' as 'input_coefficients\\52112ff78d75aabf60bd4b63055d0a61.csv'\n",
      "Saved sheet 'EF Contributions_14_B' as 'input_coefficients\\ac80cf413845bda6587f576899e27405.csv'\n"
     ]
    }
   ],
   "source": [
    "# Input Excel file\n",
    "input_excel = \"./input_parameter_selection/process and compartments v2.xlsx\"\n",
    "output_folder = \"input_coefficients\"\n",
    "\n",
    "# Convert Excel tabs to CSVs\n",
    "convert_excel_to_csvs(input_excel, output_folder)"
   ]
  },
  {
   "cell_type": "code",
   "execution_count": null,
   "metadata": {},
   "outputs": [],
   "source": []
  }
 ],
 "metadata": {
  "kernelspec": {
   "display_name": "Python 3",
   "language": "python",
   "name": "python3"
  },
  "language_info": {
   "codemirror_mode": {
    "name": "ipython",
    "version": 3
   },
   "file_extension": ".py",
   "mimetype": "text/x-python",
   "name": "python",
   "nbconvert_exporter": "python",
   "pygments_lexer": "ipython3",
   "version": "3.11.8"
  }
 },
 "nbformat": 4,
 "nbformat_minor": 2
}
