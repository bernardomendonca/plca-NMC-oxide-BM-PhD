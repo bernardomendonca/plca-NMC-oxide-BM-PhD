{
 "cells": [
  {
   "cell_type": "markdown",
   "metadata": {},
   "source": [
    "# Libraries"
   ]
  },
  {
   "cell_type": "code",
   "execution_count": 1,
   "metadata": {},
   "outputs": [],
   "source": [
    "# Import BW25 packages. You'll notice the packages are imported individually, unlike a one-and-done import with BW2.\n",
    "import bw2data as bd\n",
    "# import bw2io as bi\n",
    "import bw2calc as bc\n",
    "# import bw2analyzer as bwa\n",
    "# import matplotlib.pyplot as plt\n",
    "# from collections import defaultdict\n",
    "import numpy as np\n",
    "# import seaborn as sns\n",
    "# import pandas as pd"
   ]
  },
  {
   "cell_type": "code",
   "execution_count": 2,
   "metadata": {},
   "outputs": [],
   "source": [
    "from bw2analyzer import ContributionAnalysis"
   ]
  },
  {
   "cell_type": "code",
   "execution_count": 3,
   "metadata": {},
   "outputs": [],
   "source": [
    "# Alias np.NaN to np.nan for backward compatibility\n",
    "np.NaN = np.nan"
   ]
  },
  {
   "cell_type": "markdown",
   "metadata": {},
   "source": [
    "# 1. Support Functions"
   ]
  },
  {
   "cell_type": "code",
   "execution_count": 4,
   "metadata": {},
   "outputs": [],
   "source": [
    "from database_setup import find_activity_by_name_product_location\n",
    "from database_setup import results_to_dataframe\n",
    "\n",
    "from lifecycle import calculate_exchange_impacts\n",
    "from lifecycle import calculate_impacts_for_activities\n",
    "from lifecycle import run_comprehensive_lcia\n",
    "from lifecycle import find_most_impactful_exchanges\n",
    "\n",
    "from config import activities_nmcoxide, reference_product_nmcoxide\n",
    "from config import recipe_midpoint_h, activities_li, reference_product_lithium, activities_ni, reference_product_nickel, activities_mn, reference_product_manganese"
   ]
  },
  {
   "cell_type": "markdown",
   "metadata": {},
   "source": [
    "# 2. Imports and Declarations"
   ]
  },
  {
   "cell_type": "code",
   "execution_count": 5,
   "metadata": {},
   "outputs": [],
   "source": [
    "project_name = \"LNV-EI38-202502025\""
   ]
  },
  {
   "cell_type": "code",
   "execution_count": 6,
   "metadata": {},
   "outputs": [],
   "source": [
    "#Creating/accessing the project\n",
    "bd.projects.set_current(\"LNV-EI38-202502025\")"
   ]
  },
  {
   "cell_type": "code",
   "execution_count": 8,
   "metadata": {},
   "outputs": [
    {
     "data": {
      "text/plain": [
       "['biosphere3',\n",
       " 'ecoinvent 3.8 cutoff',\n",
       " 'EI38_cutoff_remind_SSP1-Base_2020_baseline',\n",
       " 'EI38_cutoff_remind_SSP1-Base_2025_baseline',\n",
       " 'EI38_cutoff_remind_SSP1-Base_2030_baseline',\n",
       " 'EI38_cutoff_remind_SSP1-Base_2035_baseline',\n",
       " 'EI38_cutoff_remind_SSP1-Base_2040_baseline',\n",
       " 'EI38_cutoff_remind_SSP2-Base_2020_baseline',\n",
       " 'EI38_cutoff_remind_SSP2-Base_2025_baseline',\n",
       " 'EI38_cutoff_remind_SSP2-Base_2030_baseline',\n",
       " 'EI38_cutoff_remind_SSP2-Base_2035_baseline',\n",
       " 'EI38_cutoff_remind_SSP2-Base_2040_baseline',\n",
       " 'EI38_cutoff_remind_SSP5-Base_2020_baseline',\n",
       " 'EI38_cutoff_remind_SSP5-Base_2025_baseline',\n",
       " 'EI38_cutoff_remind_SSP5-Base_2030_baseline',\n",
       " 'EI38_cutoff_remind_SSP5-Base_2035_baseline',\n",
       " 'EI38_cutoff_remind_SSP5-Base_2040_baseline']"
      ]
     },
     "execution_count": 8,
     "metadata": {},
     "output_type": "execute_result"
    }
   ],
   "source": [
    "list(bd.databases)"
   ]
  },
  {
   "cell_type": "code",
   "execution_count": null,
   "metadata": {},
   "outputs": [],
   "source": [
    "db_name = 'EI38_cutoff_remind_SSP1-Base_2025_baseline'"
   ]
  },
  {
   "cell_type": "markdown",
   "metadata": {},
   "source": [
    "# 3. Activity and pLCIA"
   ]
  },
  {
   "cell_type": "code",
   "execution_count": null,
   "metadata": {},
   "outputs": [],
   "source": [
    "# Search term from updated SSP1-Base2020 database.\n",
    "activity_name = 'platinum group metal mine operation, ore with high palladium content'\n",
    "# Load the database\n",
    "db_name = 'EI38_cutoff_remind_SSP1-Base_2020_energy'\n",
    "# Use your function to find the activity\n",
    "activity = find_activity_by_name_product_location(db_name, activity_name, reference_product_nickel)"
   ]
  },
  {
   "cell_type": "code",
   "execution_count": null,
   "metadata": {},
   "outputs": [],
   "source": [
    "# Search term from updated SSP1-Base2020 database.\n",
    "activity_name = 'lithium carbonate production, from spodumene'\n",
    "location = 'RoW'\n",
    "# Load the database\n",
    "db_name = 'EI38_cutoff_remind_SSP1-Base_2020_energy'\n",
    "# Use your function to find the activity\n",
    "activity = find_activity_by_name_product_location(db_name, activity_name, location=location)"
   ]
  },
  {
   "cell_type": "code",
   "execution_count": null,
   "metadata": {},
   "outputs": [],
   "source": [
    "# Search term from updated SSP1-Base2020 database.\n",
    "activity_name = 'smelting and refining of nickel concentrate, 7% Ni'\n",
    "location = 'CN'\n",
    "# Load the database\n",
    "db_name = 'EI38_cutoff_remind_SSP1-Base_2020_energy'\n",
    "# Use your function to find the activity\n",
    "activity = find_activity_by_name_product_location(db_name, activity_name, location=location)"
   ]
  },
  {
   "cell_type": "code",
   "execution_count": null,
   "metadata": {},
   "outputs": [],
   "source": [
    "# Search term from updated SSP1-Base2020 database.\n",
    "activity_name = 'nickel mine operation and benefication to nickel concentrate, 16% Ni'\n",
    "location = 'CA-QC'\n",
    "# Load the database\n",
    "db_name = 'EI38_cutoff_remind_SSP1-Base_2025_baseline'\n",
    "# Use your function to find the activity\n",
    "activity = find_activity_by_name_product_location(db_name, activity_name, 'nickel concentrate, 16% Ni', location=location)"
   ]
  },
  {
   "cell_type": "markdown",
   "metadata": {},
   "source": [
    "# 4. Contribution Analysis"
   ]
  },
  {
   "cell_type": "markdown",
   "metadata": {},
   "source": [
    "## 4.1. Confirming elementary flows"
   ]
  },
  {
   "cell_type": "code",
   "execution_count": null,
   "metadata": {},
   "outputs": [],
   "source": [
    "list(activity.exchanges())"
   ]
  },
  {
   "cell_type": "code",
   "execution_count": null,
   "metadata": {},
   "outputs": [],
   "source": [
    "list(activity.biosphere())"
   ]
  },
  {
   "cell_type": "markdown",
   "metadata": {},
   "source": [
    "## 4.2. Verifying LCIA"
   ]
  },
  {
   "cell_type": "markdown",
   "metadata": {},
   "source": [
    "### 4.2.1. Single impact category"
   ]
  },
  {
   "cell_type": "code",
   "execution_count": null,
   "metadata": {},
   "outputs": [],
   "source": [
    "# Define the functional unit (e.g., 1 unit of the activity)\n",
    "functional_unit = {activity: 1}\n",
    "\n",
    "# Define the LCIA method you want to use, e.g., ReCiPe Endpoint\n",
    "method = ('ReCiPe Endpoint (H,A)', 'human health', 'total')\n",
    "\n",
    "# Create an LCA object\n",
    "lca = bc.LCA(functional_unit, method)\n",
    "\n",
    "# Perform the LCI and LCIA\n",
    "lca.lci()\n",
    "lca.lcia()\n",
    "lca.score"
   ]
  },
  {
   "cell_type": "markdown",
   "metadata": {},
   "source": [
    "### 4.2.2. All impact categories"
   ]
  },
  {
   "cell_type": "code",
   "execution_count": null,
   "metadata": {},
   "outputs": [],
   "source": [
    "'''def run_comprehensive_lcia(activity, methods_list):\n",
    "    \"\"\"\n",
    "    Perform a comprehensive LCIA for a given activity across multiple impact categories.\n",
    "    \n",
    "    Parameters:\n",
    "    - activity: The specific activity for which the LCIA is to be performed.\n",
    "    - methods_list: A list of tuples representing the impact assessment methods.\n",
    "\n",
    "    Returns:\n",
    "    - lca_results: A dictionary with methods as keys and their corresponding LCIA scores as values.\n",
    "    \"\"\"\n",
    "\n",
    "    # Define the functional unit (e.g., 1 unit of the activity)\n",
    "    functional_unit = {activity: 1}\n",
    "\n",
    "    # Initialize a dictionary to store the results\n",
    "    lca_results = defaultdict(float)\n",
    "\n",
    "    # Loop over all impact categories in the method\n",
    "    for method in methods_list:\n",
    "        # Run LCI and LCIA\n",
    "        lca = bc.LCA(functional_unit, method)\n",
    "        lca.lci()\n",
    "        lca.lcia()\n",
    "        \n",
    "        # Store the result for each category\n",
    "        lca_results[method] = lca.score\n",
    "\n",
    "    # Output the results\n",
    "    for category, score in lca_results.items():\n",
    "        print(f\"{category}: {score}\")\n",
    "    \n",
    "    return lca_results'''"
   ]
  },
  {
   "cell_type": "code",
   "execution_count": null,
   "metadata": {},
   "outputs": [],
   "source": [
    "run_comprehensive_lcia(activity, recipe_midpoint_h)"
   ]
  },
  {
   "cell_type": "code",
   "execution_count": null,
   "metadata": {},
   "outputs": [],
   "source": [
    "ca = ContributionAnalysis()\n",
    "\n",
    "# Get the top processes contributing to the LCIA score\n",
    "top_processes = ca.annotated_top_processes(lca, limit=10)  # You can adjust the limit as needed\n",
    "print(\"Top Processes:\")\n",
    "for process in top_processes:\n",
    "    print(process)"
   ]
  },
  {
   "cell_type": "markdown",
   "metadata": {},
   "source": [
    "# 5. Finding most impactful exchanges and exporting - Per activity"
   ]
  },
  {
   "cell_type": "code",
   "execution_count": null,
   "metadata": {},
   "outputs": [],
   "source": [
    "activity"
   ]
  },
  {
   "cell_type": "code",
   "execution_count": null,
   "metadata": {},
   "outputs": [],
   "source": [
    "# Define the functional unit (e.g., 1 unit of the activity)\n",
    "functional_unit = {activity: 1}\n",
    "\n",
    "# Define the LCIA method you want to use, e.g., ReCiPe Endpoint\n",
    "method = ('ReCiPe Endpoint (H,A)', 'human health', 'total')"
   ]
  },
  {
   "cell_type": "code",
   "execution_count": null,
   "metadata": {},
   "outputs": [],
   "source": [
    "'''def find_most_impactful_exchanges(lca, top_n=2):\n",
    "    \"\"\"\n",
    "    Find the most impactful exchanges (both technosphere and biosphere) from a characterized LCA.\n",
    "    \n",
    "    Parameters:\n",
    "    - lca: A Brightway2 LCA object that has already been run.\n",
    "    - top_n: Number of top contributors to return.\n",
    "    \n",
    "    Returns:\n",
    "    - A list of tuples containing the top N most impactful exchanges and their contributions.\n",
    "    \"\"\"\n",
    "    # Initialize a list to store contributions\n",
    "    exchange_contributions = []\n",
    "    \n",
    "    # Get the reverse dictionaries for technosphere and biosphere\n",
    "    rev_techno, rev_prod, rev_bio = lca.reverse_dict()\n",
    "\n",
    "    # Loop over the non-zero elements of the characterized inventory\n",
    "    for row, col in zip(*lca.characterized_inventory.nonzero()):\n",
    "        contribution = lca.characterized_inventory[row, col]\n",
    "        \n",
    "        # Check if this is a biosphere or technosphere exchange\n",
    "        if col in rev_bio:\n",
    "            # Biosphere flow\n",
    "            flow = rev_bio[col]\n",
    "            flow_name = bd.get_activity(flow)[\"name\"]\n",
    "            exchange_contributions.append((contribution, flow_name, \"biosphere\"))\n",
    "        else:\n",
    "            # Technosphere flow (process contribution)\n",
    "            process = rev_techno[col]\n",
    "            process_name = bd.get_activity(process)[\"name\"]\n",
    "            exchange_contributions.append((contribution, process_name, \"technosphere\"))\n",
    "\n",
    "    # Sort contributions by absolute impact (descending)\n",
    "    exchange_contributions.sort(key=lambda x: abs(x[0]), reverse=True)\n",
    "    \n",
    "    return exchange_contributions[:top_n]'''"
   ]
  },
  {
   "cell_type": "code",
   "execution_count": null,
   "metadata": {},
   "outputs": [],
   "source": [
    "'''# After running LCI and LCIA\n",
    "lca = bc.LCA({activity: 1}, method)\n",
    "lca.lci()\n",
    "lca.lcia()\n",
    "'''\n",
    "\n",
    "# Find the top 10 most impactful exchanges\n",
    "most_impactful_exchanges = find_most_impactful_exchanges(lca, top_n=10)\n",
    "\n",
    "# Print the results\n",
    "for contribution, name, exchange_type in most_impactful_exchanges:\n",
    "    print(f\"Contribution: {contribution:.5f}, Name: {name}, Type: {exchange_type}\")"
   ]
  },
  {
   "cell_type": "markdown",
   "metadata": {},
   "source": [
    "# 6. Output of all impacts, listed by EFs with most contribution"
   ]
  },
  {
   "cell_type": "code",
   "execution_count": null,
   "metadata": {},
   "outputs": [],
   "source": [
    "activities_mining = [\n",
    "    ('nickel mine operation and benefication to nickel concentrate, 7% Ni','CN')\n",
    "    #('platinum group metal, extraction and refinery operations', 'ZA')\n",
    "    # ('platinum group metal, mine and concentration operations', 'ZA')\n",
    "    # ('processing of nickel-rich materials', 'GLO')\n",
    "    # ('smelting and refining of nickel concentrate, 16% Ni', 'GLO')\n",
    "    # ('nickel mine operation and benefication to nickel concentrate, 16% Ni', 'CA-QC')\n",
    "    # ('cobalt production', 'GLO')\n",
    "    # ('spodumene production','RoW')\n",
    "    # ('lithium brine inspissation','GLO')\n",
    "    # ('lithium carbonate production, from concentrated brine','GLO')\n",
    "    # ('manganese(III) oxide production','CN')\n",
    "    # ('manganese sulfate production','GLO')\n",
    "    # ('manganese concentrate production','GLO')\n",
    "]\n",
    "\n",
    "# reference_product_nickel_mining = 'manganese concentrate'\n",
    "\n",
    "#'platinum group metal concentrate'\n",
    "# 'nickel, class 1'\n"
   ]
  },
  {
   "cell_type": "code",
   "execution_count": null,
   "metadata": {},
   "outputs": [],
   "source": [
    "results = calculate_impacts_for_activities(activities_mining, recipe_midpoint_h, db_name, reference_product_nickel)"
   ]
  },
  {
   "cell_type": "code",
   "execution_count": null,
   "metadata": {},
   "outputs": [],
   "source": [
    "results"
   ]
  },
  {
   "cell_type": "code",
   "execution_count": null,
   "metadata": {},
   "outputs": [],
   "source": [
    "# Assuming results, project_name, and db_name are already defined\n",
    "df = results_to_dataframe(results, project_name, db_name)"
   ]
  },
  {
   "cell_type": "code",
   "execution_count": null,
   "metadata": {},
   "outputs": [],
   "source": [
    "df.to_csv('14_A.csv')"
   ]
  },
  {
   "cell_type": "markdown",
   "metadata": {},
   "source": [
    "# 7. Calling Ni, Li, and Mn"
   ]
  },
  {
   "cell_type": "markdown",
   "metadata": {},
   "source": [
    "## 7.1. Nickel"
   ]
  },
  {
   "cell_type": "code",
   "execution_count": null,
   "metadata": {},
   "outputs": [],
   "source": [
    "# Call the function\n",
    "results = calculate_impacts_for_activities(activities_ni, recipe_midpoint_h, db_name, reference_product_nickel)"
   ]
  },
  {
   "cell_type": "code",
   "execution_count": null,
   "metadata": {},
   "outputs": [],
   "source": [
    "results"
   ]
  },
  {
   "cell_type": "code",
   "execution_count": null,
   "metadata": {},
   "outputs": [],
   "source": [
    "# Assuming results, project_name, and db_name are already defined\n",
    "df = results_to_dataframe(results, project_name, db_name)"
   ]
  },
  {
   "cell_type": "code",
   "execution_count": null,
   "metadata": {},
   "outputs": [],
   "source": [
    "df.to_csv('./contribution_analysis/EFcontributions_nickel.csv')"
   ]
  },
  {
   "cell_type": "markdown",
   "metadata": {},
   "source": [
    "## 7.2. Lithium"
   ]
  },
  {
   "cell_type": "code",
   "execution_count": null,
   "metadata": {},
   "outputs": [],
   "source": [
    "# Call the function\n",
    "results = calculate_impacts_for_activities(activities_li, recipe_midpoint_h, db_name)"
   ]
  },
  {
   "cell_type": "code",
   "execution_count": null,
   "metadata": {},
   "outputs": [],
   "source": [
    "# Assuming results, project_name, and db_name are already defined\n",
    "df = results_to_dataframe(results, project_name, db_name)"
   ]
  },
  {
   "cell_type": "code",
   "execution_count": null,
   "metadata": {},
   "outputs": [],
   "source": [
    "df.to_csv('./contribution_analysis/EFcontributions_lithium.csv')"
   ]
  },
  {
   "cell_type": "markdown",
   "metadata": {},
   "source": [
    "## 7.3. Manganese"
   ]
  },
  {
   "cell_type": "code",
   "execution_count": null,
   "metadata": {},
   "outputs": [],
   "source": [
    "# Call the function\n",
    "results = calculate_impacts_for_activities(activities_mn, recipe_midpoint_h, db_name, reference_product_manganese)"
   ]
  },
  {
   "cell_type": "code",
   "execution_count": null,
   "metadata": {},
   "outputs": [],
   "source": [
    "# Assuming results, project_name, and db_name are already defined\n",
    "df = results_to_dataframe(results, project_name, db_name)"
   ]
  },
  {
   "cell_type": "code",
   "execution_count": null,
   "metadata": {},
   "outputs": [],
   "source": [
    "df.to_csv('./contribution_analysis/EFcontributions_manganese.csv')"
   ]
  },
  {
   "cell_type": "markdown",
   "metadata": {},
   "source": [
    "# 8. NMC oxide"
   ]
  },
  {
   "cell_type": "code",
   "execution_count": null,
   "metadata": {},
   "outputs": [],
   "source": [
    "# Call the function\n",
    "results = calculate_impacts_for_activities(activities_nmcoxide, recipe_midpoint_h, db_name)"
   ]
  },
  {
   "cell_type": "code",
   "execution_count": null,
   "metadata": {},
   "outputs": [],
   "source": [
    "# Assuming results, project_name, and db_name are already defined\n",
    "df = results_to_dataframe(results, project_name, db_name)"
   ]
  },
  {
   "cell_type": "code",
   "execution_count": null,
   "metadata": {},
   "outputs": [],
   "source": [
    "df.to_csv('./contribution_analysis/EFcontributions_nmcoxide-postVSI2025.csv')"
   ]
  },
  {
   "cell_type": "code",
   "execution_count": null,
   "metadata": {},
   "outputs": [],
   "source": [
    "'''\n",
    "Running again post permanent modify\n",
    "'''"
   ]
  },
  {
   "cell_type": "markdown",
   "metadata": {},
   "source": [
    "# 9 test"
   ]
  },
  {
   "cell_type": "code",
   "execution_count": 9,
   "metadata": {},
   "outputs": [],
   "source": [
    "db_name = 'ecoinvent 3.8 cutoff'"
   ]
  },
  {
   "cell_type": "code",
   "execution_count": 10,
   "metadata": {},
   "outputs": [
    {
     "name": "stdout",
     "output_type": "stream",
     "text": [
      "Calculating impacts for activity 'treatment of metal part of electronics scrap, in copper, anode, by electrolytic refining' in location 'RoW' using method '('ReCiPe Midpoint (H)', 'terrestrial ecotoxicity', 'TETPinf')'...\n",
      "\n",
      "Top impacts for activity 'treatment of metal part of electronics scrap, in copper, anode, by electrolytic refining' in location 'RoW' and method '('ReCiPe Midpoint (H)', 'terrestrial ecotoxicity', 'TETPinf')':\n",
      "Exchange: market for metal part of electronics scrap, in copper, anode, Type: technosphere, Compartment: None, Impact: 5.341118805007399e-05\n",
      "Exchange: market for sulfuric acid, Type: technosphere, Compartment: None, Impact: 2.8521607589205628e-06\n",
      "Exchange: market group for electricity, high voltage, Type: technosphere, Compartment: None, Impact: 2.1045474568881506e-06\n",
      "Exchange: Copper, Type: biosphere, Compartment: ('air', 'non-urban air or from high stacks'), Impact: 2.0973318277366393e-06\n",
      "Exchange: market group for electricity, high voltage, Type: technosphere, Compartment: None, Impact: 7.508804120234898e-07\n",
      "Calculating impacts for activity 'treatment of metal part of electronics scrap, in copper, anode, by electrolytic refining' in location 'RoW' using method '('ReCiPe Midpoint (H)', 'natural land transformation', 'NLTP')'...\n",
      "\n",
      "Top impacts for activity 'treatment of metal part of electronics scrap, in copper, anode, by electrolytic refining' in location 'RoW' and method '('ReCiPe Midpoint (H)', 'natural land transformation', 'NLTP')':\n",
      "Exchange: market for metal part of electronics scrap, in copper, anode, Type: technosphere, Compartment: None, Impact: 5.782442598584276e-05\n",
      "Exchange: market group for electricity, high voltage, Type: technosphere, Compartment: None, Impact: 5.190720521786961e-06\n",
      "Exchange: market group for electricity, high voltage, Type: technosphere, Compartment: None, Impact: 4.315360662404712e-06\n",
      "Exchange: market group for electricity, high voltage, Type: technosphere, Compartment: None, Impact: 1.5218232734126044e-06\n",
      "Exchange: market for sulfuric acid, Type: technosphere, Compartment: None, Impact: 1.1035910438425144e-06\n",
      "Calculating impacts for activity 'treatment of metal part of electronics scrap, in copper, anode, by electrolytic refining' in location 'RoW' using method '('ReCiPe Midpoint (H)', 'photochemical oxidant formation', 'POFP')'...\n",
      "\n",
      "Top impacts for activity 'treatment of metal part of electronics scrap, in copper, anode, by electrolytic refining' in location 'RoW' and method '('ReCiPe Midpoint (H)', 'photochemical oxidant formation', 'POFP')':\n",
      "Exchange: market for metal part of electronics scrap, in copper, anode, Type: technosphere, Compartment: None, Impact: 0.001742886753635034\n",
      "Exchange: market group for electricity, high voltage, Type: technosphere, Compartment: None, Impact: 0.00017242346169400329\n",
      "Exchange: market for sulfuric acid, Type: technosphere, Compartment: None, Impact: 2.6462583173715744e-05\n",
      "Exchange: market group for electricity, high voltage, Type: technosphere, Compartment: None, Impact: 2.0621429273562377e-05\n",
      "Exchange: market group for electricity, high voltage, Type: technosphere, Compartment: None, Impact: 1.2881703963044539e-05\n",
      "Calculating impacts for activity 'treatment of metal part of electronics scrap, in copper, anode, by electrolytic refining' in location 'RoW' using method '('ReCiPe Midpoint (H)', 'human toxicity', 'HTPinf')'...\n",
      "\n",
      "Top impacts for activity 'treatment of metal part of electronics scrap, in copper, anode, by electrolytic refining' in location 'RoW' and method '('ReCiPe Midpoint (H)', 'human toxicity', 'HTPinf')':\n",
      "Exchange: market for metal part of electronics scrap, in copper, anode, Type: technosphere, Compartment: None, Impact: 11.386084591079927\n",
      "Exchange: Arsenic, ion, Type: biosphere, Compartment: ('water', 'surface water'), Impact: 10.436173880302775\n",
      "Exchange: Lead, Type: biosphere, Compartment: ('air', 'non-urban air or from high stacks'), Impact: 0.020715055320546703\n",
      "Exchange: market group for electricity, high voltage, Type: technosphere, Compartment: None, Impact: 0.015979816718621073\n",
      "Exchange: market for sulfuric acid, Type: technosphere, Compartment: None, Impact: 0.015323468650949298\n",
      "Calculating impacts for activity 'treatment of metal part of electronics scrap, in copper, anode, by electrolytic refining' in location 'RoW' using method '('ReCiPe Midpoint (H)', 'marine eutrophication', 'MEP')'...\n",
      "\n",
      "Top impacts for activity 'treatment of metal part of electronics scrap, in copper, anode, by electrolytic refining' in location 'RoW' and method '('ReCiPe Midpoint (H)', 'marine eutrophication', 'MEP')':\n",
      "Exchange: market for metal part of electronics scrap, in copper, anode, Type: technosphere, Compartment: None, Impact: 0.0005057084950572487\n",
      "Exchange: market group for electricity, high voltage, Type: technosphere, Compartment: None, Impact: 6.272344456224153e-05\n",
      "Exchange: market group for electricity, high voltage, Type: technosphere, Compartment: None, Impact: 8.417325474693259e-06\n",
      "Exchange: market for sulfuric acid, Type: technosphere, Compartment: None, Impact: 6.425809254192602e-06\n",
      "Exchange: market group for electricity, high voltage, Type: technosphere, Compartment: None, Impact: 5.701538605207434e-06\n",
      "Calculating impacts for activity 'treatment of metal part of electronics scrap, in copper, anode, by electrolytic refining' in location 'RoW' using method '('ReCiPe Midpoint (H)', 'climate change', 'GWP100')'...\n",
      "\n",
      "Top impacts for activity 'treatment of metal part of electronics scrap, in copper, anode, by electrolytic refining' in location 'RoW' and method '('ReCiPe Midpoint (H)', 'climate change', 'GWP100')':\n",
      "Exchange: market for metal part of electronics scrap, in copper, anode, Type: technosphere, Compartment: None, Impact: 0.9185406428605803\n",
      "Exchange: market group for electricity, high voltage, Type: technosphere, Compartment: None, Impact: 0.058980842767296954\n",
      "Exchange: market group for electricity, high voltage, Type: technosphere, Compartment: None, Impact: 0.013505926133151719\n",
      "Exchange: market group for electricity, high voltage, Type: technosphere, Compartment: None, Impact: 0.0061419000956326915\n",
      "Exchange: market for electricity, high voltage, Type: technosphere, Compartment: None, Impact: 0.004242964185601246\n",
      "Calculating impacts for activity 'treatment of metal part of electronics scrap, in copper, anode, by electrolytic refining' in location 'RoW' using method '('ReCiPe Midpoint (H)', 'particulate matter formation', 'PMFP')'...\n",
      "\n",
      "Top impacts for activity 'treatment of metal part of electronics scrap, in copper, anode, by electrolytic refining' in location 'RoW' and method '('ReCiPe Midpoint (H)', 'particulate matter formation', 'PMFP')':\n",
      "Exchange: market for metal part of electronics scrap, in copper, anode, Type: technosphere, Compartment: None, Impact: 0.0007981376479954964\n",
      "Exchange: Particulates, < 2.5 um, Type: biosphere, Compartment: ('air', 'non-urban air or from high stacks'), Impact: 0.00022420421320138554\n",
      "Exchange: market group for electricity, high voltage, Type: technosphere, Compartment: None, Impact: 0.00015915216316516397\n",
      "Exchange: Particulates, > 2.5 um, and < 10um, Type: biosphere, Compartment: ('air', 'non-urban air or from high stacks'), Impact: 0.00014170942913105795\n",
      "Exchange: market group for electricity, high voltage, Type: technosphere, Compartment: None, Impact: 3.680901517783333e-05\n",
      "Calculating impacts for activity 'treatment of metal part of electronics scrap, in copper, anode, by electrolytic refining' in location 'RoW' using method '('ReCiPe Midpoint (H)', 'agricultural land occupation', 'ALOP')'...\n",
      "\n",
      "Top impacts for activity 'treatment of metal part of electronics scrap, in copper, anode, by electrolytic refining' in location 'RoW' and method '('ReCiPe Midpoint (H)', 'agricultural land occupation', 'ALOP')':\n",
      "Exchange: market for metal part of electronics scrap, in copper, anode, Type: technosphere, Compartment: None, Impact: 0.0046301166720086155\n",
      "Exchange: market group for electricity, high voltage, Type: technosphere, Compartment: None, Impact: 0.0009745156562233169\n",
      "Exchange: market group for electricity, high voltage, Type: technosphere, Compartment: None, Impact: 0.0007589912581899194\n",
      "Exchange: market group for electricity, high voltage, Type: technosphere, Compartment: None, Impact: 0.0002853689910754753\n",
      "Exchange: market for sulfuric acid, Type: technosphere, Compartment: None, Impact: 0.00021036423874876817\n",
      "Calculating impacts for activity 'treatment of metal part of electronics scrap, in copper, anode, by electrolytic refining' in location 'RoW' using method '('ReCiPe Midpoint (H)', 'freshwater eutrophication', 'FEP')'...\n",
      "\n",
      "Top impacts for activity 'treatment of metal part of electronics scrap, in copper, anode, by electrolytic refining' in location 'RoW' and method '('ReCiPe Midpoint (H)', 'freshwater eutrophication', 'FEP')':\n",
      "Exchange: market for metal part of electronics scrap, in copper, anode, Type: technosphere, Compartment: None, Impact: 4.137016466749086e-05\n",
      "Exchange: market group for electricity, high voltage, Type: technosphere, Compartment: None, Impact: 1.9714926410615326e-05\n",
      "Exchange: market group for electricity, high voltage, Type: technosphere, Compartment: None, Impact: 1.0581447328675082e-05\n",
      "Exchange: market group for electricity, high voltage, Type: technosphere, Compartment: None, Impact: 7.3769721556941034e-06\n",
      "Exchange: market for sulfuric acid, Type: technosphere, Compartment: None, Impact: 4.474389311878306e-06\n",
      "Calculating impacts for activity 'treatment of metal part of electronics scrap, in copper, anode, by electrolytic refining' in location 'RoW' using method '('ReCiPe Midpoint (H)', 'metal depletion', 'MDP')'...\n",
      "\n",
      "Top impacts for activity 'treatment of metal part of electronics scrap, in copper, anode, by electrolytic refining' in location 'RoW' and method '('ReCiPe Midpoint (H)', 'metal depletion', 'MDP')':\n",
      "Exchange: market for metal part of electronics scrap, in copper, anode, Type: technosphere, Compartment: None, Impact: 0.008398254528570523\n",
      "Exchange: market for sulfuric acid, Type: technosphere, Compartment: None, Impact: 0.004152954759285835\n",
      "Exchange: market for anode refinery, Type: technosphere, Compartment: None, Impact: 0.0011255138752270227\n",
      "Exchange: market group for electricity, high voltage, Type: technosphere, Compartment: None, Impact: 0.0004102292175052326\n",
      "Exchange: market group for electricity, high voltage, Type: technosphere, Compartment: None, Impact: 0.00015210629719473494\n",
      "Calculating impacts for activity 'treatment of metal part of electronics scrap, in copper, anode, by electrolytic refining' in location 'RoW' using method '('ReCiPe Midpoint (H)', 'terrestrial acidification', 'TAP100')'...\n",
      "\n",
      "Top impacts for activity 'treatment of metal part of electronics scrap, in copper, anode, by electrolytic refining' in location 'RoW' and method '('ReCiPe Midpoint (H)', 'terrestrial acidification', 'TAP100')':\n",
      "Exchange: market for metal part of electronics scrap, in copper, anode, Type: technosphere, Compartment: None, Impact: 0.0017527777370442178\n",
      "Exchange: market group for electricity, high voltage, Type: technosphere, Compartment: None, Impact: 0.00023615921531420332\n",
      "Exchange: market for sulfuric acid, Type: technosphere, Compartment: None, Impact: 0.00011539119898132024\n",
      "Exchange: market group for electricity, high voltage, Type: technosphere, Compartment: None, Impact: 3.3917228498294214e-05\n",
      "Exchange: market group for electricity, high voltage, Type: technosphere, Compartment: None, Impact: 2.534541682645584e-05\n",
      "Calculating impacts for activity 'treatment of metal part of electronics scrap, in copper, anode, by electrolytic refining' in location 'RoW' using method '('ReCiPe Midpoint (H)', 'water depletion', 'WDP')'...\n",
      "\n",
      "Top impacts for activity 'treatment of metal part of electronics scrap, in copper, anode, by electrolytic refining' in location 'RoW' and method '('ReCiPe Midpoint (H)', 'water depletion', 'WDP')':\n",
      "Exchange: market for metal part of electronics scrap, in copper, anode, Type: technosphere, Compartment: None, Impact: 0.0006605925950997227\n",
      "Exchange: market group for electricity, high voltage, Type: technosphere, Compartment: None, Impact: 0.0002152380744076236\n",
      "Exchange: market group for electricity, high voltage, Type: technosphere, Compartment: None, Impact: 7.710915348091023e-05\n",
      "Exchange: market for water, completely softened, Type: technosphere, Compartment: None, Impact: 5.632553570578713e-05\n",
      "Exchange: market for water, completely softened, Type: technosphere, Compartment: None, Impact: 4.2150042824459075e-05\n",
      "Calculating impacts for activity 'treatment of metal part of electronics scrap, in copper, anode, by electrolytic refining' in location 'RoW' using method '('ReCiPe Midpoint (H)', 'urban land occupation', 'ULOP')'...\n",
      "\n",
      "Top impacts for activity 'treatment of metal part of electronics scrap, in copper, anode, by electrolytic refining' in location 'RoW' and method '('ReCiPe Midpoint (H)', 'urban land occupation', 'ULOP')':\n",
      "Exchange: market for metal part of electronics scrap, in copper, anode, Type: technosphere, Compartment: None, Impact: 0.013257769818170935\n",
      "Exchange: market group for electricity, high voltage, Type: technosphere, Compartment: None, Impact: 0.0005043486641102051\n",
      "Exchange: market for sulfuric acid, Type: technosphere, Compartment: None, Impact: 0.00020907648713462971\n",
      "Exchange: market group for electricity, high voltage, Type: technosphere, Compartment: None, Impact: 6.848945474360784e-05\n",
      "Exchange: market for anode refinery, Type: technosphere, Compartment: None, Impact: 4.109502139648322e-05\n",
      "Calculating impacts for activity 'treatment of metal part of electronics scrap, in copper, anode, by electrolytic refining' in location 'RoW' using method '('ReCiPe Midpoint (H)', 'ionising radiation', 'IRP_HE')'...\n",
      "\n",
      "Top impacts for activity 'treatment of metal part of electronics scrap, in copper, anode, by electrolytic refining' in location 'RoW' and method '('ReCiPe Midpoint (H)', 'ionising radiation', 'IRP_HE')':\n",
      "Exchange: market for metal part of electronics scrap, in copper, anode, Type: technosphere, Compartment: None, Impact: 0.0379454220903509\n",
      "Exchange: market group for electricity, high voltage, Type: technosphere, Compartment: None, Impact: 0.005617410931704058\n",
      "Exchange: market group for electricity, high voltage, Type: technosphere, Compartment: None, Impact: 0.003099695997440522\n",
      "Exchange: market group for electricity, high voltage, Type: technosphere, Compartment: None, Impact: 0.002281500715188208\n",
      "Exchange: market for electricity, high voltage, Type: technosphere, Compartment: None, Impact: 0.0012231136537361406\n",
      "Calculating impacts for activity 'treatment of metal part of electronics scrap, in copper, anode, by electrolytic refining' in location 'RoW' using method '('ReCiPe Midpoint (H)', 'fossil depletion', 'FDP')'...\n",
      "\n",
      "Top impacts for activity 'treatment of metal part of electronics scrap, in copper, anode, by electrolytic refining' in location 'RoW' and method '('ReCiPe Midpoint (H)', 'fossil depletion', 'FDP')':\n",
      "Exchange: market for metal part of electronics scrap, in copper, anode, Type: technosphere, Compartment: None, Impact: 0.13081758947881691\n",
      "Exchange: market group for electricity, high voltage, Type: technosphere, Compartment: None, Impact: 0.01592007134355836\n",
      "Exchange: market group for electricity, high voltage, Type: technosphere, Compartment: None, Impact: 0.00407508158134851\n",
      "Exchange: market group for electricity, high voltage, Type: technosphere, Compartment: None, Impact: 0.0017649663182993552\n",
      "Exchange: market for electricity, high voltage, Type: technosphere, Compartment: None, Impact: 0.0014831720132853915\n",
      "Calculating impacts for activity 'treatment of metal part of electronics scrap, in copper, anode, by electrolytic refining' in location 'RoW' using method '('ReCiPe Midpoint (H)', 'freshwater ecotoxicity', 'FETPinf')'...\n",
      "\n",
      "Top impacts for activity 'treatment of metal part of electronics scrap, in copper, anode, by electrolytic refining' in location 'RoW' and method '('ReCiPe Midpoint (H)', 'freshwater ecotoxicity', 'FETPinf')':\n",
      "Exchange: market for metal part of electronics scrap, in copper, anode, Type: technosphere, Compartment: None, Impact: 0.14541303336134176\n",
      "Exchange: Arsenic, ion, Type: biosphere, Compartment: ('water', 'surface water'), Impact: 0.010948236635272076\n",
      "Exchange: market for sulfuric acid, Type: technosphere, Compartment: None, Impact: 0.0019795745627894765\n",
      "Exchange: market group for electricity, high voltage, Type: technosphere, Compartment: None, Impact: 0.000466239934267409\n",
      "Exchange: market group for electricity, high voltage, Type: technosphere, Compartment: None, Impact: 0.00022916767648015513\n",
      "Calculating impacts for activity 'treatment of metal part of electronics scrap, in copper, anode, by electrolytic refining' in location 'RoW' using method '('ReCiPe Midpoint (H)', 'marine ecotoxicity', 'METPinf')'...\n"
     ]
    },
    {
     "ename": "KeyboardInterrupt",
     "evalue": "",
     "output_type": "error",
     "traceback": [
      "\u001b[1;31m---------------------------------------------------------------------------\u001b[0m",
      "\u001b[1;31mKeyboardInterrupt\u001b[0m                         Traceback (most recent call last)",
      "Cell \u001b[1;32mIn[10], line 2\u001b[0m\n\u001b[0;32m      1\u001b[0m \u001b[38;5;66;03m# Call the function\u001b[39;00m\n\u001b[1;32m----> 2\u001b[0m results \u001b[38;5;241m=\u001b[39m \u001b[43mcalculate_impacts_for_activities\u001b[49m\u001b[43m(\u001b[49m\u001b[43mactivities_ni\u001b[49m\u001b[43m,\u001b[49m\u001b[43m \u001b[49m\u001b[43mrecipe_midpoint_h\u001b[49m\u001b[43m,\u001b[49m\u001b[43m \u001b[49m\u001b[43mdb_name\u001b[49m\u001b[43m,\u001b[49m\u001b[43m \u001b[49m\u001b[43mreference_product_nickel\u001b[49m\u001b[43m)\u001b[49m\n",
      "File \u001b[1;32mc:\\Users\\berna\\OneDrive\\Documentos\\GitHub\\plca-NMC-oxide-BM-PhD\\lifecycle.py:208\u001b[0m, in \u001b[0;36mcalculate_impacts_for_activities\u001b[1;34m(activities_list, methods_list, database_name, reference_product)\u001b[0m\n\u001b[0;32m    206\u001b[0m \u001b[38;5;66;03m# Call the calculate_exchange_impacts function\u001b[39;00m\n\u001b[0;32m    207\u001b[0m \u001b[38;5;28;01mtry\u001b[39;00m:\n\u001b[1;32m--> 208\u001b[0m     sorted_impacts \u001b[38;5;241m=\u001b[39m \u001b[43mcalculate_exchange_impacts\u001b[49m\u001b[43m(\u001b[49m\u001b[43mactivity\u001b[49m\u001b[43m,\u001b[49m\u001b[43m \u001b[49m\u001b[43mmethod\u001b[49m\u001b[43m)\u001b[49m\n\u001b[0;32m    210\u001b[0m     \u001b[38;5;66;03m# Store results in the dictionary along with the activity object\u001b[39;00m\n\u001b[0;32m    211\u001b[0m     results[(activity_name, location, method)] \u001b[38;5;241m=\u001b[39m {\n\u001b[0;32m    212\u001b[0m         \u001b[38;5;124m'\u001b[39m\u001b[38;5;124mactivity\u001b[39m\u001b[38;5;124m'\u001b[39m: activity,\n\u001b[0;32m    213\u001b[0m         \u001b[38;5;124m'\u001b[39m\u001b[38;5;124mimpacts\u001b[39m\u001b[38;5;124m'\u001b[39m: sorted_impacts\n\u001b[0;32m    214\u001b[0m     }\n",
      "File \u001b[1;32mc:\\Users\\berna\\OneDrive\\Documentos\\GitHub\\plca-NMC-oxide-BM-PhD\\lifecycle.py:132\u001b[0m, in \u001b[0;36mcalculate_exchange_impacts\u001b[1;34m(activity, method)\u001b[0m\n\u001b[0;32m    126\u001b[0m     total_impact_contribution \u001b[38;5;241m=\u001b[39m lca\u001b[38;5;241m.\u001b[39mcharacterized_inventory[bio_flow_index, :]\u001b[38;5;241m.\u001b[39msum()\n\u001b[0;32m    127\u001b[0m     total_impact \u001b[38;5;241m+\u001b[39m\u001b[38;5;241m=\u001b[39m total_impact_contribution  \u001b[38;5;66;03m# Add to total impact\u001b[39;00m\n\u001b[0;32m    129\u001b[0m     exchange_details \u001b[38;5;241m=\u001b[39m {\n\u001b[0;32m    130\u001b[0m         \u001b[38;5;124m'\u001b[39m\u001b[38;5;124mexchange_name\u001b[39m\u001b[38;5;124m'\u001b[39m: biosphere_flow[\u001b[38;5;124m'\u001b[39m\u001b[38;5;124mname\u001b[39m\u001b[38;5;124m'\u001b[39m],\n\u001b[0;32m    131\u001b[0m         \u001b[38;5;124m'\u001b[39m\u001b[38;5;124mexchange_unit\u001b[39m\u001b[38;5;124m'\u001b[39m: biosphere_flow[\u001b[38;5;124m'\u001b[39m\u001b[38;5;124munit\u001b[39m\u001b[38;5;124m'\u001b[39m],\n\u001b[1;32m--> 132\u001b[0m         \u001b[38;5;124m'\u001b[39m\u001b[38;5;124mexchange_location\u001b[39m\u001b[38;5;124m'\u001b[39m: \u001b[43mbiosphere_flow\u001b[49m\u001b[38;5;241;43m.\u001b[39;49m\u001b[43mget\u001b[49m\u001b[43m(\u001b[49m\u001b[38;5;124;43m'\u001b[39;49m\u001b[38;5;124;43mlocation\u001b[39;49m\u001b[38;5;124;43m'\u001b[39;49m\u001b[43m,\u001b[49m\u001b[43m \u001b[49m\u001b[38;5;28;43;01mNone\u001b[39;49;00m\u001b[43m)\u001b[49m,\n\u001b[0;32m    133\u001b[0m         \u001b[38;5;124m'\u001b[39m\u001b[38;5;124mexchange_id\u001b[39m\u001b[38;5;124m'\u001b[39m: biosphere_flow\u001b[38;5;241m.\u001b[39mkey,    \u001b[38;5;66;03m# Add unique ID\u001b[39;00m\n\u001b[0;32m    134\u001b[0m         \u001b[38;5;124m'\u001b[39m\u001b[38;5;124mimpact\u001b[39m\u001b[38;5;124m'\u001b[39m: total_impact_contribution,\n\u001b[0;32m    135\u001b[0m         \u001b[38;5;124m'\u001b[39m\u001b[38;5;124mtype\u001b[39m\u001b[38;5;124m'\u001b[39m: exchange_type,\n\u001b[0;32m    136\u001b[0m         \u001b[38;5;124m'\u001b[39m\u001b[38;5;124mcompartment\u001b[39m\u001b[38;5;124m'\u001b[39m: biosphere_flow[\u001b[38;5;124m'\u001b[39m\u001b[38;5;124mcategories\u001b[39m\u001b[38;5;124m'\u001b[39m]\n\u001b[0;32m    137\u001b[0m     }\n\u001b[0;32m    138\u001b[0m     exchange_impacts\u001b[38;5;241m.\u001b[39mappend(exchange_details)\n\u001b[0;32m    140\u001b[0m \u001b[38;5;28;01melif\u001b[39;00m exchange_type \u001b[38;5;241m==\u001b[39m \u001b[38;5;124m'\u001b[39m\u001b[38;5;124mtechnosphere\u001b[39m\u001b[38;5;124m'\u001b[39m:\n\u001b[0;32m    141\u001b[0m     \u001b[38;5;66;03m# For technosphere exchanges, create a new LCA for the exchange\u001b[39;00m\n",
      "File \u001b[1;32m<frozen _collections_abc>:774\u001b[0m, in \u001b[0;36mget\u001b[1;34m(self, key, default)\u001b[0m\n",
      "File \u001b[1;32mc:\\Users\\berna\\.conda\\envs\\bw2premise-ei38compat-ok\\Lib\\site-packages\\bw2data\\backends\\peewee\\proxies.py:121\u001b[0m, in \u001b[0;36mActivity.__getitem__\u001b[1;34m(self, key)\u001b[0m\n\u001b[0;32m    118\u001b[0m     \u001b[38;5;28;01mreturn\u001b[39;00m \u001b[38;5;28mself\u001b[39m\u001b[38;5;241m.\u001b[39m_data[key]\n\u001b[0;32m    120\u001b[0m \u001b[38;5;28;01mtry\u001b[39;00m:\n\u001b[1;32m--> 121\u001b[0m     rp \u001b[38;5;241m=\u001b[39m \u001b[38;5;28;43mself\u001b[39;49m\u001b[38;5;241;43m.\u001b[39;49m\u001b[43mrp_exchange\u001b[49m\u001b[43m(\u001b[49m\u001b[43m)\u001b[49m\n\u001b[0;32m    122\u001b[0m \u001b[38;5;28;01mexcept\u001b[39;00m \u001b[38;5;167;01mValueError\u001b[39;00m:\n\u001b[0;32m    123\u001b[0m     \u001b[38;5;28;01mraise\u001b[39;00m \u001b[38;5;167;01mKeyError\u001b[39;00m\n",
      "File \u001b[1;32mc:\\Users\\berna\\.conda\\envs\\bw2premise-ei38compat-ok\\Lib\\site-packages\\bw2data\\backends\\peewee\\proxies.py:285\u001b[0m, in \u001b[0;36mActivity.rp_exchange\u001b[1;34m(self)\u001b[0m\n\u001b[0;32m    278\u001b[0m \u001b[38;5;28;01mdef\u001b[39;00m \u001b[38;5;21mrp_exchange\u001b[39m(\u001b[38;5;28mself\u001b[39m):\n\u001b[0;32m    279\u001b[0m \u001b[38;5;250m    \u001b[39m\u001b[38;5;124;03m\"\"\"Return an ``Exchange`` object corresponding to the reference production. Uses the following in order:\u001b[39;00m\n\u001b[0;32m    280\u001b[0m \n\u001b[0;32m    281\u001b[0m \u001b[38;5;124;03m    * The ``production`` exchange, if only one is present\u001b[39;00m\n\u001b[0;32m    282\u001b[0m \u001b[38;5;124;03m    * The ``production`` exchange with the same name as the activity ``reference product``.\u001b[39;00m\n\u001b[0;32m    283\u001b[0m \n\u001b[0;32m    284\u001b[0m \u001b[38;5;124;03m    Raises ``ValueError`` if no suitable exchange is found.\"\"\"\u001b[39;00m\n\u001b[1;32m--> 285\u001b[0m     candidates \u001b[38;5;241m=\u001b[39m \u001b[38;5;28mlist\u001b[39m(\u001b[38;5;28mself\u001b[39m\u001b[38;5;241m.\u001b[39mproduction())\n\u001b[0;32m    286\u001b[0m     \u001b[38;5;28;01mif\u001b[39;00m \u001b[38;5;28mlen\u001b[39m(candidates) \u001b[38;5;241m==\u001b[39m \u001b[38;5;241m1\u001b[39m:\n\u001b[0;32m    287\u001b[0m         \u001b[38;5;28;01mreturn\u001b[39;00m candidates[\u001b[38;5;241m0\u001b[39m]\n",
      "File \u001b[1;32mc:\\Users\\berna\\.conda\\envs\\bw2premise-ei38compat-ok\\Lib\\site-packages\\bw2data\\backends\\peewee\\proxies.py:79\u001b[0m, in \u001b[0;36mExchanges.__iter__\u001b[1;34m(self)\u001b[0m\n\u001b[0;32m     78\u001b[0m \u001b[38;5;28;01mdef\u001b[39;00m \u001b[38;5;21m__iter__\u001b[39m(\u001b[38;5;28mself\u001b[39m):\n\u001b[1;32m---> 79\u001b[0m \u001b[43m    \u001b[49m\u001b[38;5;28;43;01mfor\u001b[39;49;00m\u001b[43m \u001b[49m\u001b[43mobj\u001b[49m\u001b[43m \u001b[49m\u001b[38;5;129;43;01min\u001b[39;49;00m\u001b[43m \u001b[49m\u001b[38;5;28;43mself\u001b[39;49m\u001b[38;5;241;43m.\u001b[39;49m\u001b[43m_get_queryset\u001b[49m\u001b[43m(\u001b[49m\u001b[43m)\u001b[49m\u001b[43m:\u001b[49m\n\u001b[0;32m     80\u001b[0m \u001b[43m        \u001b[49m\u001b[38;5;28;43;01myield\u001b[39;49;00m\u001b[43m \u001b[49m\u001b[43mExchange\u001b[49m\u001b[43m(\u001b[49m\u001b[43mobj\u001b[49m\u001b[43m)\u001b[49m\n",
      "File \u001b[1;32mc:\\Users\\berna\\.conda\\envs\\bw2premise-ei38compat-ok\\Lib\\site-packages\\peewee.py:7243\u001b[0m, in \u001b[0;36mBaseModelSelect.__iter__\u001b[1;34m(self)\u001b[0m\n\u001b[0;32m   7241\u001b[0m \u001b[38;5;28;01mdef\u001b[39;00m \u001b[38;5;21m__iter__\u001b[39m(\u001b[38;5;28mself\u001b[39m):\n\u001b[0;32m   7242\u001b[0m     \u001b[38;5;28;01mif\u001b[39;00m \u001b[38;5;129;01mnot\u001b[39;00m \u001b[38;5;28mself\u001b[39m\u001b[38;5;241m.\u001b[39m_cursor_wrapper:\n\u001b[1;32m-> 7243\u001b[0m         \u001b[38;5;28;43mself\u001b[39;49m\u001b[38;5;241;43m.\u001b[39;49m\u001b[43mexecute\u001b[49m\u001b[43m(\u001b[49m\u001b[43m)\u001b[49m\n\u001b[0;32m   7244\u001b[0m     \u001b[38;5;28;01mreturn\u001b[39;00m \u001b[38;5;28miter\u001b[39m(\u001b[38;5;28mself\u001b[39m\u001b[38;5;241m.\u001b[39m_cursor_wrapper)\n",
      "File \u001b[1;32mc:\\Users\\berna\\.conda\\envs\\bw2premise-ei38compat-ok\\Lib\\site-packages\\peewee.py:2011\u001b[0m, in \u001b[0;36mdatabase_required.<locals>.inner\u001b[1;34m(self, database, *args, **kwargs)\u001b[0m\n\u001b[0;32m   2008\u001b[0m \u001b[38;5;28;01mif\u001b[39;00m \u001b[38;5;129;01mnot\u001b[39;00m database:\n\u001b[0;32m   2009\u001b[0m     \u001b[38;5;28;01mraise\u001b[39;00m InterfaceError(\u001b[38;5;124m'\u001b[39m\u001b[38;5;124mQuery must be bound to a database in order \u001b[39m\u001b[38;5;124m'\u001b[39m\n\u001b[0;32m   2010\u001b[0m                          \u001b[38;5;124m'\u001b[39m\u001b[38;5;124mto call \u001b[39m\u001b[38;5;124m\"\u001b[39m\u001b[38;5;132;01m%s\u001b[39;00m\u001b[38;5;124m\"\u001b[39m\u001b[38;5;124m.\u001b[39m\u001b[38;5;124m'\u001b[39m \u001b[38;5;241m%\u001b[39m method\u001b[38;5;241m.\u001b[39m\u001b[38;5;18m__name__\u001b[39m)\n\u001b[1;32m-> 2011\u001b[0m \u001b[38;5;28;01mreturn\u001b[39;00m \u001b[43mmethod\u001b[49m\u001b[43m(\u001b[49m\u001b[38;5;28;43mself\u001b[39;49m\u001b[43m,\u001b[49m\u001b[43m \u001b[49m\u001b[43mdatabase\u001b[49m\u001b[43m,\u001b[49m\u001b[43m \u001b[49m\u001b[38;5;241;43m*\u001b[39;49m\u001b[43margs\u001b[49m\u001b[43m,\u001b[49m\u001b[43m \u001b[49m\u001b[38;5;241;43m*\u001b[39;49m\u001b[38;5;241;43m*\u001b[39;49m\u001b[43mkwargs\u001b[49m\u001b[43m)\u001b[49m\n",
      "File \u001b[1;32mc:\\Users\\berna\\.conda\\envs\\bw2premise-ei38compat-ok\\Lib\\site-packages\\peewee.py:2082\u001b[0m, in \u001b[0;36mBaseQuery.execute\u001b[1;34m(self, database)\u001b[0m\n\u001b[0;32m   2080\u001b[0m \u001b[38;5;129m@database_required\u001b[39m\n\u001b[0;32m   2081\u001b[0m \u001b[38;5;28;01mdef\u001b[39;00m \u001b[38;5;21mexecute\u001b[39m(\u001b[38;5;28mself\u001b[39m, database):\n\u001b[1;32m-> 2082\u001b[0m     \u001b[38;5;28;01mreturn\u001b[39;00m \u001b[38;5;28;43mself\u001b[39;49m\u001b[38;5;241;43m.\u001b[39;49m\u001b[43m_execute\u001b[49m\u001b[43m(\u001b[49m\u001b[43mdatabase\u001b[49m\u001b[43m)\u001b[49m\n",
      "File \u001b[1;32mc:\\Users\\berna\\.conda\\envs\\bw2premise-ei38compat-ok\\Lib\\site-packages\\peewee.py:2255\u001b[0m, in \u001b[0;36mSelectBase._execute\u001b[1;34m(self, database)\u001b[0m\n\u001b[0;32m   2253\u001b[0m \u001b[38;5;28;01mdef\u001b[39;00m \u001b[38;5;21m_execute\u001b[39m(\u001b[38;5;28mself\u001b[39m, database):\n\u001b[0;32m   2254\u001b[0m     \u001b[38;5;28;01mif\u001b[39;00m \u001b[38;5;28mself\u001b[39m\u001b[38;5;241m.\u001b[39m_cursor_wrapper \u001b[38;5;129;01mis\u001b[39;00m \u001b[38;5;28;01mNone\u001b[39;00m:\n\u001b[1;32m-> 2255\u001b[0m         cursor \u001b[38;5;241m=\u001b[39m \u001b[43mdatabase\u001b[49m\u001b[38;5;241;43m.\u001b[39;49m\u001b[43mexecute\u001b[49m\u001b[43m(\u001b[49m\u001b[38;5;28;43mself\u001b[39;49m\u001b[43m)\u001b[49m\n\u001b[0;32m   2256\u001b[0m         \u001b[38;5;28mself\u001b[39m\u001b[38;5;241m.\u001b[39m_cursor_wrapper \u001b[38;5;241m=\u001b[39m \u001b[38;5;28mself\u001b[39m\u001b[38;5;241m.\u001b[39m_get_cursor_wrapper(cursor)\n\u001b[0;32m   2257\u001b[0m     \u001b[38;5;28;01mreturn\u001b[39;00m \u001b[38;5;28mself\u001b[39m\u001b[38;5;241m.\u001b[39m_cursor_wrapper\n",
      "File \u001b[1;32mc:\\Users\\berna\\.conda\\envs\\bw2premise-ei38compat-ok\\Lib\\site-packages\\peewee.py:3299\u001b[0m, in \u001b[0;36mDatabase.execute\u001b[1;34m(self, query, commit, **context_options)\u001b[0m\n\u001b[0;32m   3297\u001b[0m ctx \u001b[38;5;241m=\u001b[39m \u001b[38;5;28mself\u001b[39m\u001b[38;5;241m.\u001b[39mget_sql_context(\u001b[38;5;241m*\u001b[39m\u001b[38;5;241m*\u001b[39mcontext_options)\n\u001b[0;32m   3298\u001b[0m sql, params \u001b[38;5;241m=\u001b[39m ctx\u001b[38;5;241m.\u001b[39msql(query)\u001b[38;5;241m.\u001b[39mquery()\n\u001b[1;32m-> 3299\u001b[0m \u001b[38;5;28;01mreturn\u001b[39;00m \u001b[38;5;28;43mself\u001b[39;49m\u001b[38;5;241;43m.\u001b[39;49m\u001b[43mexecute_sql\u001b[49m\u001b[43m(\u001b[49m\u001b[43msql\u001b[49m\u001b[43m,\u001b[49m\u001b[43m \u001b[49m\u001b[43mparams\u001b[49m\u001b[43m)\u001b[49m\n",
      "File \u001b[1;32mc:\\Users\\berna\\.conda\\envs\\bw2premise-ei38compat-ok\\Lib\\site-packages\\peewee.py:3291\u001b[0m, in \u001b[0;36mDatabase.execute_sql\u001b[1;34m(self, sql, params, commit)\u001b[0m\n\u001b[0;32m   3289\u001b[0m \u001b[38;5;28;01mwith\u001b[39;00m __exception_wrapper__:\n\u001b[0;32m   3290\u001b[0m     cursor \u001b[38;5;241m=\u001b[39m \u001b[38;5;28mself\u001b[39m\u001b[38;5;241m.\u001b[39mcursor()\n\u001b[1;32m-> 3291\u001b[0m     cursor\u001b[38;5;241m.\u001b[39mexecute(sql, params \u001b[38;5;129;01mor\u001b[39;00m ())\n\u001b[0;32m   3292\u001b[0m \u001b[38;5;28;01mreturn\u001b[39;00m cursor\n",
      "\u001b[1;31mKeyboardInterrupt\u001b[0m: "
     ]
    }
   ],
   "source": [
    "# Call the function\n",
    "results = calculate_impacts_for_activities(activities_ni, recipe_midpoint_h, db_name, reference_product_nickel)"
   ]
  },
  {
   "cell_type": "code",
   "execution_count": null,
   "metadata": {},
   "outputs": [],
   "source": [
    "# Assuming results, project_name, and db_name are already defined\n",
    "df = results_to_dataframe(results, project_name, db_name)"
   ]
  },
  {
   "cell_type": "code",
   "execution_count": null,
   "metadata": {},
   "outputs": [],
   "source": [
    "df.to_csv('./contribution_analysis/EI38-EFcontributions_nickel.csv')"
   ]
  },
  {
   "cell_type": "code",
   "execution_count": null,
   "metadata": {},
   "outputs": [],
   "source": [
    "# Call the function\n",
    "results = calculate_impacts_for_activities(activities_li, recipe_midpoint_h, db_name)"
   ]
  },
  {
   "cell_type": "code",
   "execution_count": null,
   "metadata": {},
   "outputs": [],
   "source": [
    "# Assuming results, project_name, and db_name are already defined\n",
    "df = results_to_dataframe(results, project_name, db_name)"
   ]
  },
  {
   "cell_type": "code",
   "execution_count": null,
   "metadata": {},
   "outputs": [],
   "source": [
    "df.to_csv('./contribution_analysis/EI38-EFcontributions_lithium.csv')"
   ]
  },
  {
   "cell_type": "code",
   "execution_count": null,
   "metadata": {},
   "outputs": [],
   "source": [
    "# Call the function\n",
    "results = calculate_impacts_for_activities(activities_mn, recipe_midpoint_h, db_name, reference_product_manganese)"
   ]
  },
  {
   "cell_type": "code",
   "execution_count": null,
   "metadata": {},
   "outputs": [],
   "source": [
    "# Assuming results, project_name, and db_name are already defined\n",
    "df = results_to_dataframe(results, project_name, db_name)"
   ]
  },
  {
   "cell_type": "code",
   "execution_count": null,
   "metadata": {},
   "outputs": [],
   "source": [
    "df.to_csv('./contribution_analysis/EFcontributions_manganese.csv')"
   ]
  },
  {
   "cell_type": "code",
   "execution_count": null,
   "metadata": {},
   "outputs": [],
   "source": [
    "# Call the function\n",
    "results = calculate_impacts_for_activities(activities_nmcoxide, recipe_midpoint_h, db_name)"
   ]
  },
  {
   "cell_type": "code",
   "execution_count": null,
   "metadata": {},
   "outputs": [],
   "source": [
    "# Assuming results, project_name, and db_name are already defined\n",
    "df = results_to_dataframe(results, project_name, db_name)"
   ]
  },
  {
   "cell_type": "code",
   "execution_count": null,
   "metadata": {},
   "outputs": [],
   "source": [
    "df.to_csv('./contribution_analysis/EI38-Fcontributions_nmcoxide.csv')"
   ]
  },
  {
   "cell_type": "code",
   "execution_count": null,
   "metadata": {},
   "outputs": [],
   "source": []
  }
 ],
 "metadata": {
  "kernelspec": {
   "display_name": "Python 3",
   "language": "python",
   "name": "python3"
  },
  "language_info": {
   "codemirror_mode": {
    "name": "ipython",
    "version": 3
   },
   "file_extension": ".py",
   "mimetype": "text/x-python",
   "name": "python",
   "nbconvert_exporter": "python",
   "pygments_lexer": "ipython3",
   "version": "3.11.8"
  }
 },
 "nbformat": 4,
 "nbformat_minor": 2
}
