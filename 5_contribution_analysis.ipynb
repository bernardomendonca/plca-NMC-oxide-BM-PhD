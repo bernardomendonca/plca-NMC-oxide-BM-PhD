{
 "cells": [
  {
   "cell_type": "markdown",
   "metadata": {},
   "source": [
    "# Libraries"
   ]
  },
  {
   "cell_type": "code",
   "execution_count": 1,
   "metadata": {},
   "outputs": [],
   "source": [
    "# Import BW25 packages. You'll notice the packages are imported individually, unlike a one-and-done import with BW2.\n",
    "import bw2data as bd\n",
    "# import bw2io as bi\n",
    "import bw2calc as bc\n",
    "# import bw2analyzer as bwa\n",
    "# import matplotlib.pyplot as plt\n",
    "# from collections import defaultdict\n",
    "import numpy as np\n",
    "# import seaborn as sns\n",
    "# import pandas as pd"
   ]
  },
  {
   "cell_type": "code",
   "execution_count": 2,
   "metadata": {},
   "outputs": [],
   "source": [
    "from bw2analyzer import ContributionAnalysis"
   ]
  },
  {
   "cell_type": "code",
   "execution_count": 3,
   "metadata": {},
   "outputs": [],
   "source": [
    "# Alias np.NaN to np.nan for backward compatibility\n",
    "np.NaN = np.nan"
   ]
  },
  {
   "cell_type": "markdown",
   "metadata": {},
   "source": [
    "# 1. Support Functions"
   ]
  },
  {
   "cell_type": "code",
   "execution_count": 4,
   "metadata": {},
   "outputs": [],
   "source": [
    "from database_setup import find_activity_by_name_product_location\n",
    "from database_setup import results_to_dataframe\n",
    "\n",
    "from lifecycle import calculate_exchange_impacts\n",
    "from lifecycle import calculate_impacts_for_activities\n",
    "from lifecycle import run_comprehensive_lcia\n",
    "from lifecycle import find_most_impactful_exchanges\n",
    "\n",
    "from config import activities_nmcoxide, reference_product_nmcoxide\n",
    "from config import recipe_midpoint_h, activities_li, reference_product_lithium, activities_ni, reference_product_nickel, activities_mn, reference_product_manganese"
   ]
  },
  {
   "cell_type": "code",
   "execution_count": null,
   "metadata": {},
   "outputs": [],
   "source": []
  },
  {
   "cell_type": "markdown",
   "metadata": {},
   "source": [
    "# 2. Imports and Declarations"
   ]
  },
  {
   "cell_type": "code",
   "execution_count": 5,
   "metadata": {},
   "outputs": [],
   "source": [
    "#Creating/accessing the project\n",
    "bd.projects.set_current(\"LNV-EI38-202502025\")"
   ]
  },
  {
   "cell_type": "code",
   "execution_count": 6,
   "metadata": {},
   "outputs": [
    {
     "data": {
      "text/plain": [
       "['biosphere3',\n",
       " 'ecoinvent 3.8 cutoff',\n",
       " 'EI38_cutoff_remind_SSP1-Base_2025_baseline',\n",
       " 'EI38_cutoff_remind_SSP1-Base_2030_baseline',\n",
       " 'EI38_cutoff_remind_SSP1-Base_2035_baseline',\n",
       " 'EI38_cutoff_remind_SSP1-Base_2040_baseline',\n",
       " 'EI38_cutoff_remind_SSP2-Base_2025_baseline',\n",
       " 'EI38_cutoff_remind_SSP2-Base_2030_baseline',\n",
       " 'EI38_cutoff_remind_SSP2-Base_2035_baseline',\n",
       " 'EI38_cutoff_remind_SSP2-Base_2040_baseline',\n",
       " 'EI38_cutoff_remind_SSP5-Base_2025_baseline',\n",
       " 'EI38_cutoff_remind_SSP5-Base_2030_baseline',\n",
       " 'EI38_cutoff_remind_SSP5-Base_2035_baseline',\n",
       " 'EI38_cutoff_remind_SSP5-Base_2040_baseline',\n",
       " 'EI38_cutoff_remind_SSP1-Base_2025_VSI',\n",
       " 'EI38_cutoff_remind_SSP1-Base_2030_VSI',\n",
       " 'EI38_cutoff_remind_SSP1-Base_2035_VSI',\n",
       " 'EI38_cutoff_remind_SSP1-Base_2040_VSI',\n",
       " 'EI38_cutoff_remind_SSP2-Base_2025_VSI',\n",
       " 'EI38_cutoff_remind_SSP2-Base_2030_VSI',\n",
       " 'EI38_cutoff_remind_SSP2-Base_2035_VSI',\n",
       " 'EI38_cutoff_remind_SSP2-Base_2040_VSI',\n",
       " 'EI38_cutoff_remind_SSP5-Base_2025_VSI',\n",
       " 'EI38_cutoff_remind_SSP5-Base_2030_VSI',\n",
       " 'EI38_cutoff_remind_SSP5-Base_2035_VSI',\n",
       " 'EI38_cutoff_remind_SSP5-Base_2040_VSI']"
      ]
     },
     "execution_count": 6,
     "metadata": {},
     "output_type": "execute_result"
    }
   ],
   "source": [
    "list(bd.databases)"
   ]
  },
  {
   "cell_type": "code",
   "execution_count": 7,
   "metadata": {},
   "outputs": [],
   "source": [
    "db_name = 'EI38_cutoff_remind_SSP1-Base_2025_baseline'"
   ]
  },
  {
   "cell_type": "markdown",
   "metadata": {},
   "source": [
    "# 3. Activity and pLCIA"
   ]
  },
  {
   "cell_type": "code",
   "execution_count": null,
   "metadata": {},
   "outputs": [],
   "source": [
    "# Search term from updated SSP1-Base2020 database.\n",
    "activity_name = 'platinum group metal mine operation, ore with high palladium content'\n",
    "# Load the database\n",
    "db_name = 'EI38_cutoff_remind_SSP1-Base_2020_energy'\n",
    "# Use your function to find the activity\n",
    "activity = find_activity_by_name_product_location(db_name, activity_name, reference_product_nickel)"
   ]
  },
  {
   "cell_type": "code",
   "execution_count": null,
   "metadata": {},
   "outputs": [],
   "source": [
    "# Search term from updated SSP1-Base2020 database.\n",
    "activity_name = 'lithium carbonate production, from spodumene'\n",
    "location = 'RoW'\n",
    "# Load the database\n",
    "db_name = 'EI38_cutoff_remind_SSP1-Base_2020_energy'\n",
    "# Use your function to find the activity\n",
    "activity = find_activity_by_name_product_location(db_name, activity_name, location=location)"
   ]
  },
  {
   "cell_type": "code",
   "execution_count": null,
   "metadata": {},
   "outputs": [],
   "source": [
    "# Search term from updated SSP1-Base2020 database.\n",
    "activity_name = 'smelting and refining of nickel concentrate, 7% Ni'\n",
    "location = 'CN'\n",
    "# Load the database\n",
    "db_name = 'EI38_cutoff_remind_SSP1-Base_2020_energy'\n",
    "# Use your function to find the activity\n",
    "activity = find_activity_by_name_product_location(db_name, activity_name, location=location)"
   ]
  },
  {
   "cell_type": "code",
   "execution_count": null,
   "metadata": {},
   "outputs": [],
   "source": [
    "# Search term from updated SSP1-Base2020 database.\n",
    "activity_name = 'nickel mine operation and benefication to nickel concentrate, 16% Ni'\n",
    "location = 'CA-QC'\n",
    "# Load the database\n",
    "db_name = 'EI38_cutoff_remind_SSP1-Base_2025_baseline'\n",
    "# Use your function to find the activity\n",
    "activity = find_activity_by_name_product_location(db_name, activity_name, 'nickel concentrate, 16% Ni', location=location)"
   ]
  },
  {
   "cell_type": "markdown",
   "metadata": {},
   "source": [
    "# 4. Contribution Analysis"
   ]
  },
  {
   "cell_type": "markdown",
   "metadata": {},
   "source": [
    "## 4.1. Confirming elementary flows"
   ]
  },
  {
   "cell_type": "code",
   "execution_count": null,
   "metadata": {},
   "outputs": [],
   "source": [
    "list(activity.exchanges())"
   ]
  },
  {
   "cell_type": "code",
   "execution_count": null,
   "metadata": {},
   "outputs": [],
   "source": [
    "list(activity.biosphere())"
   ]
  },
  {
   "cell_type": "markdown",
   "metadata": {},
   "source": [
    "## 4.2. Verifying LCIA"
   ]
  },
  {
   "cell_type": "markdown",
   "metadata": {},
   "source": [
    "### 4.2.1. Single impact category"
   ]
  },
  {
   "cell_type": "code",
   "execution_count": null,
   "metadata": {},
   "outputs": [],
   "source": [
    "# Define the functional unit (e.g., 1 unit of the activity)\n",
    "functional_unit = {activity: 1}\n",
    "\n",
    "# Define the LCIA method you want to use, e.g., ReCiPe Endpoint\n",
    "method = ('ReCiPe Endpoint (H,A)', 'human health', 'total')\n",
    "\n",
    "# Create an LCA object\n",
    "lca = bc.LCA(functional_unit, method)\n",
    "\n",
    "# Perform the LCI and LCIA\n",
    "lca.lci()\n",
    "lca.lcia()\n",
    "lca.score"
   ]
  },
  {
   "cell_type": "markdown",
   "metadata": {},
   "source": [
    "### 4.2.2. All impact categories"
   ]
  },
  {
   "cell_type": "code",
   "execution_count": null,
   "metadata": {},
   "outputs": [],
   "source": [
    "'''def run_comprehensive_lcia(activity, methods_list):\n",
    "    \"\"\"\n",
    "    Perform a comprehensive LCIA for a given activity across multiple impact categories.\n",
    "    \n",
    "    Parameters:\n",
    "    - activity: The specific activity for which the LCIA is to be performed.\n",
    "    - methods_list: A list of tuples representing the impact assessment methods.\n",
    "\n",
    "    Returns:\n",
    "    - lca_results: A dictionary with methods as keys and their corresponding LCIA scores as values.\n",
    "    \"\"\"\n",
    "\n",
    "    # Define the functional unit (e.g., 1 unit of the activity)\n",
    "    functional_unit = {activity: 1}\n",
    "\n",
    "    # Initialize a dictionary to store the results\n",
    "    lca_results = defaultdict(float)\n",
    "\n",
    "    # Loop over all impact categories in the method\n",
    "    for method in methods_list:\n",
    "        # Run LCI and LCIA\n",
    "        lca = bc.LCA(functional_unit, method)\n",
    "        lca.lci()\n",
    "        lca.lcia()\n",
    "        \n",
    "        # Store the result for each category\n",
    "        lca_results[method] = lca.score\n",
    "\n",
    "    # Output the results\n",
    "    for category, score in lca_results.items():\n",
    "        print(f\"{category}: {score}\")\n",
    "    \n",
    "    return lca_results'''"
   ]
  },
  {
   "cell_type": "code",
   "execution_count": null,
   "metadata": {},
   "outputs": [],
   "source": [
    "run_comprehensive_lcia(activity, recipe_midpoint_h)"
   ]
  },
  {
   "cell_type": "code",
   "execution_count": null,
   "metadata": {},
   "outputs": [],
   "source": [
    "ca = ContributionAnalysis()\n",
    "\n",
    "# Get the top processes contributing to the LCIA score\n",
    "top_processes = ca.annotated_top_processes(lca, limit=10)  # You can adjust the limit as needed\n",
    "print(\"Top Processes:\")\n",
    "for process in top_processes:\n",
    "    print(process)"
   ]
  },
  {
   "cell_type": "markdown",
   "metadata": {},
   "source": [
    "# 5. Finding most impactful exchanges and exporting - Per activity"
   ]
  },
  {
   "cell_type": "code",
   "execution_count": null,
   "metadata": {},
   "outputs": [],
   "source": [
    "activity"
   ]
  },
  {
   "cell_type": "code",
   "execution_count": null,
   "metadata": {},
   "outputs": [],
   "source": [
    "# Define the functional unit (e.g., 1 unit of the activity)\n",
    "functional_unit = {activity: 1}\n",
    "\n",
    "# Define the LCIA method you want to use, e.g., ReCiPe Endpoint\n",
    "method = ('ReCiPe Endpoint (H,A)', 'human health', 'total')"
   ]
  },
  {
   "cell_type": "code",
   "execution_count": null,
   "metadata": {},
   "outputs": [],
   "source": [
    "'''def find_most_impactful_exchanges(lca, top_n=2):\n",
    "    \"\"\"\n",
    "    Find the most impactful exchanges (both technosphere and biosphere) from a characterized LCA.\n",
    "    \n",
    "    Parameters:\n",
    "    - lca: A Brightway2 LCA object that has already been run.\n",
    "    - top_n: Number of top contributors to return.\n",
    "    \n",
    "    Returns:\n",
    "    - A list of tuples containing the top N most impactful exchanges and their contributions.\n",
    "    \"\"\"\n",
    "    # Initialize a list to store contributions\n",
    "    exchange_contributions = []\n",
    "    \n",
    "    # Get the reverse dictionaries for technosphere and biosphere\n",
    "    rev_techno, rev_prod, rev_bio = lca.reverse_dict()\n",
    "\n",
    "    # Loop over the non-zero elements of the characterized inventory\n",
    "    for row, col in zip(*lca.characterized_inventory.nonzero()):\n",
    "        contribution = lca.characterized_inventory[row, col]\n",
    "        \n",
    "        # Check if this is a biosphere or technosphere exchange\n",
    "        if col in rev_bio:\n",
    "            # Biosphere flow\n",
    "            flow = rev_bio[col]\n",
    "            flow_name = bd.get_activity(flow)[\"name\"]\n",
    "            exchange_contributions.append((contribution, flow_name, \"biosphere\"))\n",
    "        else:\n",
    "            # Technosphere flow (process contribution)\n",
    "            process = rev_techno[col]\n",
    "            process_name = bd.get_activity(process)[\"name\"]\n",
    "            exchange_contributions.append((contribution, process_name, \"technosphere\"))\n",
    "\n",
    "    # Sort contributions by absolute impact (descending)\n",
    "    exchange_contributions.sort(key=lambda x: abs(x[0]), reverse=True)\n",
    "    \n",
    "    return exchange_contributions[:top_n]'''"
   ]
  },
  {
   "cell_type": "code",
   "execution_count": null,
   "metadata": {},
   "outputs": [],
   "source": [
    "'''# After running LCI and LCIA\n",
    "lca = bc.LCA({activity: 1}, method)\n",
    "lca.lci()\n",
    "lca.lcia()\n",
    "'''\n",
    "\n",
    "# Find the top 10 most impactful exchanges\n",
    "most_impactful_exchanges = find_most_impactful_exchanges(lca, top_n=10)\n",
    "\n",
    "# Print the results\n",
    "for contribution, name, exchange_type in most_impactful_exchanges:\n",
    "    print(f\"Contribution: {contribution:.5f}, Name: {name}, Type: {exchange_type}\")"
   ]
  },
  {
   "cell_type": "markdown",
   "metadata": {},
   "source": [
    "# 6. Output of all impacts, listed by EFs with most contribution"
   ]
  },
  {
   "cell_type": "code",
   "execution_count": null,
   "metadata": {},
   "outputs": [],
   "source": [
    "activities_mining = [\n",
    "    # ('nickel mine operation and benefication to nickel concentrate, 7% Ni','CN')\n",
    "    #('platinum group metal, extraction and refinery operations', 'ZA')\n",
    "    # ('platinum group metal, mine and concentration operations', 'ZA')\n",
    "    # ('processing of nickel-rich materials', 'GLO')\n",
    "    # ('smelting and refining of nickel concentrate, 16% Ni', 'GLO')\n",
    "    # ('nickel mine operation and benefication to nickel concentrate, 16% Ni', 'CA-QC')\n",
    "    # ('cobalt production', 'GLO')\n",
    "    # ('spodumene production','RoW')\n",
    "    #('lithium brine inspissation','GLO')\n",
    "    # ('lithium carbonate production, from concentrated brine','GLO')\n",
    "    # ('manganese(III) oxide production','CN')\n",
    "    # ('manganese sulfate production','GLO')\n",
    "    ('manganese concentrate production','GLO')\n",
    "]\n",
    "\n",
    "reference_product_nickel_mining = 'manganese concentrate'\n",
    "\n",
    "#'platinum group metal concentrate'\n",
    "# 'nickel, class 1'\n"
   ]
  },
  {
   "cell_type": "code",
   "execution_count": null,
   "metadata": {},
   "outputs": [],
   "source": [
    "results = calculate_impacts_for_activities(activities_mining, recipe_midpoint_h, db_name, reference_product_nickel_mining)"
   ]
  },
  {
   "cell_type": "code",
   "execution_count": null,
   "metadata": {},
   "outputs": [],
   "source": [
    "results"
   ]
  },
  {
   "cell_type": "code",
   "execution_count": null,
   "metadata": {},
   "outputs": [],
   "source": [
    "# Assuming results, project_name, and db_name are already defined\n",
    "df = results_to_dataframe(results, project_name, db_name)"
   ]
  },
  {
   "cell_type": "code",
   "execution_count": null,
   "metadata": {},
   "outputs": [],
   "source": [
    "df.to_csv('14_A.csv')"
   ]
  },
  {
   "cell_type": "markdown",
   "metadata": {},
   "source": [
    "# 7. Calling Ni, Li, and Mn"
   ]
  },
  {
   "cell_type": "markdown",
   "metadata": {},
   "source": [
    "## 7.1. Nickel"
   ]
  },
  {
   "cell_type": "code",
   "execution_count": null,
   "metadata": {},
   "outputs": [],
   "source": [
    "# Call the function\n",
    "results = calculate_impacts_for_activities(activities_ni, recipe_midpoint_h, db_name, reference_product_nickel)"
   ]
  },
  {
   "cell_type": "code",
   "execution_count": null,
   "metadata": {},
   "outputs": [],
   "source": [
    "results"
   ]
  },
  {
   "cell_type": "code",
   "execution_count": null,
   "metadata": {},
   "outputs": [],
   "source": [
    "# Assuming results, project_name, and db_name are already defined\n",
    "df = results_to_dataframe(results, project_name, db_name)"
   ]
  },
  {
   "cell_type": "code",
   "execution_count": null,
   "metadata": {},
   "outputs": [],
   "source": [
    "df.to_csv('EFcontributions_nickel.csv')"
   ]
  },
  {
   "cell_type": "markdown",
   "metadata": {},
   "source": [
    "## 7.2. Lithium"
   ]
  },
  {
   "cell_type": "code",
   "execution_count": null,
   "metadata": {},
   "outputs": [],
   "source": [
    "# Call the function\n",
    "results = calculate_impacts_for_activities(activities_li, recipe_midpoint_h, db_name)"
   ]
  },
  {
   "cell_type": "code",
   "execution_count": null,
   "metadata": {},
   "outputs": [],
   "source": [
    "# Assuming results, project_name, and db_name are already defined\n",
    "df = results_to_dataframe(results, project_name, db_name)"
   ]
  },
  {
   "cell_type": "code",
   "execution_count": null,
   "metadata": {},
   "outputs": [],
   "source": [
    "df.to_csv('EFcontributions_lithium.csv')"
   ]
  },
  {
   "cell_type": "markdown",
   "metadata": {},
   "source": [
    "## 7.3. Manganese"
   ]
  },
  {
   "cell_type": "code",
   "execution_count": null,
   "metadata": {},
   "outputs": [],
   "source": [
    "# Call the function\n",
    "results = calculate_impacts_for_activities(activities_mn, recipe_midpoint_h, db_name, reference_product_manganese)"
   ]
  },
  {
   "cell_type": "code",
   "execution_count": null,
   "metadata": {},
   "outputs": [],
   "source": [
    "# Assuming results, project_name, and db_name are already defined\n",
    "df = results_to_dataframe(results, project_name, db_name)"
   ]
  },
  {
   "cell_type": "code",
   "execution_count": null,
   "metadata": {},
   "outputs": [],
   "source": [
    "df.to_csv('EFcontributions_manganese.csv')"
   ]
  },
  {
   "cell_type": "markdown",
   "metadata": {},
   "source": [
    "# 8. NMC oxide"
   ]
  },
  {
   "cell_type": "code",
   "execution_count": 19,
   "metadata": {},
   "outputs": [],
   "source": [
    "db_name = 'EI38_cutoff_remind_SSP1-Base_2025_VSI'"
   ]
  },
  {
   "cell_type": "code",
   "execution_count": 20,
   "metadata": {},
   "outputs": [
    {
     "name": "stdout",
     "output_type": "stream",
     "text": [
      "Calculating impacts for activity 'NMC111 oxide production, for Li-ion battery' in location 'CN' using method '('ReCiPe Midpoint (H)', 'terrestrial ecotoxicity', 'TETPinf')'...\n",
      "\n",
      "Top impacts for activity 'NMC111 oxide production, for Li-ion battery' in location 'CN' and method '('ReCiPe Midpoint (H)', 'terrestrial ecotoxicity', 'TETPinf')':\n",
      "Exchange: market for NMC111 hydroxide, Type: technosphere, Compartment: None, Impact: 0.029586979168489517\n",
      "Exchange: market for lithium carbonate, Type: technosphere, Compartment: None, Impact: 0.002057554754835445\n",
      "Exchange: market group for electricity, medium voltage, Type: technosphere, Compartment: None, Impact: 0.0004022230923480618\n",
      "Exchange: market for chemical factory, organics, Type: technosphere, Compartment: None, Impact: 9.889450795349648e-05\n",
      "Exchange: Carbon dioxide, fossil, Type: biosphere, Compartment: ('air',), Impact: 0.0\n",
      "Calculating impacts for activity 'NMC111 oxide production, for Li-ion battery' in location 'CN' using method '('ReCiPe Midpoint (H)', 'natural land transformation', 'NLTP')'...\n",
      "\n",
      "Top impacts for activity 'NMC111 oxide production, for Li-ion battery' in location 'CN' and method '('ReCiPe Midpoint (H)', 'natural land transformation', 'NLTP')':\n",
      "Exchange: market for NMC111 hydroxide, Type: technosphere, Compartment: None, Impact: 0.005910767660097028\n",
      "Exchange: market for lithium carbonate, Type: technosphere, Compartment: None, Impact: 0.00048370774194400265\n",
      "Exchange: market group for electricity, medium voltage, Type: technosphere, Compartment: None, Impact: 0.00020830103701378243\n",
      "Exchange: market for chemical factory, organics, Type: technosphere, Compartment: None, Impact: 3.872320142728588e-05\n",
      "Exchange: Carbon dioxide, fossil, Type: biosphere, Compartment: ('air',), Impact: 0.0\n",
      "Calculating impacts for activity 'NMC111 oxide production, for Li-ion battery' in location 'CN' using method '('ReCiPe Midpoint (H)', 'photochemical oxidant formation', 'POFP')'...\n",
      "\n",
      "Top impacts for activity 'NMC111 oxide production, for Li-ion battery' in location 'CN' and method '('ReCiPe Midpoint (H)', 'photochemical oxidant formation', 'POFP')':\n",
      "Exchange: market for NMC111 hydroxide, Type: technosphere, Compartment: None, Impact: 0.06078321198759978\n",
      "Exchange: market for lithium carbonate, Type: technosphere, Compartment: None, Impact: 0.010432405981631292\n",
      "Exchange: market group for electricity, medium voltage, Type: technosphere, Compartment: None, Impact: 0.006819702557007001\n",
      "Exchange: market for chemical factory, organics, Type: technosphere, Compartment: None, Impact: 0.0004119520758524695\n",
      "Exchange: Carbon dioxide, fossil, Type: biosphere, Compartment: ('air',), Impact: 0.0\n",
      "Calculating impacts for activity 'NMC111 oxide production, for Li-ion battery' in location 'CN' using method '('ReCiPe Midpoint (H)', 'human toxicity', 'HTPinf')'...\n",
      "\n",
      "Top impacts for activity 'NMC111 oxide production, for Li-ion battery' in location 'CN' and method '('ReCiPe Midpoint (H)', 'human toxicity', 'HTPinf')':\n",
      "Exchange: market for NMC111 hydroxide, Type: technosphere, Compartment: None, Impact: 24.892925676448257\n",
      "Exchange: market for lithium carbonate, Type: technosphere, Compartment: None, Impact: 1.490836922720451\n",
      "Exchange: market group for electricity, medium voltage, Type: technosphere, Compartment: None, Impact: 0.9758076462204432\n",
      "Exchange: market for chemical factory, organics, Type: technosphere, Compartment: None, Impact: 0.23485187013238018\n",
      "Exchange: Carbon dioxide, fossil, Type: biosphere, Compartment: ('air',), Impact: 0.0\n",
      "Calculating impacts for activity 'NMC111 oxide production, for Li-ion battery' in location 'CN' using method '('ReCiPe Midpoint (H)', 'marine eutrophication', 'MEP')'...\n",
      "\n",
      "Top impacts for activity 'NMC111 oxide production, for Li-ion battery' in location 'CN' and method '('ReCiPe Midpoint (H)', 'marine eutrophication', 'MEP')':\n",
      "Exchange: market for NMC111 hydroxide, Type: technosphere, Compartment: None, Impact: 0.02694860293751012\n",
      "Exchange: market for lithium carbonate, Type: technosphere, Compartment: None, Impact: 0.011386263252354782\n",
      "Exchange: market group for electricity, medium voltage, Type: technosphere, Compartment: None, Impact: 0.00251055313239839\n",
      "Exchange: market for chemical factory, organics, Type: technosphere, Compartment: None, Impact: 0.0001308323998500818\n",
      "Exchange: Carbon dioxide, fossil, Type: biosphere, Compartment: ('air',), Impact: 0.0\n",
      "Calculating impacts for activity 'NMC111 oxide production, for Li-ion battery' in location 'CN' using method '('ReCiPe Midpoint (H)', 'climate change', 'GWP100')'...\n",
      "\n",
      "Top impacts for activity 'NMC111 oxide production, for Li-ion battery' in location 'CN' and method '('ReCiPe Midpoint (H)', 'climate change', 'GWP100')':\n",
      "Exchange: market for NMC111 hydroxide, Type: technosphere, Compartment: None, Impact: 16.259840319720276\n",
      "Exchange: market group for electricity, medium voltage, Type: technosphere, Compartment: None, Impact: 4.718624012007325\n",
      "Exchange: Carbon dioxide, fossil, Type: biosphere, Compartment: ('air',), Impact: 3.8672437530722465\n",
      "Exchange: market for lithium carbonate, Type: technosphere, Compartment: None, Impact: 2.353701118169566\n",
      "Exchange: market for chemical factory, organics, Type: technosphere, Compartment: None, Impact: 0.09551083831081648\n",
      "Calculating impacts for activity 'NMC111 oxide production, for Li-ion battery' in location 'CN' using method '('ReCiPe Midpoint (H)', 'particulate matter formation', 'PMFP')'...\n",
      "\n",
      "Top impacts for activity 'NMC111 oxide production, for Li-ion battery' in location 'CN' and method '('ReCiPe Midpoint (H)', 'particulate matter formation', 'PMFP')':\n",
      "Exchange: market for NMC111 hydroxide, Type: technosphere, Compartment: None, Impact: 0.058759532826361746\n",
      "Exchange: market for lithium carbonate, Type: technosphere, Compartment: None, Impact: 0.009565696537004847\n",
      "Exchange: market group for electricity, medium voltage, Type: technosphere, Compartment: None, Impact: 0.006240924027657108\n",
      "Exchange: market for chemical factory, organics, Type: technosphere, Compartment: None, Impact: 0.0003923334185526703\n",
      "Exchange: Carbon dioxide, fossil, Type: biosphere, Compartment: ('air',), Impact: 0.0\n",
      "Calculating impacts for activity 'NMC111 oxide production, for Li-ion battery' in location 'CN' using method '('ReCiPe Midpoint (H)', 'agricultural land occupation', 'ALOP')'...\n",
      "\n",
      "Top impacts for activity 'NMC111 oxide production, for Li-ion battery' in location 'CN' and method '('ReCiPe Midpoint (H)', 'agricultural land occupation', 'ALOP')':\n",
      "Exchange: market for NMC111 hydroxide, Type: technosphere, Compartment: None, Impact: 0.8775974647380592\n",
      "Exchange: market for lithium carbonate, Type: technosphere, Compartment: None, Impact: 0.1321948959992842\n",
      "Exchange: market group for electricity, medium voltage, Type: technosphere, Compartment: None, Impact: 0.07279259684804289\n",
      "Exchange: market for chemical factory, organics, Type: technosphere, Compartment: None, Impact: 0.02372658560442149\n",
      "Exchange: Carbon dioxide, fossil, Type: biosphere, Compartment: ('air',), Impact: 0.0\n",
      "Calculating impacts for activity 'NMC111 oxide production, for Li-ion battery' in location 'CN' using method '('ReCiPe Midpoint (H)', 'freshwater eutrophication', 'FEP')'...\n",
      "\n",
      "Top impacts for activity 'NMC111 oxide production, for Li-ion battery' in location 'CN' and method '('ReCiPe Midpoint (H)', 'freshwater eutrophication', 'FEP')':\n",
      "Exchange: market for NMC111 hydroxide, Type: technosphere, Compartment: None, Impact: 0.006727401695318404\n",
      "Exchange: market for lithium carbonate, Type: technosphere, Compartment: None, Impact: 0.0016285167903245818\n",
      "Exchange: market group for electricity, medium voltage, Type: technosphere, Compartment: None, Impact: 0.0010255580877191301\n",
      "Exchange: market for chemical factory, organics, Type: technosphere, Compartment: None, Impact: 0.00010109040986383479\n",
      "Exchange: Carbon dioxide, fossil, Type: biosphere, Compartment: ('air',), Impact: 0.0\n",
      "Calculating impacts for activity 'NMC111 oxide production, for Li-ion battery' in location 'CN' using method '('ReCiPe Midpoint (H)', 'metal depletion', 'MDP')'...\n",
      "\n",
      "Top impacts for activity 'NMC111 oxide production, for Li-ion battery' in location 'CN' and method '('ReCiPe Midpoint (H)', 'metal depletion', 'MDP')':\n",
      "Exchange: market for NMC111 hydroxide, Type: technosphere, Compartment: None, Impact: 97.77757999148865\n",
      "Exchange: market for lithium carbonate, Type: technosphere, Compartment: None, Impact: 0.3049474449135625\n",
      "Exchange: market for chemical factory, organics, Type: technosphere, Compartment: None, Impact: 0.09454183141099905\n",
      "Exchange: market group for electricity, medium voltage, Type: technosphere, Compartment: None, Impact: 0.06288746140071136\n",
      "Exchange: Carbon dioxide, fossil, Type: biosphere, Compartment: ('air',), Impact: 0.0\n",
      "Calculating impacts for activity 'NMC111 oxide production, for Li-ion battery' in location 'CN' using method '('ReCiPe Midpoint (H)', 'terrestrial acidification', 'TAP100')'...\n",
      "\n",
      "Top impacts for activity 'NMC111 oxide production, for Li-ion battery' in location 'CN' and method '('ReCiPe Midpoint (H)', 'terrestrial acidification', 'TAP100')':\n",
      "Exchange: market for NMC111 hydroxide, Type: technosphere, Compartment: None, Impact: 0.17485990057562756\n",
      "Exchange: market for lithium carbonate, Type: technosphere, Compartment: None, Impact: 0.018062752000991417\n",
      "Exchange: market group for electricity, medium voltage, Type: technosphere, Compartment: None, Impact: 0.00963389881573047\n",
      "Exchange: market for chemical factory, organics, Type: technosphere, Compartment: None, Impact: 0.0009030556683573943\n",
      "Exchange: Carbon dioxide, fossil, Type: biosphere, Compartment: ('air',), Impact: 0.0\n",
      "Calculating impacts for activity 'NMC111 oxide production, for Li-ion battery' in location 'CN' using method '('ReCiPe Midpoint (H)', 'water depletion', 'WDP')'...\n",
      "\n",
      "Top impacts for activity 'NMC111 oxide production, for Li-ion battery' in location 'CN' and method '('ReCiPe Midpoint (H)', 'water depletion', 'WDP')':\n",
      "Exchange: market for NMC111 hydroxide, Type: technosphere, Compartment: None, Impact: 0.3396713346142515\n",
      "Exchange: market for lithium carbonate, Type: technosphere, Compartment: None, Impact: 0.03756623299902286\n",
      "Exchange: market group for electricity, medium voltage, Type: technosphere, Compartment: None, Impact: 0.016299379658827485\n",
      "Exchange: market for chemical factory, organics, Type: technosphere, Compartment: None, Impact: 0.0008689554268985736\n",
      "Exchange: Carbon dioxide, fossil, Type: biosphere, Compartment: ('air',), Impact: 0.0\n",
      "Calculating impacts for activity 'NMC111 oxide production, for Li-ion battery' in location 'CN' using method '('ReCiPe Midpoint (H)', 'urban land occupation', 'ULOP')'...\n",
      "\n",
      "Top impacts for activity 'NMC111 oxide production, for Li-ion battery' in location 'CN' and method '('ReCiPe Midpoint (H)', 'urban land occupation', 'ULOP')':\n",
      "Exchange: market for NMC111 hydroxide, Type: technosphere, Compartment: None, Impact: 0.5278603018144954\n",
      "Exchange: market for lithium carbonate, Type: technosphere, Compartment: None, Impact: 0.08038170779338076\n",
      "Exchange: market group for electricity, medium voltage, Type: technosphere, Compartment: None, Impact: 0.0594848634817041\n",
      "Exchange: market for chemical factory, organics, Type: technosphere, Compartment: None, Impact: 0.005868570451020857\n",
      "Exchange: Carbon dioxide, fossil, Type: biosphere, Compartment: ('air',), Impact: 0.0\n",
      "Calculating impacts for activity 'NMC111 oxide production, for Li-ion battery' in location 'CN' using method '('ReCiPe Midpoint (H)', 'ionising radiation', 'IRP_HE')'...\n",
      "\n",
      "Top impacts for activity 'NMC111 oxide production, for Li-ion battery' in location 'CN' and method '('ReCiPe Midpoint (H)', 'ionising radiation', 'IRP_HE')':\n",
      "Exchange: market for NMC111 hydroxide, Type: technosphere, Compartment: None, Impact: 8.082325023116558\n",
      "Exchange: market group for electricity, medium voltage, Type: technosphere, Compartment: None, Impact: 0.1980837765760464\n",
      "Exchange: market for lithium carbonate, Type: technosphere, Compartment: None, Impact: 0.18112897658378213\n",
      "Exchange: market for chemical factory, organics, Type: technosphere, Compartment: None, Impact: 0.012781299863708698\n",
      "Exchange: Carbon dioxide, fossil, Type: biosphere, Compartment: ('air',), Impact: 0.0\n",
      "Calculating impacts for activity 'NMC111 oxide production, for Li-ion battery' in location 'CN' using method '('ReCiPe Midpoint (H)', 'fossil depletion', 'FDP')'...\n",
      "\n",
      "Top impacts for activity 'NMC111 oxide production, for Li-ion battery' in location 'CN' and method '('ReCiPe Midpoint (H)', 'fossil depletion', 'FDP')':\n",
      "Exchange: market for NMC111 hydroxide, Type: technosphere, Compartment: None, Impact: 6.767106514773795\n",
      "Exchange: market group for electricity, medium voltage, Type: technosphere, Compartment: None, Impact: 0.9680733691381785\n",
      "Exchange: market for lithium carbonate, Type: technosphere, Compartment: None, Impact: 0.7812654727229543\n",
      "Exchange: market for chemical factory, organics, Type: technosphere, Compartment: None, Impact: 0.025555175147369553\n",
      "Exchange: Carbon dioxide, fossil, Type: biosphere, Compartment: ('air',), Impact: 0.0\n",
      "Calculating impacts for activity 'NMC111 oxide production, for Li-ion battery' in location 'CN' using method '('ReCiPe Midpoint (H)', 'freshwater ecotoxicity', 'FETPinf')'...\n",
      "\n",
      "Top impacts for activity 'NMC111 oxide production, for Li-ion battery' in location 'CN' and method '('ReCiPe Midpoint (H)', 'freshwater ecotoxicity', 'FETPinf')':\n",
      "Exchange: market for NMC111 hydroxide, Type: technosphere, Compartment: None, Impact: 2.3390671838166477\n",
      "Exchange: market for lithium carbonate, Type: technosphere, Compartment: None, Impact: 0.21960378735747418\n",
      "Exchange: market group for electricity, medium voltage, Type: technosphere, Compartment: None, Impact: 0.07068159342803171\n",
      "Exchange: market for chemical factory, organics, Type: technosphere, Compartment: None, Impact: 0.03591745048343444\n",
      "Exchange: Carbon dioxide, fossil, Type: biosphere, Compartment: ('air',), Impact: 0.0\n",
      "Calculating impacts for activity 'NMC111 oxide production, for Li-ion battery' in location 'CN' using method '('ReCiPe Midpoint (H)', 'marine ecotoxicity', 'METPinf')'...\n",
      "\n",
      "Top impacts for activity 'NMC111 oxide production, for Li-ion battery' in location 'CN' and method '('ReCiPe Midpoint (H)', 'marine ecotoxicity', 'METPinf')':\n",
      "Exchange: market for NMC111 hydroxide, Type: technosphere, Compartment: None, Impact: 2.173499359428369\n",
      "Exchange: market for lithium carbonate, Type: technosphere, Compartment: None, Impact: 0.13208433611729986\n",
      "Exchange: market group for electricity, medium voltage, Type: technosphere, Compartment: None, Impact: 0.06409694694431851\n",
      "Exchange: market for chemical factory, organics, Type: technosphere, Compartment: None, Impact: 0.03251581142058718\n",
      "Exchange: Carbon dioxide, fossil, Type: biosphere, Compartment: ('air',), Impact: 0.0\n",
      "Calculating impacts for activity 'NMC111 oxide production, for Li-ion battery' in location 'CN' using method '('ReCiPe Midpoint (H)', 'ozone depletion', 'ODPinf')'...\n",
      "\n",
      "Top impacts for activity 'NMC111 oxide production, for Li-ion battery' in location 'CN' and method '('ReCiPe Midpoint (H)', 'ozone depletion', 'ODPinf')':\n",
      "Exchange: market for NMC111 hydroxide, Type: technosphere, Compartment: None, Impact: 2.7738440376431208e-06\n",
      "Exchange: market for lithium carbonate, Type: technosphere, Compartment: None, Impact: 3.0628614983999323e-07\n",
      "Exchange: market group for electricity, medium voltage, Type: technosphere, Compartment: None, Impact: 3.180143661867907e-08\n",
      "Exchange: market for chemical factory, organics, Type: technosphere, Compartment: None, Impact: 6.3962371982401585e-09\n",
      "Exchange: Carbon dioxide, fossil, Type: biosphere, Compartment: ('air',), Impact: 0.0\n"
     ]
    }
   ],
   "source": [
    "# Call the function\n",
    "results = calculate_impacts_for_activities(activities_nmcoxide, recipe_midpoint_h, db_name)"
   ]
  },
  {
   "cell_type": "code",
   "execution_count": 21,
   "metadata": {},
   "outputs": [],
   "source": [
    "# Assuming results, project_name, and db_name are already defined\n",
    "df = results_to_dataframe(results, project_name, db_name)"
   ]
  },
  {
   "cell_type": "code",
   "execution_count": 22,
   "metadata": {},
   "outputs": [],
   "source": [
    "df.to_csv('EFcontributions_nmcoxide-postVSI2025.csv')"
   ]
  },
  {
   "cell_type": "code",
   "execution_count": null,
   "metadata": {},
   "outputs": [],
   "source": [
    "'''\n",
    "Running again post permanent modify\n",
    "\n",
    "'''"
   ]
  }
 ],
 "metadata": {
  "kernelspec": {
   "display_name": "bw2premise-ei38compat-ok",
   "language": "python",
   "name": "python3"
  },
  "language_info": {
   "codemirror_mode": {
    "name": "ipython",
    "version": 3
   },
   "file_extension": ".py",
   "mimetype": "text/x-python",
   "name": "python",
   "nbconvert_exporter": "python",
   "pygments_lexer": "ipython3",
   "version": "3.11.8"
  }
 },
 "nbformat": 4,
 "nbformat_minor": 2
}
