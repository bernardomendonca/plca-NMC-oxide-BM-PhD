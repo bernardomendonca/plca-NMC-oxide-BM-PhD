{
 "cells": [
  {
   "cell_type": "markdown",
   "metadata": {},
   "source": [
    "# Libraries"
   ]
  },
  {
   "cell_type": "code",
   "execution_count": 1,
   "metadata": {},
   "outputs": [],
   "source": [
    "import bw2data as bd\n",
    "import numpy as np"
   ]
  },
  {
   "cell_type": "code",
   "execution_count": 2,
   "metadata": {},
   "outputs": [],
   "source": [
    "# Alias np.NaN to np.nan for backward compatibility\n",
    "np.NaN = np.nan"
   ]
  },
  {
   "cell_type": "markdown",
   "metadata": {},
   "source": [
    "# 1. Support Functions"
   ]
  },
  {
   "cell_type": "code",
   "execution_count": 3,
   "metadata": {},
   "outputs": [],
   "source": [
    "from database_setup import results_to_dataframe\n",
    "from lifecycle import calculate_impacts_for_activities\n",
    "from data_parsing import combine_csvs_into_excel, combine_csvs_in_order\n",
    "\n",
    "from config import recipe_midpoint_h\n",
    "from config import activities_li, reference_product_lithium, activities_ni, reference_product_nickel, activities_mn, reference_product_manganese\n",
    "from config import activities_nmcoxide, reference_product_nmcoxide"
   ]
  },
  {
   "cell_type": "markdown",
   "metadata": {},
   "source": [
    "# 2. Imports and Declarations"
   ]
  },
  {
   "cell_type": "code",
   "execution_count": 4,
   "metadata": {},
   "outputs": [],
   "source": [
    "project_name = \"LNV-EI38-202502027\""
   ]
  },
  {
   "cell_type": "code",
   "execution_count": 5,
   "metadata": {},
   "outputs": [],
   "source": [
    "#Creating/accessing the project\n",
    "bd.projects.set_current(\"LNV-EI38-20250227\")"
   ]
  },
  {
   "cell_type": "code",
   "execution_count": 6,
   "metadata": {},
   "outputs": [],
   "source": [
    "# We'll be performing the contribution analysis on our original databse\n",
    "db_name = 'ecoinvent 3.8 cutoff'"
   ]
  },
  {
   "cell_type": "markdown",
   "metadata": {},
   "source": [
    "# 3. Individual EFs"
   ]
  },
  {
   "cell_type": "code",
   "execution_count": null,
   "metadata": {},
   "outputs": [],
   "source": [
    "'''\n",
    "\n",
    "The next section of the code allows to generate and export a contribution analysis in any activities we want.\n",
    "\n",
    "The following segment (section 4), will solely focus on the activities we already decided on previously.\n",
    "\n",
    "'''"
   ]
  },
  {
   "cell_type": "code",
   "execution_count": null,
   "metadata": {},
   "outputs": [],
   "source": [
    "activities_of_interest = [\n",
    "    # ('nickel mine operation and benefication to nickel concentrate, 7% Ni','CN')\n",
    "    #('platinum group metal, extraction and refinery operations', 'ZA')\n",
    "    # ('platinum group metal, mine and concentration operations', 'ZA')\n",
    "    # ('processing of nickel-rich materials', 'GLO')\n",
    "    # ('smelting and refining of nickel concentrate, 16% Ni', 'GLO')\n",
    "    # ('nickel mine operation and benefication to nickel concentrate, 16% Ni', 'CA-QC')\n",
    "    # ('cobalt production', 'GLO')\n",
    "    # ('spodumene production','RoW')\n",
    "    # ('lithium brine inspissation','GLO')\n",
    "    # ('lithium carbonate production, from concentrated brine','GLO')\n",
    "    # ('manganese(III) oxide production','CN')\n",
    "    # ('manganese sulfate production','GLO')\n",
    "    # ('manganese concentrate production','GLO')\n",
    "]\n",
    "\n",
    "# reference_product_nickel_mining = 'manganese concentrate'\n",
    "\n",
    "#'platinum group metal concentrate'\n",
    "# 'nickel, class 1'\n"
   ]
  },
  {
   "cell_type": "code",
   "execution_count": null,
   "metadata": {},
   "outputs": [],
   "source": [
    "# results = calculate_impacts_for_activities(activities_of_interest, recipe_midpoint_h, db_name, reference_product_nickel)\n",
    "# df = results_to_dataframe(results, project_name, db_name)"
   ]
  },
  {
   "cell_type": "code",
   "execution_count": null,
   "metadata": {},
   "outputs": [],
   "source": [
    "# file_name = 'activities_name_here'\n",
    "# df.to_csv(f'{file_name}.csv')"
   ]
  },
  {
   "cell_type": "markdown",
   "metadata": {},
   "source": [
    "# 4. Elementary Flows from Ni, Mn, Li activities"
   ]
  },
  {
   "cell_type": "markdown",
   "metadata": {},
   "source": [
    "## 4.1. Nickel"
   ]
  },
  {
   "cell_type": "code",
   "execution_count": 11,
   "metadata": {},
   "outputs": [],
   "source": [
    "ni_file_name = 'EFcontributions_nickel.csv'"
   ]
  },
  {
   "cell_type": "code",
   "execution_count": null,
   "metadata": {},
   "outputs": [],
   "source": [
    "# Call the function\n",
    "results = calculate_impacts_for_activities(activities_ni, recipe_midpoint_h, db_name, reference_product_nickel)"
   ]
  },
  {
   "cell_type": "code",
   "execution_count": null,
   "metadata": {},
   "outputs": [],
   "source": [
    "# Assuming results, project_name, and db_name are already defined\n",
    "df = results_to_dataframe(results, project_name, db_name)"
   ]
  },
  {
   "cell_type": "code",
   "execution_count": null,
   "metadata": {},
   "outputs": [],
   "source": [
    "df.to_csv(f'./contribution_analysis/{ni_file_name}')"
   ]
  },
  {
   "cell_type": "markdown",
   "metadata": {},
   "source": [
    "## 4.2. Lithium"
   ]
  },
  {
   "cell_type": "code",
   "execution_count": 12,
   "metadata": {},
   "outputs": [],
   "source": [
    "li_file_name = 'EFcontributions_lithium.csv'"
   ]
  },
  {
   "cell_type": "code",
   "execution_count": null,
   "metadata": {},
   "outputs": [],
   "source": [
    "# Call the function\n",
    "results = calculate_impacts_for_activities(activities_li, recipe_midpoint_h, db_name)"
   ]
  },
  {
   "cell_type": "code",
   "execution_count": null,
   "metadata": {},
   "outputs": [],
   "source": [
    "# Assuming results, project_name, and db_name are already defined\n",
    "df = results_to_dataframe(results, project_name, db_name)"
   ]
  },
  {
   "cell_type": "code",
   "execution_count": null,
   "metadata": {},
   "outputs": [],
   "source": [
    "df.to_csv(f'./contribution_analysis/{li_file_name}')"
   ]
  },
  {
   "cell_type": "markdown",
   "metadata": {},
   "source": [
    "## 4.3. Manganese"
   ]
  },
  {
   "cell_type": "code",
   "execution_count": 13,
   "metadata": {},
   "outputs": [],
   "source": [
    "mn_file_name = 'EFcontributions_manganese.csv'"
   ]
  },
  {
   "cell_type": "code",
   "execution_count": null,
   "metadata": {},
   "outputs": [],
   "source": [
    "# Call the function\n",
    "results = calculate_impacts_for_activities(activities_mn, recipe_midpoint_h, db_name, reference_product_manganese)"
   ]
  },
  {
   "cell_type": "code",
   "execution_count": null,
   "metadata": {},
   "outputs": [],
   "source": [
    "# Assuming results, project_name, and db_name are already defined\n",
    "df = results_to_dataframe(results, project_name, db_name)"
   ]
  },
  {
   "cell_type": "code",
   "execution_count": null,
   "metadata": {},
   "outputs": [],
   "source": [
    "df.to_csv(f'./contribution_analysis/{mn_file_name}')"
   ]
  },
  {
   "cell_type": "markdown",
   "metadata": {},
   "source": [
    "## 4.4. NMC oxide"
   ]
  },
  {
   "cell_type": "code",
   "execution_count": null,
   "metadata": {},
   "outputs": [],
   "source": [
    "# Call the function\n",
    "results = calculate_impacts_for_activities(activities_nmcoxide, recipe_midpoint_h, db_name)"
   ]
  },
  {
   "cell_type": "code",
   "execution_count": null,
   "metadata": {},
   "outputs": [],
   "source": [
    "# Assuming results, project_name, and db_name are already defined\n",
    "df = results_to_dataframe(results, project_name, db_name)"
   ]
  },
  {
   "cell_type": "code",
   "execution_count": null,
   "metadata": {},
   "outputs": [],
   "source": [
    "df.to_csv('./contribution_analysis/EFcontributions_nmcoxide-postVSI2025.csv')"
   ]
  },
  {
   "cell_type": "code",
   "execution_count": null,
   "metadata": {},
   "outputs": [],
   "source": [
    "# We'll run these again post activities' modification"
   ]
  },
  {
   "cell_type": "markdown",
   "metadata": {},
   "source": [
    "# 5. Organising the Excel to be analysed"
   ]
  },
  {
   "cell_type": "code",
   "execution_count": null,
   "metadata": {},
   "outputs": [],
   "source": [
    "###\n",
    "# Right now I haven't figured the best way to do this, but here it goes:\n",
    "# I'm breaking down the contribution analysis per:\n",
    "## 1. Subsystem (e.g. Nickel )\n",
    "## 2. Activities in that subsystem"
   ]
  },
  {
   "cell_type": "code",
   "execution_count": 15,
   "metadata": {},
   "outputs": [
    {
     "name": "stdout",
     "output_type": "stream",
     "text": [
      "Excel file saved as: processes_and_contributions.xlsx\n"
     ]
    }
   ],
   "source": [
    "# Combine the CSVs into a single Excel file\n",
    "folder = \"contribution_analysis\"\n",
    "# Proof of concept, improve on the code:\n",
    "output_xlsx = \"processes_and_contributions.xlsx\"\n",
    "\n",
    "csv_files = [\n",
    "    ni_file_name,\n",
    "    li_file_name,\n",
    "    mn_file_name,\n",
    "]\n",
    "\n",
    "combine_csvs_in_order(\n",
    "    folder_path=folder,\n",
    "    csv_list=csv_files,\n",
    "    output_file=output_xlsx,\n",
    "    activity_col=\"activity_id\"\n",
    ")"
   ]
  },
  {
   "cell_type": "code",
   "execution_count": null,
   "metadata": {},
   "outputs": [],
   "source": [
    "# A dictionary mapping (database, activity_uuid) --> short label\n",
    "ACTIVITY_ID_MAP = {\n",
    "    (\"EI38_cutoff_remind_SSP1-Base_2025_baseline\", \"7b370e739f88f9729064638bf7210c78\"): \"2\",\n",
    "    (\"EI38_cutoff_remind_SSP1-Base_2025_baseline\", \"9f9aaa855cf07859c28cb6fc84e3a2fd\"): \"3_A\",\n",
    "    (\"EI38_cutoff_remind_SSP1-Base_2025_baseline\", \"bde92d093e012fc74b4cf23bd73869be\"): \"3_B\",\n",
    "    # WARNING: Next line has the same tuple as the one two lines below but different labels\n",
    "    (\"EI38_cutoff_remind_SSP1-Base_2025_baseline\", \"ecc38c81906feff810d89bb6c123560a\"): \"4_A\",\n",
    "    (\"EI38_cutoff_remind_SSP1-Base_2025_baseline\", \"f5ec689f258fc22994162fe53b025b0d\"): \"4_B\",\n",
    "    # The following line overwrites the key (\"EI38_cutoff_remind_SSP1-Base_2025_baseline\",\"ecc38c81906feff810d89bb6c123560a\"):\n",
    "    (\"EI38_cutoff_remind_SSP1-Base_2025_baseline\", \"ecc38c81906feff810d89bb6c123560a\"): \"5_A\",\n",
    "    (\"EI38_cutoff_remind_SSP1-Base_2025_baseline\", \"b2ab8da844b26789a68138f5eebc21eb\"): \"5_B\",\n",
    "    (\"EI38_cutoff_remind_SSP1-Base_2025_baseline\", \"fb970e38e35ff930ea6ca1865d33cc52\"): \"6_A\",\n",
    "    (\"EI38_cutoff_remind_SSP1-Base_2020_energy\",   \"3dd23e526c5de9474538ce20d43a402f\"): \"6_B\",\n",
    "\n",
    "    (\"EI38_cutoff_remind_SSP1-Base_2025_baseline\", \"d0953092b5b10c411f947eb33b8f4add\"): \"8\",\n",
    "\n",
    "    (\"EI38_cutoff_remind_SSP1-Base_2025_baseline\", \"31bda81a4c4a3a273f827fc8832f4da3\"): \"9_A\",\n",
    "    (\"EI38_cutoff_remind_SSP1-Base_2025_baseline\", \"0b5870b08f744c37b54945c34adb7dcd\"): \"9_B\",\n",
    "    (\"EI38_cutoff_remind_SSP1-Base_2025_baseline\", \"adfb686ff68d3eac8aaa5ea0cb3c169e\"): \"9_C\",\n",
    "    # Overwrites 9_B if the first line was repeated, etc.\n",
    "    (\"EI38_cutoff_remind_SSP1-Base_2025_baseline\", \"31bda81a4c4a3a273f827fc8832f4da3\"): \"10_A\",\n",
    "    (\"EI38_cutoff_remind_SSP1-Base_2025_baseline\", \"0b5870b08f744c37b54945c34adb7dcd\"): \"10_B\",\n",
    "    (\"ecoinvent 3.8 cutoff\",                       \"25a7644f55c4c4c890356f515cb671fa\"): \"10_C\",\n",
    "    (\"EI38_cutoff_remind_SSP1-Base_2025_baseline\", \"d0617f6353f60771cfb7dcdfe6c78ee1\"): \"11_A\",\n",
    "    (\"EI38_cutoff_remind_SSP1-Base_2025_baseline\", \"4bcdd0870049fd3b15b4cfa1b4ed580f\"): \"11_B\",\n",
    "\n",
    "    (\"EI38_cutoff_remind_SSP1-Base_2025_baseline\", \"52112ff78d75aabf60bd4b63055d0a61\"): \"13_A\",\n",
    "    (\"EI38_cutoff_remind_SSP1-Base_2025_baseline\", \"dc75ef318dcef071d7f6c578aba30921\"): \"13_B\",\n",
    "    (\"EI38_cutoff_remind_SSP1-Base_2025_baseline\", \"3d908539006e39885946109381e53214\"): \"13_C\",\n",
    "    (\"EI38_cutoff_remind_SSP1-Base_2025_baseline\", \"4c6809146c7ded41c88cfcb01111a595\"): \"13_D\",\n",
    "    # Overwrites 13_A if repeated, etc.\n",
    "    (\"EI38_cutoff_remind_SSP1-Base_2025_baseline\", \"52112ff78d75aabf60bd4b63055d0a61\"): \"14_A\",\n",
    "    (\"EI38_cutoff_remind_SSP1-Base_2025_baseline\", \"ac80cf413845bda6587f576899e27405\"): \"14_B\",\n",
    "}\n"
   ]
  }
 ],
 "metadata": {
  "kernelspec": {
   "display_name": "Python 3",
   "language": "python",
   "name": "python3"
  },
  "language_info": {
   "codemirror_mode": {
    "name": "ipython",
    "version": 3
   },
   "file_extension": ".py",
   "mimetype": "text/x-python",
   "name": "python",
   "nbconvert_exporter": "python",
   "pygments_lexer": "ipython3",
   "version": "3.11.8"
  }
 },
 "nbformat": 4,
 "nbformat_minor": 2
}
