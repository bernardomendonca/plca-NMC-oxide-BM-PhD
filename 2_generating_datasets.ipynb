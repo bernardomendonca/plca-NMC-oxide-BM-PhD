{
 "cells": [
  {
   "cell_type": "code",
   "execution_count": 1,
   "metadata": {},
   "outputs": [
    {
     "data": {
      "text/plain": [
       "\"\\nWhen working with ecoinvent 3.8, I need to use brightway2 + a downgrade of bw2io in order to properly create the biosphere3 database and to properly load ecoinvent 3.8 cutoff\\n\\nThe ecoinvent 3.8 cutoff dataset has been loaded in the previous notebook, so now we need to use a different environment:\\nThe environment setup that can do this is bw2premise-ei38compat-ok\\n\\nIn this notebook, we'll be using brightway2.5\\n\""
      ]
     },
     "execution_count": 1,
     "metadata": {},
     "output_type": "execute_result"
    }
   ],
   "source": [
    "'''\n",
    "When working with ecoinvent 3.8, I need to use brightway2 + a downgrade of bw2io in order to properly create the biosphere3 database and to properly load ecoinvent 3.8 cutoff\n",
    "\n",
    "The ecoinvent 3.8 cutoff dataset has been loaded in the previous notebook, so now we need to use a different environment:\n",
    "The environment setup that can do this is bw2premise-ei38compat-ok\n",
    "\n",
    "In this notebook, we'll be using brightway2.5\n",
    "'''"
   ]
  },
  {
   "cell_type": "markdown",
   "metadata": {},
   "source": [
    "# Libraries"
   ]
  },
  {
   "cell_type": "code",
   "execution_count": 2,
   "metadata": {},
   "outputs": [],
   "source": [
    "# Import BW25 packages.\n",
    "import bw2data as bd"
   ]
  },
  {
   "cell_type": "markdown",
   "metadata": {},
   "source": [
    "# 1. Support Functions"
   ]
  },
  {
   "cell_type": "code",
   "execution_count": 3,
   "metadata": {},
   "outputs": [],
   "source": [
    "from database_setup import scenario_db_name"
   ]
  },
  {
   "cell_type": "markdown",
   "metadata": {},
   "source": [
    "# 2. Imports and Declarations"
   ]
  },
  {
   "cell_type": "code",
   "execution_count": 4,
   "metadata": {},
   "outputs": [
    {
     "data": {
      "text/plain": [
       "Brightway2 projects manager with 18 objects:\n",
       "\tLNV-EI38\n",
       "\tLNV-EI38-20241204\n",
       "\tLNV-EI38-202502025\n",
       "\tLNV-EI38-20250225\n",
       "\tLNV-EI38-20250226\n",
       "\tLNV-EI38-20250227\n",
       "\tLNV-EI38-20250303\n",
       "\tLNV-EI38-20250314\n",
       "\tLNV-EI38-test20241120\n",
       "\tLNV-EI38-test20241120-BaselineEI38\n",
       "\tV1_pLCA_LiIon\n",
       "\tV1_pLCA_liIon\n",
       "\tV2_pLCA_LiIon\n",
       "\tV2_pLCA_liIon\n",
       "\tV3_pLCA_liion\n",
       "\tdefault\n",
       "\ttest-EI38-SSP1-Base\n",
       "\tv3_liion\n",
       "Use `projects.report()` to get a report on all projects."
      ]
     },
     "execution_count": 4,
     "metadata": {},
     "output_type": "execute_result"
    }
   ],
   "source": [
    "bd.projects"
   ]
  },
  {
   "cell_type": "code",
   "execution_count": 5,
   "metadata": {},
   "outputs": [],
   "source": [
    "#Creating/accessing the project\n",
    "# bd.projects.set_current(\"LNV-EI38-20250227\") #Creating/accessing the project\n",
    "\n",
    "\n",
    "# Fixing NMVOC:\n",
    "# bd.projects.set_current(\"LNV-EI38-20250303\") #Creating/accessing the project\n",
    "\n",
    "# Fixing logistic regression:\n",
    "bd.projects.set_current(\"LNV-EI38-20250314\") #Creating/accessing the project"
   ]
  },
  {
   "cell_type": "markdown",
   "metadata": {},
   "source": [
    "# 3. Incorporating Background Scenarios with Premise"
   ]
  },
  {
   "cell_type": "code",
   "execution_count": 6,
   "metadata": {},
   "outputs": [],
   "source": [
    "# From here:\n",
    "# https://premise.readthedocs.io/en/latest/introduction.html#default-iam-scenarios\n",
    "from premise import *"
   ]
  },
  {
   "cell_type": "code",
   "execution_count": 7,
   "metadata": {},
   "outputs": [
    {
     "data": {
      "text/plain": [
       "\"\\nWe'll incorporate the following scenarios, each per database:\\nTRUE - SSP1-None (REMIND SSP1-Base)\\n- SSP1-RCP1.9 (REMIND SSP1-PkBudg500)\\n- SSP1-RCP2.6 (REMIND SSP1-PkBudg1150)\\nTRUE - SSP2-None (REMIND SSP2-Base)\\n- SSP2-RCP1.9 (REMIND SSP2-PkBudg500)\\n- SSP2-RCP2.6 (REMIND SSP2-PkBudg1150)\\nTRUE - SSP5-Base\\n\\nFrom:\\n2025 to 2040\\n\\nAnd Create:\\n- Baseline (keep without transforming)\\n- BL + VSI\\n\""
      ]
     },
     "execution_count": 7,
     "metadata": {},
     "output_type": "execute_result"
    }
   ],
   "source": [
    "'''\n",
    "We'll incorporate the following scenarios, each per database:\n",
    "TRUE - SSP1-None (REMIND SSP1-Base)\n",
    "- SSP1-RCP1.9 (REMIND SSP1-PkBudg500)\n",
    "- SSP1-RCP2.6 (REMIND SSP1-PkBudg1150)\n",
    "TRUE - SSP2-None (REMIND SSP2-Base)\n",
    "- SSP2-RCP1.9 (REMIND SSP2-PkBudg500)\n",
    "- SSP2-RCP2.6 (REMIND SSP2-PkBudg1150)\n",
    "TRUE - SSP5-Base\n",
    "\n",
    "From:\n",
    "2025 to 2040\n",
    "\n",
    "And Create:\n",
    "- Baseline (keep without transforming)\n",
    "- BL + VSI\n",
    "'''"
   ]
  },
  {
   "cell_type": "markdown",
   "metadata": {},
   "source": [
    "## 2.1. Defining the scenarios"
   ]
  },
  {
   "cell_type": "code",
   "execution_count": 8,
   "metadata": {},
   "outputs": [],
   "source": [
    "# I want to work in between 2025 and 2040, therefore:\n",
    "years = range(2025, 2041, 5)"
   ]
  },
  {
   "cell_type": "code",
   "execution_count": 9,
   "metadata": {},
   "outputs": [],
   "source": [
    "# The scenarios defined previously are:\n",
    "scenario_definitions = [\n",
    "    {\"model\": \"remind\", \"pathway\": \"SSP1-Base\"}, # Confirmed working\n",
    "    # {\"model\": \"remind\", \"pathway\": \"SSP1-PkBudg500\"}, \n",
    "    # {\"model\": \"remind\", \"pathway\": \"SSP1-PkBudg1150\"},\n",
    "    {\"model\": \"remind\", \"pathway\": \"SSP2-Base\"}, # Confirmed working\n",
    "    # {\"model\": \"remind\", \"pathway\": \"SSP2-PkBudg500\"}, # Confirmed working\n",
    "    # {\"model\": \"remind\", \"pathway\": \"SSP2-PkBudg1150\"}, # Confirmed working\n",
    "    {\"model\": \"remind\", \"pathway\": \"SSP5-Base\"}, # Confirmed working\n",
    "]"
   ]
  },
  {
   "cell_type": "code",
   "execution_count": 10,
   "metadata": {},
   "outputs": [],
   "source": [
    "# Generating my list:\n",
    "scenarios = [\n",
    "    {**scenario, \"year\": year}\n",
    "    for scenario in scenario_definitions\n",
    "    for year in years\n",
    "]\n",
    "\n",
    "# List of custom database names with a suffix\n",
    "suffix_to_include = 'baseline'\n",
    "db_names = [scenario_db_name(scenario[\"model\"], scenario[\"pathway\"], scenario[\"year\"], suffix=suffix_to_include) for scenario in scenarios]"
   ]
  },
  {
   "cell_type": "code",
   "execution_count": 11,
   "metadata": {},
   "outputs": [
    {
     "data": {
      "text/plain": [
       "[{'model': 'remind', 'pathway': 'SSP1-Base', 'year': 2025},\n",
       " {'model': 'remind', 'pathway': 'SSP1-Base', 'year': 2030},\n",
       " {'model': 'remind', 'pathway': 'SSP1-Base', 'year': 2035},\n",
       " {'model': 'remind', 'pathway': 'SSP1-Base', 'year': 2040},\n",
       " {'model': 'remind', 'pathway': 'SSP2-Base', 'year': 2025},\n",
       " {'model': 'remind', 'pathway': 'SSP2-Base', 'year': 2030},\n",
       " {'model': 'remind', 'pathway': 'SSP2-Base', 'year': 2035},\n",
       " {'model': 'remind', 'pathway': 'SSP2-Base', 'year': 2040},\n",
       " {'model': 'remind', 'pathway': 'SSP5-Base', 'year': 2025},\n",
       " {'model': 'remind', 'pathway': 'SSP5-Base', 'year': 2030},\n",
       " {'model': 'remind', 'pathway': 'SSP5-Base', 'year': 2035},\n",
       " {'model': 'remind', 'pathway': 'SSP5-Base', 'year': 2040}]"
      ]
     },
     "execution_count": 11,
     "metadata": {},
     "output_type": "execute_result"
    }
   ],
   "source": [
    "scenarios"
   ]
  },
  {
   "cell_type": "markdown",
   "metadata": {},
   "source": [
    "# 4. Creating baseline databases"
   ]
  },
  {
   "cell_type": "code",
   "execution_count": 12,
   "metadata": {},
   "outputs": [
    {
     "name": "stdout",
     "output_type": "stream",
     "text": [
      "premise v.(2, 0, 1)\n",
      "+------------------------------------------------------------------+\n",
      "| Warning                                                          |\n",
      "+------------------------------------------------------------------+\n",
      "| Because some of the scenarios can yield LCI databases            |\n",
      "| containing net negative emission technologies (NET),             |\n",
      "| it is advised to account for biogenic CO2 flows when calculating |\n",
      "| Global Warming potential indicators.                             |\n",
      "| `premise_gwp` provides characterization factors for such flows.  |\n",
      "| It also provides factors for hydrogen emissions to air.          |\n",
      "|                                                                  |\n",
      "| Within your bw2 project:                                         |\n",
      "| from premise_gwp import add_premise_gwp                          |\n",
      "| add_premise_gwp()                                                |\n",
      "+------------------------------------------------------------------+\n",
      "+--------------------------------+----------------------------------+\n",
      "| Utils functions                | Description                      |\n",
      "+--------------------------------+----------------------------------+\n",
      "| clear_cache()                  | Clears the cache folder. Useful  |\n",
      "|                                | when updating `premise`or        |\n",
      "|                                | encountering issues with         |\n",
      "|                                | inventories.                     |\n",
      "+--------------------------------+----------------------------------+\n",
      "| get_regions_definition(model)  | Retrieves the list of countries  |\n",
      "|                                | for each region of the model.    |\n",
      "+--------------------------------+----------------------------------+\n",
      "| ndb.NewDatabase(...)           | Generates a summary of the most  |\n",
      "| ndb.generate_scenario_report() | important scenarios' variables.  |\n",
      "+--------------------------------+----------------------------------+\n",
      "Keep uncertainty data?\n",
      "NewDatabase(..., keep_uncertainty_data=True)\n",
      "\n",
      "Disable multiprocessing?\n",
      "NewDatabase(..., use_multiprocessing=False)\n",
      "\n",
      "Hide these messages?\n",
      "NewDatabase(..., quiet=True)\n",
      "- Extracting source database\n",
      "- Extracting inventories\n",
      "- Fetching IAM data\n",
      "Done!\n"
     ]
    }
   ],
   "source": [
    "# Creating the new databases:\n",
    "ndb = NewDatabase(\n",
    "      scenarios=scenarios,\n",
    "      source_db=\"ecoinvent 3.8 cutoff\",\n",
    "      source_version=\"3.8\", \n",
    "      key='tUePmX_S5B8ieZkkM7WUU2CnO8SmShwmAeWK9x2rTFo=',\n",
    "      use_multiprocessing=True,\n",
    "      keep_uncertainty_data=False\n",
    "  )"
   ]
  },
  {
   "cell_type": "code",
   "execution_count": 13,
   "metadata": {},
   "outputs": [
    {
     "data": {
      "text/plain": [
       "\"\\nUp to this point, we'll have the new databases (defined by the scenarios) added to the project.\\n\\nWe still need to transform the database based on the updates we want to run.\\n\\nSome update examples here:\\nhttps://github.com/polca/premise/blob/master/examples/examples.ipynb\\n\\nList of ndb.update() methods:\\nhttps://github.com/polca/premise/blob/3bb7a9c9bc0b72165450f27c3dce1a2cbedd523e/premise/new_database.py#L866\\n\\n\""
      ]
     },
     "execution_count": 13,
     "metadata": {},
     "output_type": "execute_result"
    }
   ],
   "source": [
    "'''\n",
    "Up to this point, we'll have the new databases (defined by the scenarios) added to the project.\n",
    "\n",
    "We still need to transform the database based on the updates we want to run.\n",
    "\n",
    "Some update examples here:\n",
    "https://github.com/polca/premise/blob/master/examples/examples.ipynb\n",
    "\n",
    "List of ndb.update() methods:\n",
    "https://github.com/polca/premise/blob/3bb7a9c9bc0b72165450f27c3dce1a2cbedd523e/premise/new_database.py#L866\n",
    "\n",
    "'''"
   ]
  },
  {
   "cell_type": "code",
   "execution_count": 14,
   "metadata": {},
   "outputs": [
    {
     "name": "stdout",
     "output_type": "stream",
     "text": [
      "`update()` will skip the following sectors: 'buses', 'cars', 'two_wheelers'.\n",
      "If you want to update these sectors, please run them separately afterwards.\n"
     ]
    },
    {
     "name": "stderr",
     "output_type": "stream",
     "text": [
      "Updating: external:  90%|████████████▌ | 9/10 [09:46<01:05, 65.22s/it]\n"
     ]
    },
    {
     "name": "stdout",
     "output_type": "stream",
     "text": [
      "External scenarios (datapackages) are not provided. Skipped.\n",
      "Done!\n",
      "\n"
     ]
    }
   ],
   "source": [
    "ndb.update() # <- updates eveyrthing!\n",
    "\n",
    "## More info here:\n",
    "# https://premise.readthedocs.io/en/latest/transform.html"
   ]
  },
  {
   "cell_type": "code",
   "execution_count": 15,
   "metadata": {},
   "outputs": [
    {
     "data": {
      "text/plain": [
       "['EI38_cutoff_remind_SSP1-Base_2025_baseline',\n",
       " 'EI38_cutoff_remind_SSP1-Base_2030_baseline',\n",
       " 'EI38_cutoff_remind_SSP1-Base_2035_baseline',\n",
       " 'EI38_cutoff_remind_SSP1-Base_2040_baseline',\n",
       " 'EI38_cutoff_remind_SSP2-Base_2025_baseline',\n",
       " 'EI38_cutoff_remind_SSP2-Base_2030_baseline',\n",
       " 'EI38_cutoff_remind_SSP2-Base_2035_baseline',\n",
       " 'EI38_cutoff_remind_SSP2-Base_2040_baseline',\n",
       " 'EI38_cutoff_remind_SSP5-Base_2025_baseline',\n",
       " 'EI38_cutoff_remind_SSP5-Base_2030_baseline',\n",
       " 'EI38_cutoff_remind_SSP5-Base_2035_baseline',\n",
       " 'EI38_cutoff_remind_SSP5-Base_2040_baseline']"
      ]
     },
     "execution_count": 15,
     "metadata": {},
     "output_type": "execute_result"
    }
   ],
   "source": [
    "db_names"
   ]
  },
  {
   "cell_type": "code",
   "execution_count": 16,
   "metadata": {},
   "outputs": [
    {
     "name": "stdout",
     "output_type": "stream",
     "text": [
      "Write new database(s) to Brightway.\n",
      "Running all checks...\n",
      "Anomalies found: check the change report.\n",
      "Running all checks...\n",
      "Anomalies found: check the change report.\n",
      "Running all checks...\n",
      "Anomalies found: check the change report.\n",
      "Running all checks...\n",
      "Anomalies found: check the change report.\n",
      "Running all checks...\n",
      "Anomalies found: check the change report.\n",
      "Running all checks...\n",
      "Anomalies found: check the change report.\n",
      "Running all checks...\n",
      "Anomalies found: check the change report.\n",
      "Running all checks...\n",
      "Anomalies found: check the change report.\n",
      "Running all checks...\n",
      "Anomalies found: check the change report.\n",
      "Running all checks...\n",
      "Anomalies found: check the change report.\n",
      "Running all checks...\n",
      "Anomalies found: check the change report.\n",
      "Running all checks...\n",
      "Anomalies found: check the change report.\n",
      "Vacuuming database \n",
      "Vacuuming database \n"
     ]
    },
    {
     "ename": "OperationalError",
     "evalue": "cannot VACUUM from within a transaction",
     "output_type": "error",
     "traceback": [
      "\u001b[1;31m---------------------------------------------------------------------------\u001b[0m",
      "\u001b[1;31mOperationalError\u001b[0m                          Traceback (most recent call last)",
      "File \u001b[1;32mc:\\Users\\berna\\.conda\\envs\\bw2premise-ei38compat-ok\\Lib\\site-packages\\peewee.py:3291\u001b[0m, in \u001b[0;36mDatabase.execute_sql\u001b[1;34m(self, sql, params, commit)\u001b[0m\n\u001b[0;32m   3290\u001b[0m     cursor \u001b[38;5;241m=\u001b[39m \u001b[38;5;28mself\u001b[39m\u001b[38;5;241m.\u001b[39mcursor()\n\u001b[1;32m-> 3291\u001b[0m     cursor\u001b[38;5;241m.\u001b[39mexecute(sql, params \u001b[38;5;129;01mor\u001b[39;00m ())\n\u001b[0;32m   3292\u001b[0m \u001b[38;5;28;01mreturn\u001b[39;00m cursor\n",
      "\u001b[1;31mOperationalError\u001b[0m: cannot VACUUM from within a transaction",
      "\nDuring handling of the above exception, another exception occurred:\n",
      "\u001b[1;31mOperationalError\u001b[0m                          Traceback (most recent call last)",
      "Cell \u001b[1;32mIn[16], line 3\u001b[0m\n\u001b[0;32m      1\u001b[0m \u001b[38;5;66;03m# Writing the databases to Brightway \u001b[39;00m\n\u001b[0;32m      2\u001b[0m \u001b[38;5;66;03m## Considering this to be the baseline\u001b[39;00m\n\u001b[1;32m----> 3\u001b[0m \u001b[43mndb\u001b[49m\u001b[38;5;241;43m.\u001b[39;49m\u001b[43mwrite_db_to_brightway\u001b[49m\u001b[43m(\u001b[49m\u001b[43mname\u001b[49m\u001b[38;5;241;43m=\u001b[39;49m\u001b[43mdb_names\u001b[49m\u001b[43m)\u001b[49m\n",
      "File \u001b[1;32mc:\\Users\\berna\\.conda\\envs\\bw2premise-ei38compat-ok\\Lib\\site-packages\\premise\\new_database.py:1019\u001b[0m, in \u001b[0;36mNewDatabase.write_db_to_brightway\u001b[1;34m(self, name)\u001b[0m\n\u001b[0;32m   1011\u001b[0m     _prepare_database(\n\u001b[0;32m   1012\u001b[0m         scenario\u001b[38;5;241m=\u001b[39mscenario,\n\u001b[0;32m   1013\u001b[0m         db_name\u001b[38;5;241m=\u001b[39mname[s],\n\u001b[0;32m   1014\u001b[0m         original_database\u001b[38;5;241m=\u001b[39m\u001b[38;5;28mself\u001b[39m\u001b[38;5;241m.\u001b[39mdatabase,\n\u001b[0;32m   1015\u001b[0m         keep_uncertainty_data\u001b[38;5;241m=\u001b[39m\u001b[38;5;28mself\u001b[39m\u001b[38;5;241m.\u001b[39mkeep_uncertainty_data,\n\u001b[0;32m   1016\u001b[0m     )\n\u001b[0;32m   1018\u001b[0m \u001b[38;5;28;01mfor\u001b[39;00m scen, scenario \u001b[38;5;129;01min\u001b[39;00m \u001b[38;5;28menumerate\u001b[39m(\u001b[38;5;28mself\u001b[39m\u001b[38;5;241m.\u001b[39mscenarios):\n\u001b[1;32m-> 1019\u001b[0m     \u001b[43mwrite_brightway_database\u001b[49m\u001b[43m(\u001b[49m\n\u001b[0;32m   1020\u001b[0m \u001b[43m        \u001b[49m\u001b[43mscenario\u001b[49m\u001b[43m[\u001b[49m\u001b[38;5;124;43m\"\u001b[39;49m\u001b[38;5;124;43mdatabase\u001b[39;49m\u001b[38;5;124;43m\"\u001b[39;49m\u001b[43m]\u001b[49m\u001b[43m,\u001b[49m\n\u001b[0;32m   1021\u001b[0m \u001b[43m        \u001b[49m\u001b[43mname\u001b[49m\u001b[43m[\u001b[49m\u001b[43mscen\u001b[49m\u001b[43m]\u001b[49m\u001b[43m,\u001b[49m\n\u001b[0;32m   1022\u001b[0m \u001b[43m    \u001b[49m\u001b[43m)\u001b[49m\n\u001b[0;32m   1023\u001b[0m \u001b[38;5;66;03m# generate scenario report\u001b[39;00m\n\u001b[0;32m   1024\u001b[0m \u001b[38;5;28mself\u001b[39m\u001b[38;5;241m.\u001b[39mgenerate_scenario_report()\n",
      "File \u001b[1;32mc:\\Users\\berna\\.conda\\envs\\bw2premise-ei38compat-ok\\Lib\\site-packages\\premise\\brightway2.py:48\u001b[0m, in \u001b[0;36mwrite_brightway_database\u001b[1;34m(data, name)\u001b[0m\n\u001b[0;32m     46\u001b[0m link_internal(data)\n\u001b[0;32m     47\u001b[0m check_internal_linking(data)\n\u001b[1;32m---> 48\u001b[0m \u001b[43mBW2Importer\u001b[49m\u001b[43m(\u001b[49m\u001b[43mname\u001b[49m\u001b[43m,\u001b[49m\u001b[43m \u001b[49m\u001b[43mdata\u001b[49m\u001b[43m)\u001b[49m\u001b[38;5;241;43m.\u001b[39;49m\u001b[43mwrite_database\u001b[49m\u001b[43m(\u001b[49m\u001b[43m)\u001b[49m\n",
      "File \u001b[1;32mc:\\Users\\berna\\.conda\\envs\\bw2premise-ei38compat-ok\\Lib\\site-packages\\premise\\brightway2.py:36\u001b[0m, in \u001b[0;36mBW2Importer.write_database\u001b[1;34m(self)\u001b[0m\n\u001b[0;32m     34\u001b[0m     \u001b[38;5;28mprint\u001b[39m(\u001b[38;5;124mf\u001b[39m\u001b[38;5;124m\"\u001b[39m\u001b[38;5;124mDatabase \u001b[39m\u001b[38;5;132;01m{\u001b[39;00m\u001b[38;5;28mself\u001b[39m\u001b[38;5;241m.\u001b[39mdb_name\u001b[38;5;132;01m}\u001b[39;00m\u001b[38;5;124m already exists: it will be overwritten.\u001b[39m\u001b[38;5;124m\"\u001b[39m)\n\u001b[0;32m     35\u001b[0m     \u001b[38;5;28;01mdel\u001b[39;00m databases[\u001b[38;5;28mself\u001b[39m\u001b[38;5;241m.\u001b[39mdb_name]\n\u001b[1;32m---> 36\u001b[0m \u001b[38;5;28;43msuper\u001b[39;49m\u001b[43m(\u001b[49m\u001b[43m)\u001b[49m\u001b[38;5;241;43m.\u001b[39;49m\u001b[43mwrite_database\u001b[49m\u001b[43m(\u001b[49m\u001b[43m)\u001b[49m\n",
      "File \u001b[1;32mc:\\Users\\berna\\.conda\\envs\\bw2premise-ei38compat-ok\\Lib\\site-packages\\bw2io\\importers\\base_lci.py:273\u001b[0m, in \u001b[0;36mLCIImporter.write_database\u001b[1;34m(self, data, delete_existing, backend, activate_parameters, **kwargs)\u001b[0m\n\u001b[0;32m    270\u001b[0m \u001b[38;5;28mself\u001b[39m\u001b[38;5;241m.\u001b[39mwrite_database_parameters(activate_parameters, delete_existing)\n\u001b[0;32m    272\u001b[0m existing\u001b[38;5;241m.\u001b[39mupdate(data)\n\u001b[1;32m--> 273\u001b[0m \u001b[43mdb\u001b[49m\u001b[38;5;241;43m.\u001b[39;49m\u001b[43mwrite\u001b[49m\u001b[43m(\u001b[49m\u001b[43mexisting\u001b[49m\u001b[43m)\u001b[49m\n\u001b[0;32m    275\u001b[0m \u001b[38;5;28;01mif\u001b[39;00m activate_parameters:\n\u001b[0;32m    276\u001b[0m     \u001b[38;5;28mself\u001b[39m\u001b[38;5;241m.\u001b[39m_write_activity_parameters(activity_parameters)\n",
      "File \u001b[1;32mc:\\Users\\berna\\.conda\\envs\\bw2premise-ei38compat-ok\\Lib\\site-packages\\bw2data\\project.py:358\u001b[0m, in \u001b[0;36mwritable_project\u001b[1;34m(wrapped, instance, args, kwargs)\u001b[0m\n\u001b[0;32m    356\u001b[0m \u001b[38;5;28;01mif\u001b[39;00m projects\u001b[38;5;241m.\u001b[39mread_only:\n\u001b[0;32m    357\u001b[0m     \u001b[38;5;28;01mraise\u001b[39;00m ReadOnlyProject(READ_ONLY_PROJECT)\n\u001b[1;32m--> 358\u001b[0m \u001b[38;5;28;01mreturn\u001b[39;00m \u001b[43mwrapped\u001b[49m\u001b[43m(\u001b[49m\u001b[38;5;241;43m*\u001b[39;49m\u001b[43margs\u001b[49m\u001b[43m,\u001b[49m\u001b[43m \u001b[49m\u001b[38;5;241;43m*\u001b[39;49m\u001b[38;5;241;43m*\u001b[39;49m\u001b[43mkwargs\u001b[49m\u001b[43m)\u001b[49m\n",
      "File \u001b[1;32mc:\\Users\\berna\\.conda\\envs\\bw2premise-ei38compat-ok\\Lib\\site-packages\\bw2data\\backends\\peewee\\database.py:260\u001b[0m, in \u001b[0;36mSQLiteBackend.write\u001b[1;34m(self, data, process)\u001b[0m\n\u001b[0;32m    258\u001b[0m \u001b[38;5;28;01mif\u001b[39;00m data:\n\u001b[0;32m    259\u001b[0m     \u001b[38;5;28;01mtry\u001b[39;00m:\n\u001b[1;32m--> 260\u001b[0m         \u001b[38;5;28;43mself\u001b[39;49m\u001b[38;5;241;43m.\u001b[39;49m\u001b[43m_efficient_write_many_data\u001b[49m\u001b[43m(\u001b[49m\u001b[43mdata\u001b[49m\u001b[43m)\u001b[49m\n\u001b[0;32m    261\u001b[0m     \u001b[38;5;28;01mexcept\u001b[39;00m:\n\u001b[0;32m    262\u001b[0m         \u001b[38;5;66;03m# Purge all data from database, then reraise\u001b[39;00m\n\u001b[0;32m    263\u001b[0m         \u001b[38;5;28mself\u001b[39m\u001b[38;5;241m.\u001b[39mdelete(warn\u001b[38;5;241m=\u001b[39m\u001b[38;5;28;01mFalse\u001b[39;00m)\n",
      "File \u001b[1;32mc:\\Users\\berna\\.conda\\envs\\bw2premise-ei38compat-ok\\Lib\\site-packages\\bw2data\\backends\\peewee\\database.py:193\u001b[0m, in \u001b[0;36mSQLiteBackend._efficient_write_many_data\u001b[1;34m(self, data, indices)\u001b[0m\n\u001b[0;32m    191\u001b[0m \u001b[38;5;28;01mtry\u001b[39;00m:\n\u001b[0;32m    192\u001b[0m     sqlite3_lci_db\u001b[38;5;241m.\u001b[39mdb\u001b[38;5;241m.\u001b[39mbegin()\n\u001b[1;32m--> 193\u001b[0m     \u001b[38;5;28;43mself\u001b[39;49m\u001b[38;5;241;43m.\u001b[39;49m\u001b[43mdelete\u001b[49m\u001b[43m(\u001b[49m\u001b[43mkeep_params\u001b[49m\u001b[38;5;241;43m=\u001b[39;49m\u001b[38;5;28;43;01mTrue\u001b[39;49;00m\u001b[43m,\u001b[49m\u001b[43m \u001b[49m\u001b[43mwarn\u001b[49m\u001b[38;5;241;43m=\u001b[39;49m\u001b[38;5;28;43;01mFalse\u001b[39;49;00m\u001b[43m)\u001b[49m\n\u001b[0;32m    194\u001b[0m     exchanges, activities \u001b[38;5;241m=\u001b[39m [], []\n\u001b[0;32m    196\u001b[0m     \u001b[38;5;28;01mif\u001b[39;00m \u001b[38;5;129;01mnot\u001b[39;00m \u001b[38;5;28mgetattr\u001b[39m(config, \u001b[38;5;124m\"\u001b[39m\u001b[38;5;124mis_test\u001b[39m\u001b[38;5;124m\"\u001b[39m, \u001b[38;5;28;01mNone\u001b[39;00m):\n",
      "File \u001b[1;32mc:\\Users\\berna\\.conda\\envs\\bw2premise-ei38compat-ok\\Lib\\site-packages\\bw2data\\project.py:358\u001b[0m, in \u001b[0;36mwritable_project\u001b[1;34m(wrapped, instance, args, kwargs)\u001b[0m\n\u001b[0;32m    356\u001b[0m \u001b[38;5;28;01mif\u001b[39;00m projects\u001b[38;5;241m.\u001b[39mread_only:\n\u001b[0;32m    357\u001b[0m     \u001b[38;5;28;01mraise\u001b[39;00m ReadOnlyProject(READ_ONLY_PROJECT)\n\u001b[1;32m--> 358\u001b[0m \u001b[38;5;28;01mreturn\u001b[39;00m \u001b[43mwrapped\u001b[49m\u001b[43m(\u001b[49m\u001b[38;5;241;43m*\u001b[39;49m\u001b[43margs\u001b[49m\u001b[43m,\u001b[49m\u001b[43m \u001b[49m\u001b[38;5;241;43m*\u001b[39;49m\u001b[38;5;241;43m*\u001b[39;49m\u001b[43mkwargs\u001b[49m\u001b[43m)\u001b[49m\n",
      "File \u001b[1;32mc:\\Users\\berna\\.conda\\envs\\bw2premise-ei38compat-ok\\Lib\\site-packages\\bw2data\\backends\\peewee\\database.py:349\u001b[0m, in \u001b[0;36mSQLiteBackend.delete\u001b[1;34m(self, keep_params, warn)\u001b[0m\n\u001b[0;32m    346\u001b[0m     DatabaseParameter\u001b[38;5;241m.\u001b[39mdelete()\u001b[38;5;241m.\u001b[39mwhere(DatabaseParameter\u001b[38;5;241m.\u001b[39mdatabase \u001b[38;5;241m==\u001b[39m \u001b[38;5;28mself\u001b[39m\u001b[38;5;241m.\u001b[39mname)\u001b[38;5;241m.\u001b[39mexecute()\n\u001b[0;32m    348\u001b[0m \u001b[38;5;28;01mif\u001b[39;00m vacuum_needed:\n\u001b[1;32m--> 349\u001b[0m     \u001b[43msqlite3_lci_db\u001b[49m\u001b[38;5;241;43m.\u001b[39;49m\u001b[43mvacuum\u001b[49m\u001b[43m(\u001b[49m\u001b[43m)\u001b[49m\n",
      "File \u001b[1;32mc:\\Users\\berna\\.conda\\envs\\bw2premise-ei38compat-ok\\Lib\\site-packages\\bw2data\\sqlite.py:57\u001b[0m, in \u001b[0;36mSubstitutableDatabase.vacuum\u001b[1;34m(self)\u001b[0m\n\u001b[0;32m     55\u001b[0m \u001b[38;5;28;01mdef\u001b[39;00m \u001b[38;5;21mvacuum\u001b[39m(\u001b[38;5;28mself\u001b[39m):\n\u001b[0;32m     56\u001b[0m     \u001b[38;5;28mprint\u001b[39m(\u001b[38;5;124m\"\u001b[39m\u001b[38;5;124mVacuuming database \u001b[39m\u001b[38;5;124m\"\u001b[39m)\n\u001b[1;32m---> 57\u001b[0m     \u001b[38;5;28;43mself\u001b[39;49m\u001b[38;5;241;43m.\u001b[39;49m\u001b[43mexecute_sql\u001b[49m\u001b[43m(\u001b[49m\u001b[38;5;124;43m'\u001b[39;49m\u001b[38;5;124;43mVACUUM;\u001b[39;49m\u001b[38;5;124;43m'\u001b[39;49m\u001b[43m)\u001b[49m\n",
      "File \u001b[1;32mc:\\Users\\berna\\.conda\\envs\\bw2premise-ei38compat-ok\\Lib\\site-packages\\bw2data\\sqlite.py:50\u001b[0m, in \u001b[0;36mSubstitutableDatabase.execute_sql\u001b[1;34m(self, *args, **kwargs)\u001b[0m\n\u001b[0;32m     49\u001b[0m \u001b[38;5;28;01mdef\u001b[39;00m \u001b[38;5;21mexecute_sql\u001b[39m(\u001b[38;5;28mself\u001b[39m, \u001b[38;5;241m*\u001b[39margs, \u001b[38;5;241m*\u001b[39m\u001b[38;5;241m*\u001b[39mkwargs):\n\u001b[1;32m---> 50\u001b[0m     \u001b[38;5;28;01mreturn\u001b[39;00m \u001b[38;5;28;43mself\u001b[39;49m\u001b[38;5;241;43m.\u001b[39;49m\u001b[43mdb\u001b[49m\u001b[38;5;241;43m.\u001b[39;49m\u001b[43mexecute_sql\u001b[49m\u001b[43m(\u001b[49m\u001b[38;5;241;43m*\u001b[39;49m\u001b[43margs\u001b[49m\u001b[43m,\u001b[49m\u001b[43m \u001b[49m\u001b[38;5;241;43m*\u001b[39;49m\u001b[38;5;241;43m*\u001b[39;49m\u001b[43mkwargs\u001b[49m\u001b[43m)\u001b[49m\n",
      "File \u001b[1;32mc:\\Users\\berna\\.conda\\envs\\bw2premise-ei38compat-ok\\Lib\\site-packages\\peewee.py:3289\u001b[0m, in \u001b[0;36mDatabase.execute_sql\u001b[1;34m(self, sql, params, commit)\u001b[0m\n\u001b[0;32m   3287\u001b[0m     __deprecated__(\u001b[38;5;124m'\u001b[39m\u001b[38;5;124m\"\u001b[39m\u001b[38;5;124mcommit\u001b[39m\u001b[38;5;124m\"\u001b[39m\u001b[38;5;124m has been deprecated and is a no-op.\u001b[39m\u001b[38;5;124m'\u001b[39m)\n\u001b[0;32m   3288\u001b[0m logger\u001b[38;5;241m.\u001b[39mdebug((sql, params))\n\u001b[1;32m-> 3289\u001b[0m \u001b[43m\u001b[49m\u001b[38;5;28;43;01mwith\u001b[39;49;00m\u001b[43m \u001b[49m\u001b[43m__exception_wrapper__\u001b[49m\u001b[43m:\u001b[49m\n\u001b[0;32m   3290\u001b[0m \u001b[43m    \u001b[49m\u001b[43mcursor\u001b[49m\u001b[43m \u001b[49m\u001b[38;5;241;43m=\u001b[39;49m\u001b[43m \u001b[49m\u001b[38;5;28;43mself\u001b[39;49m\u001b[38;5;241;43m.\u001b[39;49m\u001b[43mcursor\u001b[49m\u001b[43m(\u001b[49m\u001b[43m)\u001b[49m\n\u001b[0;32m   3291\u001b[0m \u001b[43m    \u001b[49m\u001b[43mcursor\u001b[49m\u001b[38;5;241;43m.\u001b[39;49m\u001b[43mexecute\u001b[49m\u001b[43m(\u001b[49m\u001b[43msql\u001b[49m\u001b[43m,\u001b[49m\u001b[43m \u001b[49m\u001b[43mparams\u001b[49m\u001b[43m \u001b[49m\u001b[38;5;129;43;01mor\u001b[39;49;00m\u001b[43m \u001b[49m\u001b[43m(\u001b[49m\u001b[43m)\u001b[49m\u001b[43m)\u001b[49m\n",
      "File \u001b[1;32mc:\\Users\\berna\\.conda\\envs\\bw2premise-ei38compat-ok\\Lib\\site-packages\\peewee.py:3059\u001b[0m, in \u001b[0;36mExceptionWrapper.__exit__\u001b[1;34m(self, exc_type, exc_value, traceback)\u001b[0m\n\u001b[0;32m   3057\u001b[0m new_type \u001b[38;5;241m=\u001b[39m \u001b[38;5;28mself\u001b[39m\u001b[38;5;241m.\u001b[39mexceptions[exc_type\u001b[38;5;241m.\u001b[39m\u001b[38;5;18m__name__\u001b[39m]\n\u001b[0;32m   3058\u001b[0m exc_args \u001b[38;5;241m=\u001b[39m exc_value\u001b[38;5;241m.\u001b[39margs\n\u001b[1;32m-> 3059\u001b[0m \u001b[43mreraise\u001b[49m\u001b[43m(\u001b[49m\u001b[43mnew_type\u001b[49m\u001b[43m,\u001b[49m\u001b[43m \u001b[49m\u001b[43mnew_type\u001b[49m\u001b[43m(\u001b[49m\u001b[43mexc_value\u001b[49m\u001b[43m,\u001b[49m\u001b[43m \u001b[49m\u001b[38;5;241;43m*\u001b[39;49m\u001b[43mexc_args\u001b[49m\u001b[43m)\u001b[49m\u001b[43m,\u001b[49m\u001b[43m \u001b[49m\u001b[43mtraceback\u001b[49m\u001b[43m)\u001b[49m\n",
      "File \u001b[1;32mc:\\Users\\berna\\.conda\\envs\\bw2premise-ei38compat-ok\\Lib\\site-packages\\peewee.py:192\u001b[0m, in \u001b[0;36mreraise\u001b[1;34m(tp, value, tb)\u001b[0m\n\u001b[0;32m    190\u001b[0m \u001b[38;5;28;01mdef\u001b[39;00m \u001b[38;5;21mreraise\u001b[39m(tp, value, tb\u001b[38;5;241m=\u001b[39m\u001b[38;5;28;01mNone\u001b[39;00m):\n\u001b[0;32m    191\u001b[0m     \u001b[38;5;28;01mif\u001b[39;00m value\u001b[38;5;241m.\u001b[39m__traceback__ \u001b[38;5;129;01mis\u001b[39;00m \u001b[38;5;129;01mnot\u001b[39;00m tb:\n\u001b[1;32m--> 192\u001b[0m         \u001b[38;5;28;01mraise\u001b[39;00m value\u001b[38;5;241m.\u001b[39mwith_traceback(tb)\n\u001b[0;32m    193\u001b[0m     \u001b[38;5;28;01mraise\u001b[39;00m value\n",
      "File \u001b[1;32mc:\\Users\\berna\\.conda\\envs\\bw2premise-ei38compat-ok\\Lib\\site-packages\\peewee.py:3291\u001b[0m, in \u001b[0;36mDatabase.execute_sql\u001b[1;34m(self, sql, params, commit)\u001b[0m\n\u001b[0;32m   3289\u001b[0m \u001b[38;5;28;01mwith\u001b[39;00m __exception_wrapper__:\n\u001b[0;32m   3290\u001b[0m     cursor \u001b[38;5;241m=\u001b[39m \u001b[38;5;28mself\u001b[39m\u001b[38;5;241m.\u001b[39mcursor()\n\u001b[1;32m-> 3291\u001b[0m     cursor\u001b[38;5;241m.\u001b[39mexecute(sql, params \u001b[38;5;129;01mor\u001b[39;00m ())\n\u001b[0;32m   3292\u001b[0m \u001b[38;5;28;01mreturn\u001b[39;00m cursor\n",
      "\u001b[1;31mOperationalError\u001b[0m: cannot VACUUM from within a transaction"
     ]
    }
   ],
   "source": [
    "# Writing the databases to Brightway \n",
    "## Considering this to be the baseline\n",
    "ndb.write_db_to_brightway(name=db_names)"
   ]
  },
  {
   "cell_type": "markdown",
   "metadata": {},
   "source": [
    "# 5. Also creating the VSI anciliary database"
   ]
  },
  {
   "cell_type": "code",
   "execution_count": null,
   "metadata": {},
   "outputs": [],
   "source": [
    "# List of custom database names with a suffix\n",
    "suffix_to_include = 'VSI'\n",
    "db_names = [scenario_db_name(scenario[\"model\"], scenario[\"pathway\"], scenario[\"year\"], suffix=suffix_to_include) for scenario in scenarios]"
   ]
  },
  {
   "cell_type": "code",
   "execution_count": null,
   "metadata": {},
   "outputs": [],
   "source": [
    "db_names"
   ]
  },
  {
   "cell_type": "code",
   "execution_count": null,
   "metadata": {},
   "outputs": [],
   "source": [
    "# Creating the new databases:\n",
    "ndb = NewDatabase(\n",
    "      scenarios=scenarios,\n",
    "      source_db=\"ecoinvent 3.8 cutoff\",\n",
    "      source_version=\"3.8\", \n",
    "      key='tUePmX_S5B8ieZkkM7WUU2CnO8SmShwmAeWK9x2rTFo=',\n",
    "      use_multiprocessing=True,\n",
    "      keep_uncertainty_data=False\n",
    "  )"
   ]
  },
  {
   "cell_type": "code",
   "execution_count": null,
   "metadata": {},
   "outputs": [],
   "source": [
    "ndb.update() # <- updates eveyrthing!\n",
    "\n",
    "## More info here:\n",
    "# https://premise.readthedocs.io/en/latest/transform.html"
   ]
  },
  {
   "cell_type": "code",
   "execution_count": null,
   "metadata": {},
   "outputs": [],
   "source": [
    "# Writing the databases to Brightway \n",
    "## Considering this to be the baseline\n",
    "ndb.write_db_to_brightway(name=db_names)"
   ]
  },
  {
   "cell_type": "code",
   "execution_count": null,
   "metadata": {},
   "outputs": [],
   "source": [
    "list(bd.databases)"
   ]
  },
  {
   "cell_type": "code",
   "execution_count": null,
   "metadata": {},
   "outputs": [],
   "source": []
  },
  {
   "cell_type": "code",
   "execution_count": null,
   "metadata": {},
   "outputs": [],
   "source": []
  }
 ],
 "metadata": {
  "kernelspec": {
   "display_name": "Python 3",
   "language": "python",
   "name": "python3"
  },
  "language_info": {
   "codemirror_mode": {
    "name": "ipython",
    "version": 3
   },
   "file_extension": ".py",
   "mimetype": "text/x-python",
   "name": "python",
   "nbconvert_exporter": "python",
   "pygments_lexer": "ipython3",
   "version": "3.11.8"
  }
 },
 "nbformat": 4,
 "nbformat_minor": 2
}
