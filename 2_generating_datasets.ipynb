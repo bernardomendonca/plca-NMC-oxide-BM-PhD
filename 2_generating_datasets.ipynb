{
 "cells": [
  {
   "cell_type": "code",
   "execution_count": 1,
   "metadata": {},
   "outputs": [
    {
     "data": {
      "text/plain": [
       "\"\\nWhen working with ecoinvent 3.8, I need to use brightway2 + a downgrade of bw2io in order to properly create the biosphere3 database and to properly load ecoinvent 3.8 cutoff\\n\\nThe ecoinvent 3.8 cutoff dataset has been loaded in the previous notebook, so now we need to use a different environment:\\nThe environment setup that can do this is bw2premise-ei38compat-ok\\n\\nIn this notebook, we'll be using brightway2.5\\n\""
      ]
     },
     "execution_count": 1,
     "metadata": {},
     "output_type": "execute_result"
    }
   ],
   "source": [
    "'''\n",
    "When working with ecoinvent 3.8, I need to use brightway2 + a downgrade of bw2io in order to properly create the biosphere3 database and to properly load ecoinvent 3.8 cutoff\n",
    "\n",
    "The ecoinvent 3.8 cutoff dataset has been loaded in the previous notebook, so now we need to use a different environment:\n",
    "The environment setup that can do this is bw2premise-ei38compat-ok\n",
    "\n",
    "In this notebook, we'll be using brightway2.5\n",
    "'''"
   ]
  },
  {
   "cell_type": "markdown",
   "metadata": {},
   "source": [
    "# Libraries"
   ]
  },
  {
   "cell_type": "code",
   "execution_count": 1,
   "metadata": {},
   "outputs": [],
   "source": [
    "# Import BW25 packages.\n",
    "import bw2data as bd\n",
    "import copy\n",
    "import bw2io as bi\n",
    "import bw2calc as bc\n",
    "import bw2analyzer as bwa\n",
    "\n",
    "import matplotlib.pyplot as plt"
   ]
  },
  {
   "cell_type": "markdown",
   "metadata": {},
   "source": [
    "# 1. Support Functions"
   ]
  },
  {
   "cell_type": "code",
   "execution_count": 2,
   "metadata": {},
   "outputs": [],
   "source": [
    "from database_setup import scenario_db_name"
   ]
  },
  {
   "cell_type": "markdown",
   "metadata": {},
   "source": [
    "# 2. Imports and Declarations"
   ]
  },
  {
   "cell_type": "code",
   "execution_count": 3,
   "metadata": {},
   "outputs": [
    {
     "data": {
      "text/plain": [
       "Brightway2 projects manager with 12 objects:\n",
       "\tLNV-EI38\n",
       "\tLNV-EI38-20241204\n",
       "\tLNV-EI38-test20241120\n",
       "\tLNV-EI38-test20241120-BaselineEI38\n",
       "\tV1_pLCA_LiIon\n",
       "\tV1_pLCA_liIon\n",
       "\tV2_pLCA_LiIon\n",
       "\tV2_pLCA_liIon\n",
       "\tV3_pLCA_liion\n",
       "\tdefault\n",
       "\ttest-EI38-SSP1-Base\n",
       "\tv3_liion\n",
       "Use `projects.report()` to get a report on all projects."
      ]
     },
     "execution_count": 3,
     "metadata": {},
     "output_type": "execute_result"
    }
   ],
   "source": [
    "bd.projects"
   ]
  },
  {
   "cell_type": "code",
   "execution_count": 4,
   "metadata": {},
   "outputs": [],
   "source": [
    "#Creating/accessing the project\n",
    "bd.projects.set_current(\"LNV-EI38-20241204\")"
   ]
  },
  {
   "cell_type": "markdown",
   "metadata": {},
   "source": [
    "# 3. Incorporating Background Scenarios with Premise"
   ]
  },
  {
   "cell_type": "code",
   "execution_count": 5,
   "metadata": {},
   "outputs": [],
   "source": [
    "# From here:\n",
    "# https://premise.readthedocs.io/en/latest/introduction.html#default-iam-scenarios\n",
    "from premise import *"
   ]
  },
  {
   "cell_type": "code",
   "execution_count": null,
   "metadata": {},
   "outputs": [],
   "source": [
    "'''\n",
    "We'll incorporate the following scenarios, each per database:\n",
    "- SSP1-None (REMIND SSP1-Base)\n",
    "- SSP1-RCP1.9 (REMIND SSP1-PkBudg500)\n",
    "- SSP1-RCP2.6 (REMIND SSP1-PkBudg1150)\n",
    "- SSP2-None (REMIND SSP2-Base)\n",
    "- SSP2-RCP1.9 (REMIND SSP2-PkBudg500)\n",
    "- SSP2-RCP2.6 (REMIND SSP2-PkBudg1150)\n",
    "- SSP5-Base\n",
    "\n",
    "From:\n",
    "2025 to 2040\n",
    "\n",
    "And Create:\n",
    "- Baseline (keep without transforming)\n",
    "- BL + VSI\n",
    "'''"
   ]
  },
  {
   "cell_type": "markdown",
   "metadata": {},
   "source": [
    "## 2.1. Defining the scenarios"
   ]
  },
  {
   "cell_type": "code",
   "execution_count": 6,
   "metadata": {},
   "outputs": [],
   "source": [
    "# I want to work in between 2025 and 2040, therefore:\n",
    "years = range(2020, 2041, 5)"
   ]
  },
  {
   "cell_type": "code",
   "execution_count": 7,
   "metadata": {},
   "outputs": [],
   "source": [
    "# The scenarios defined previously are:\n",
    "scenario_definitions = [\n",
    "    {\"model\": \"remind\", \"pathway\": \"SSP1-Base\"}, # Confirmed working\n",
    "    # {\"model\": \"remind\", \"pathway\": \"SSP1-PkBudg500\"}, \n",
    "    # {\"model\": \"remind\", \"pathway\": \"SSP1-PkBudg1150\"},\n",
    "    {\"model\": \"remind\", \"pathway\": \"SSP2-Base\"}, # Confirmed working\n",
    "    # {\"model\": \"remind\", \"pathway\": \"SSP2-PkBudg500\"}, # Confirmed working\n",
    "    # {\"model\": \"remind\", \"pathway\": \"SSP2-PkBudg1150\"}, # Confirmed working\n",
    "    {\"model\": \"remind\", \"pathway\": \"SSP5-Base\"}, # Confirmed working\n",
    "]"
   ]
  },
  {
   "cell_type": "code",
   "execution_count": 8,
   "metadata": {},
   "outputs": [],
   "source": [
    "# Generating my list:\n",
    "scenarios = [\n",
    "    {**scenario, \"year\": year}\n",
    "    for scenario in scenario_definitions\n",
    "    for year in years\n",
    "]\n",
    "\n",
    "# List of custom database names with a suffix\n",
    "suffix_to_include = 'baseline'\n",
    "db_names = [scenario_db_name(scenario[\"model\"], scenario[\"pathway\"], scenario[\"year\"], suffix=suffix_to_include) for scenario in scenarios]"
   ]
  },
  {
   "cell_type": "code",
   "execution_count": 9,
   "metadata": {},
   "outputs": [
    {
     "data": {
      "text/plain": [
       "[{'model': 'remind', 'pathway': 'SSP1-Base', 'year': 2020},\n",
       " {'model': 'remind', 'pathway': 'SSP1-Base', 'year': 2025},\n",
       " {'model': 'remind', 'pathway': 'SSP1-Base', 'year': 2030},\n",
       " {'model': 'remind', 'pathway': 'SSP1-Base', 'year': 2035},\n",
       " {'model': 'remind', 'pathway': 'SSP1-Base', 'year': 2040},\n",
       " {'model': 'remind', 'pathway': 'SSP2-Base', 'year': 2020},\n",
       " {'model': 'remind', 'pathway': 'SSP2-Base', 'year': 2025},\n",
       " {'model': 'remind', 'pathway': 'SSP2-Base', 'year': 2030},\n",
       " {'model': 'remind', 'pathway': 'SSP2-Base', 'year': 2035},\n",
       " {'model': 'remind', 'pathway': 'SSP2-Base', 'year': 2040},\n",
       " {'model': 'remind', 'pathway': 'SSP5-Base', 'year': 2020},\n",
       " {'model': 'remind', 'pathway': 'SSP5-Base', 'year': 2025},\n",
       " {'model': 'remind', 'pathway': 'SSP5-Base', 'year': 2030},\n",
       " {'model': 'remind', 'pathway': 'SSP5-Base', 'year': 2035},\n",
       " {'model': 'remind', 'pathway': 'SSP5-Base', 'year': 2040}]"
      ]
     },
     "execution_count": 9,
     "metadata": {},
     "output_type": "execute_result"
    }
   ],
   "source": [
    "scenarios"
   ]
  },
  {
   "cell_type": "code",
   "execution_count": 10,
   "metadata": {},
   "outputs": [
    {
     "name": "stdout",
     "output_type": "stream",
     "text": [
      "premise v.(2, 0, 1)\n",
      "+------------------------------------------------------------------+\n",
      "| Warning                                                          |\n",
      "+------------------------------------------------------------------+\n",
      "| Because some of the scenarios can yield LCI databases            |\n",
      "| containing net negative emission technologies (NET),             |\n",
      "| it is advised to account for biogenic CO2 flows when calculating |\n",
      "| Global Warming potential indicators.                             |\n",
      "| `premise_gwp` provides characterization factors for such flows.  |\n",
      "| It also provides factors for hydrogen emissions to air.          |\n",
      "|                                                                  |\n",
      "| Within your bw2 project:                                         |\n",
      "| from premise_gwp import add_premise_gwp                          |\n",
      "| add_premise_gwp()                                                |\n",
      "+------------------------------------------------------------------+\n",
      "+--------------------------------+----------------------------------+\n",
      "| Utils functions                | Description                      |\n",
      "+--------------------------------+----------------------------------+\n",
      "| clear_cache()                  | Clears the cache folder. Useful  |\n",
      "|                                | when updating `premise`or        |\n",
      "|                                | encountering issues with         |\n",
      "|                                | inventories.                     |\n",
      "+--------------------------------+----------------------------------+\n",
      "| get_regions_definition(model)  | Retrieves the list of countries  |\n",
      "|                                | for each region of the model.    |\n",
      "+--------------------------------+----------------------------------+\n",
      "| ndb.NewDatabase(...)           | Generates a summary of the most  |\n",
      "| ndb.generate_scenario_report() | important scenarios' variables.  |\n",
      "+--------------------------------+----------------------------------+\n",
      "Keep uncertainty data?\n",
      "NewDatabase(..., keep_uncertainty_data=True)\n",
      "\n",
      "Disable multiprocessing?\n",
      "NewDatabase(..., use_multiprocessing=False)\n",
      "\n",
      "Hide these messages?\n",
      "NewDatabase(..., quiet=True)\n",
      "- Extracting source database\n",
      "- Extracting inventories\n",
      "- Fetching IAM data\n",
      "Done!\n"
     ]
    }
   ],
   "source": [
    "# Creating the new databases:\n",
    "ndb = NewDatabase(\n",
    "      scenarios=scenarios,\n",
    "      source_db=\"ecoinvent 3.8 cutoff\",\n",
    "      source_version=\"3.8\", \n",
    "      key='tUePmX_S5B8ieZkkM7WUU2CnO8SmShwmAeWK9x2rTFo=',\n",
    "      use_multiprocessing=True,\n",
    "      keep_uncertainty_data=False\n",
    "  )"
   ]
  },
  {
   "cell_type": "code",
   "execution_count": null,
   "metadata": {},
   "outputs": [],
   "source": [
    "'''\n",
    "Up to this point, we'll have the new databases (defined by the scenarios) added to the project.\n",
    "\n",
    "We still need to transform the database based on the updates we want to run.\n",
    "\n",
    "Some update examples here:\n",
    "https://github.com/polca/premise/blob/master/examples/examples.ipynb\n",
    "\n",
    "List of ndb.update() methods:\n",
    "https://github.com/polca/premise/blob/3bb7a9c9bc0b72165450f27c3dce1a2cbedd523e/premise/new_database.py#L866\n",
    "\n",
    "'''"
   ]
  },
  {
   "cell_type": "code",
   "execution_count": 11,
   "metadata": {},
   "outputs": [
    {
     "name": "stdout",
     "output_type": "stream",
     "text": [
      "`update()` will skip the following sectors: 'buses', 'cars', 'two_wheelers'.\n",
      "If you want to update these sectors, please run them separately afterwards.\n"
     ]
    },
    {
     "name": "stderr",
     "output_type": "stream",
     "text": [
      "Updating: external:  90%|███████████▋ | 9/10 [22:07<02:27, 147.48s/it]\n"
     ]
    },
    {
     "name": "stdout",
     "output_type": "stream",
     "text": [
      "External scenarios (datapackages) are not provided. Skipped.\n",
      "Done!\n",
      "\n"
     ]
    }
   ],
   "source": [
    "ndb.update() # <- updates eveyrthing!\n",
    "\n",
    "## More info here:\n",
    "# https://premise.readthedocs.io/en/latest/transform.html"
   ]
  },
  {
   "cell_type": "code",
   "execution_count": 12,
   "metadata": {},
   "outputs": [
    {
     "data": {
      "text/plain": [
       "['EI38_cutoff_remind_SSP1-Base_2020_baseline',\n",
       " 'EI38_cutoff_remind_SSP1-Base_2025_baseline',\n",
       " 'EI38_cutoff_remind_SSP1-Base_2030_baseline',\n",
       " 'EI38_cutoff_remind_SSP1-Base_2035_baseline',\n",
       " 'EI38_cutoff_remind_SSP1-Base_2040_baseline',\n",
       " 'EI38_cutoff_remind_SSP2-Base_2020_baseline',\n",
       " 'EI38_cutoff_remind_SSP2-Base_2025_baseline',\n",
       " 'EI38_cutoff_remind_SSP2-Base_2030_baseline',\n",
       " 'EI38_cutoff_remind_SSP2-Base_2035_baseline',\n",
       " 'EI38_cutoff_remind_SSP2-Base_2040_baseline',\n",
       " 'EI38_cutoff_remind_SSP5-Base_2020_baseline',\n",
       " 'EI38_cutoff_remind_SSP5-Base_2025_baseline',\n",
       " 'EI38_cutoff_remind_SSP5-Base_2030_baseline',\n",
       " 'EI38_cutoff_remind_SSP5-Base_2035_baseline',\n",
       " 'EI38_cutoff_remind_SSP5-Base_2040_baseline']"
      ]
     },
     "execution_count": 12,
     "metadata": {},
     "output_type": "execute_result"
    }
   ],
   "source": [
    "db_names"
   ]
  },
  {
   "cell_type": "code",
   "execution_count": 13,
   "metadata": {},
   "outputs": [
    {
     "name": "stdout",
     "output_type": "stream",
     "text": [
      "Write new database(s) to Brightway.\n",
      "Running all checks...\n",
      "Anomalies found: check the change report.\n",
      "Running all checks...\n",
      "Anomalies found: check the change report.\n",
      "Running all checks...\n",
      "Anomalies found: check the change report.\n",
      "Running all checks...\n",
      "Anomalies found: check the change report.\n",
      "Running all checks...\n",
      "Anomalies found: check the change report.\n",
      "Running all checks...\n",
      "Anomalies found: check the change report.\n",
      "Running all checks...\n",
      "Anomalies found: check the change report.\n",
      "Running all checks...\n",
      "Anomalies found: check the change report.\n",
      "Running all checks...\n",
      "Anomalies found: check the change report.\n",
      "Running all checks...\n",
      "Anomalies found: check the change report.\n",
      "Running all checks...\n",
      "Anomalies found: check the change report.\n",
      "Running all checks...\n",
      "Anomalies found: check the change report.\n",
      "Running all checks...\n",
      "Anomalies found: check the change report.\n",
      "Running all checks...\n",
      "Anomalies found: check the change report.\n",
      "Running all checks...\n",
      "Anomalies found: check the change report.\n"
     ]
    },
    {
     "name": "stderr",
     "output_type": "stream",
     "text": [
      "Writing activities to SQLite3 database:\n",
      "0% [##############################] 100% | ETA: 00:00:00\n",
      "Total time elapsed: 00:00:45\n"
     ]
    },
    {
     "name": "stdout",
     "output_type": "stream",
     "text": [
      "Title: Writing activities to SQLite3 database:\n",
      "  Started: 12/04/2024 17:33:26\n",
      "  Finished: 12/04/2024 17:34:11\n",
      "  Total time elapsed: 00:00:45\n",
      "  CPU %: 17.90\n",
      "  Memory %: 40.36\n",
      "Created database: EI38_cutoff_remind_SSP1-Base_2020_baseline\n"
     ]
    },
    {
     "name": "stderr",
     "output_type": "stream",
     "text": [
      "Writing activities to SQLite3 database:\n",
      "0% [##############################] 100% | ETA: 00:00:00\n",
      "Total time elapsed: 00:00:43\n"
     ]
    },
    {
     "name": "stdout",
     "output_type": "stream",
     "text": [
      "Title: Writing activities to SQLite3 database:\n",
      "  Started: 12/04/2024 17:36:50\n",
      "  Finished: 12/04/2024 17:37:33\n",
      "  Total time elapsed: 00:00:43\n",
      "  CPU %: 28.60\n",
      "  Memory %: 40.54\n",
      "Created database: EI38_cutoff_remind_SSP1-Base_2025_baseline\n"
     ]
    },
    {
     "name": "stderr",
     "output_type": "stream",
     "text": [
      "Writing activities to SQLite3 database:\n",
      "0% [##############################] 100% | ETA: 00:00:00\n",
      "Total time elapsed: 00:00:44\n"
     ]
    },
    {
     "name": "stdout",
     "output_type": "stream",
     "text": [
      "Title: Writing activities to SQLite3 database:\n",
      "  Started: 12/04/2024 17:40:10\n",
      "  Finished: 12/04/2024 17:40:55\n",
      "  Total time elapsed: 00:00:44\n",
      "  CPU %: 10.60\n",
      "  Memory %: 40.68\n",
      "Created database: EI38_cutoff_remind_SSP1-Base_2030_baseline\n"
     ]
    },
    {
     "name": "stderr",
     "output_type": "stream",
     "text": [
      "Writing activities to SQLite3 database:\n",
      "0% [##############################] 100% | ETA: 00:00:00\n",
      "Total time elapsed: 00:00:44\n"
     ]
    },
    {
     "name": "stdout",
     "output_type": "stream",
     "text": [
      "Title: Writing activities to SQLite3 database:\n",
      "  Started: 12/04/2024 17:43:43\n",
      "  Finished: 12/04/2024 17:44:28\n",
      "  Total time elapsed: 00:00:44\n",
      "  CPU %: 31.00\n",
      "  Memory %: 40.82\n",
      "Created database: EI38_cutoff_remind_SSP1-Base_2035_baseline\n"
     ]
    },
    {
     "name": "stderr",
     "output_type": "stream",
     "text": [
      "Writing activities to SQLite3 database:\n",
      "0% [##############################] 100% | ETA: 00:00:00\n",
      "Total time elapsed: 00:00:48\n"
     ]
    },
    {
     "name": "stdout",
     "output_type": "stream",
     "text": [
      "Title: Writing activities to SQLite3 database:\n",
      "  Started: 12/04/2024 17:47:20\n",
      "  Finished: 12/04/2024 17:48:08\n",
      "  Total time elapsed: 00:00:48\n",
      "  CPU %: 14.60\n",
      "  Memory %: 40.96\n",
      "Created database: EI38_cutoff_remind_SSP1-Base_2040_baseline\n"
     ]
    },
    {
     "name": "stderr",
     "output_type": "stream",
     "text": [
      "Writing activities to SQLite3 database:\n",
      "0% [##############################] 100% | ETA: 00:00:00\n",
      "Total time elapsed: 00:00:44\n"
     ]
    },
    {
     "name": "stdout",
     "output_type": "stream",
     "text": [
      "Title: Writing activities to SQLite3 database:\n",
      "  Started: 12/04/2024 17:51:04\n",
      "  Finished: 12/04/2024 17:51:48\n",
      "  Total time elapsed: 00:00:44\n",
      "  CPU %: 21.40\n",
      "  Memory %: 41.04\n",
      "Created database: EI38_cutoff_remind_SSP2-Base_2020_baseline\n"
     ]
    },
    {
     "name": "stderr",
     "output_type": "stream",
     "text": [
      "Writing activities to SQLite3 database:\n",
      "0% [##############################] 100% | ETA: 00:00:00\n",
      "Total time elapsed: 00:00:47\n"
     ]
    },
    {
     "name": "stdout",
     "output_type": "stream",
     "text": [
      "Title: Writing activities to SQLite3 database:\n",
      "  Started: 12/04/2024 17:54:49\n",
      "  Finished: 12/04/2024 17:55:36\n",
      "  Total time elapsed: 00:00:47\n",
      "  CPU %: 31.40\n",
      "  Memory %: 41.08\n",
      "Created database: EI38_cutoff_remind_SSP2-Base_2025_baseline\n"
     ]
    },
    {
     "name": "stderr",
     "output_type": "stream",
     "text": [
      "Writing activities to SQLite3 database:\n",
      "0% [##############################] 100% | ETA: 00:00:00\n",
      "Total time elapsed: 00:00:44\n"
     ]
    },
    {
     "name": "stdout",
     "output_type": "stream",
     "text": [
      "Title: Writing activities to SQLite3 database:\n",
      "  Started: 12/04/2024 17:58:40\n",
      "  Finished: 12/04/2024 17:59:24\n",
      "  Total time elapsed: 00:00:44\n",
      "  CPU %: 12.70\n",
      "  Memory %: 41.11\n",
      "Created database: EI38_cutoff_remind_SSP2-Base_2030_baseline\n"
     ]
    },
    {
     "name": "stderr",
     "output_type": "stream",
     "text": [
      "Writing activities to SQLite3 database:\n",
      "0% [##############################] 100% | ETA: 00:00:00\n",
      "Total time elapsed: 00:00:48\n"
     ]
    },
    {
     "name": "stdout",
     "output_type": "stream",
     "text": [
      "Title: Writing activities to SQLite3 database:\n",
      "  Started: 12/04/2024 18:02:35\n",
      "  Finished: 12/04/2024 18:03:23\n",
      "  Total time elapsed: 00:00:48\n",
      "  CPU %: 17.50\n",
      "  Memory %: 41.15\n",
      "Created database: EI38_cutoff_remind_SSP2-Base_2035_baseline\n"
     ]
    },
    {
     "name": "stderr",
     "output_type": "stream",
     "text": [
      "Writing activities to SQLite3 database:\n",
      "0% [##############################] 100% | ETA: 00:00:00\n",
      "Total time elapsed: 00:00:43\n"
     ]
    },
    {
     "name": "stdout",
     "output_type": "stream",
     "text": [
      "Title: Writing activities to SQLite3 database:\n",
      "  Started: 12/04/2024 18:06:42\n",
      "  Finished: 12/04/2024 18:07:26\n",
      "  Total time elapsed: 00:00:43\n",
      "  CPU %: 26.40\n",
      "  Memory %: 41.20\n",
      "Created database: EI38_cutoff_remind_SSP2-Base_2040_baseline\n"
     ]
    },
    {
     "name": "stderr",
     "output_type": "stream",
     "text": [
      "Writing activities to SQLite3 database:\n",
      "0% [##############################] 100% | ETA: 00:00:00\n",
      "Total time elapsed: 00:00:44\n"
     ]
    },
    {
     "name": "stdout",
     "output_type": "stream",
     "text": [
      "Title: Writing activities to SQLite3 database:\n",
      "  Started: 12/04/2024 18:10:53\n",
      "  Finished: 12/04/2024 18:11:38\n",
      "  Total time elapsed: 00:00:44\n",
      "  CPU %: 11.20\n",
      "  Memory %: 41.24\n",
      "Created database: EI38_cutoff_remind_SSP5-Base_2020_baseline\n"
     ]
    },
    {
     "name": "stderr",
     "output_type": "stream",
     "text": [
      "Writing activities to SQLite3 database:\n",
      "0% [##############################] 100% | ETA: 00:00:00\n",
      "Total time elapsed: 00:00:47\n"
     ]
    },
    {
     "name": "stdout",
     "output_type": "stream",
     "text": [
      "Title: Writing activities to SQLite3 database:\n",
      "  Started: 12/04/2024 18:15:02\n",
      "  Finished: 12/04/2024 18:15:49\n",
      "  Total time elapsed: 00:00:47\n",
      "  CPU %: 18.70\n",
      "  Memory %: 41.32\n",
      "Created database: EI38_cutoff_remind_SSP5-Base_2025_baseline\n"
     ]
    },
    {
     "name": "stderr",
     "output_type": "stream",
     "text": [
      "Writing activities to SQLite3 database:\n",
      "0% [##############################] 100% | ETA: 00:00:00\n",
      "Total time elapsed: 00:00:43\n"
     ]
    },
    {
     "name": "stdout",
     "output_type": "stream",
     "text": [
      "Title: Writing activities to SQLite3 database:\n",
      "  Started: 12/04/2024 18:19:20\n",
      "  Finished: 12/04/2024 18:20:04\n",
      "  Total time elapsed: 00:00:43\n",
      "  CPU %: 25.00\n",
      "  Memory %: 41.36\n",
      "Created database: EI38_cutoff_remind_SSP5-Base_2030_baseline\n"
     ]
    },
    {
     "name": "stderr",
     "output_type": "stream",
     "text": [
      "Writing activities to SQLite3 database:\n",
      "0% [##############################] 100% | ETA: 00:00:00\n",
      "Total time elapsed: 00:00:48\n"
     ]
    },
    {
     "name": "stdout",
     "output_type": "stream",
     "text": [
      "Title: Writing activities to SQLite3 database:\n",
      "  Started: 12/04/2024 18:23:42\n",
      "  Finished: 12/04/2024 18:24:30\n",
      "  Total time elapsed: 00:00:48\n",
      "  CPU %: 17.70\n",
      "  Memory %: 41.40\n",
      "Created database: EI38_cutoff_remind_SSP5-Base_2035_baseline\n"
     ]
    },
    {
     "name": "stderr",
     "output_type": "stream",
     "text": [
      "Writing activities to SQLite3 database:\n",
      "0% [##############################] 100% | ETA: 00:00:00\n",
      "Total time elapsed: 00:00:44\n"
     ]
    },
    {
     "name": "stdout",
     "output_type": "stream",
     "text": [
      "Title: Writing activities to SQLite3 database:\n",
      "  Started: 12/04/2024 18:28:11\n",
      "  Finished: 12/04/2024 18:28:55\n",
      "  Total time elapsed: 00:00:44\n",
      "  CPU %: 11.40\n",
      "  Memory %: 41.44\n",
      "Created database: EI38_cutoff_remind_SSP5-Base_2040_baseline\n",
      "Generate scenario report.\n",
      "Report saved under g:\\My Drive\\10. PHD\\001. Articles\\2024_LCIA_DRAFT\\2 - Analysis\\V7\\export\\scenario_report.\n",
      "Generate change report.\n",
      "Report saved under g:\\My Drive\\10. PHD\\001. Articles\\2024_LCIA_DRAFT\\2 - Analysis\\V7.\n"
     ]
    }
   ],
   "source": [
    "# Writing the databases to Brightway \n",
    "## Considering this to be the baseline\n",
    "ndb.write_db_to_brightway(name=db_names)"
   ]
  },
  {
   "cell_type": "markdown",
   "metadata": {},
   "source": [
    "# 3. Also creating the VSI anciliary database"
   ]
  },
  {
   "cell_type": "code",
   "execution_count": 14,
   "metadata": {},
   "outputs": [],
   "source": [
    "# List of custom database names with a suffix\n",
    "suffix_to_include = 'VSI'\n",
    "db_names = [scenario_db_name(scenario[\"model\"], scenario[\"pathway\"], scenario[\"year\"], suffix=suffix_to_include) for scenario in scenarios]"
   ]
  },
  {
   "cell_type": "code",
   "execution_count": 15,
   "metadata": {},
   "outputs": [
    {
     "name": "stdout",
     "output_type": "stream",
     "text": [
      "premise v.(2, 0, 1)\n",
      "+------------------------------------------------------------------+\n",
      "| Warning                                                          |\n",
      "+------------------------------------------------------------------+\n",
      "| Because some of the scenarios can yield LCI databases            |\n",
      "| containing net negative emission technologies (NET),             |\n",
      "| it is advised to account for biogenic CO2 flows when calculating |\n",
      "| Global Warming potential indicators.                             |\n",
      "| `premise_gwp` provides characterization factors for such flows.  |\n",
      "| It also provides factors for hydrogen emissions to air.          |\n",
      "|                                                                  |\n",
      "| Within your bw2 project:                                         |\n",
      "| from premise_gwp import add_premise_gwp                          |\n",
      "| add_premise_gwp()                                                |\n",
      "+------------------------------------------------------------------+\n",
      "+--------------------------------+----------------------------------+\n",
      "| Utils functions                | Description                      |\n",
      "+--------------------------------+----------------------------------+\n",
      "| clear_cache()                  | Clears the cache folder. Useful  |\n",
      "|                                | when updating `premise`or        |\n",
      "|                                | encountering issues with         |\n",
      "|                                | inventories.                     |\n",
      "+--------------------------------+----------------------------------+\n",
      "| get_regions_definition(model)  | Retrieves the list of countries  |\n",
      "|                                | for each region of the model.    |\n",
      "+--------------------------------+----------------------------------+\n",
      "| ndb.NewDatabase(...)           | Generates a summary of the most  |\n",
      "| ndb.generate_scenario_report() | important scenarios' variables.  |\n",
      "+--------------------------------+----------------------------------+\n",
      "Keep uncertainty data?\n",
      "NewDatabase(..., keep_uncertainty_data=True)\n",
      "\n",
      "Disable multiprocessing?\n",
      "NewDatabase(..., use_multiprocessing=False)\n",
      "\n",
      "Hide these messages?\n",
      "NewDatabase(..., quiet=True)\n",
      "- Extracting source database\n",
      "- Extracting inventories\n",
      "- Fetching IAM data\n",
      "Done!\n"
     ]
    }
   ],
   "source": [
    "# Creating the new databases:\n",
    "ndb = NewDatabase(\n",
    "      scenarios=scenarios,\n",
    "      source_db=\"ecoinvent 3.8 cutoff\",\n",
    "      source_version=\"3.8\", \n",
    "      key='tUePmX_S5B8ieZkkM7WUU2CnO8SmShwmAeWK9x2rTFo=',\n",
    "      use_multiprocessing=True,\n",
    "      keep_uncertainty_data=False\n",
    "  )"
   ]
  },
  {
   "cell_type": "code",
   "execution_count": 16,
   "metadata": {},
   "outputs": [
    {
     "name": "stdout",
     "output_type": "stream",
     "text": [
      "`update()` will skip the following sectors: 'buses', 'cars', 'two_wheelers'.\n",
      "If you want to update these sectors, please run them separately afterwards.\n"
     ]
    },
    {
     "name": "stderr",
     "output_type": "stream",
     "text": [
      "Updating: external:  90%|███████████▋ | 9/10 [30:02<03:20, 200.28s/it]\n"
     ]
    },
    {
     "name": "stdout",
     "output_type": "stream",
     "text": [
      "External scenarios (datapackages) are not provided. Skipped.\n",
      "Done!\n",
      "\n"
     ]
    }
   ],
   "source": [
    "ndb.update() # <- updates eveyrthing!\n",
    "\n",
    "## More info here:\n",
    "# https://premise.readthedocs.io/en/latest/transform.html"
   ]
  },
  {
   "cell_type": "code",
   "execution_count": 17,
   "metadata": {},
   "outputs": [
    {
     "name": "stdout",
     "output_type": "stream",
     "text": [
      "Write new database(s) to Brightway.\n",
      "Running all checks...\n",
      "Anomalies found: check the change report.\n",
      "Running all checks...\n",
      "Anomalies found: check the change report.\n",
      "Running all checks...\n",
      "Anomalies found: check the change report.\n",
      "Running all checks...\n",
      "Anomalies found: check the change report.\n",
      "Running all checks...\n",
      "Anomalies found: check the change report.\n",
      "Running all checks...\n",
      "Anomalies found: check the change report.\n",
      "Running all checks...\n",
      "Anomalies found: check the change report.\n",
      "Running all checks...\n",
      "Anomalies found: check the change report.\n",
      "Running all checks...\n",
      "Anomalies found: check the change report.\n",
      "Running all checks...\n",
      "Anomalies found: check the change report.\n",
      "Running all checks...\n",
      "Anomalies found: check the change report.\n",
      "Running all checks...\n",
      "Anomalies found: check the change report.\n",
      "Running all checks...\n",
      "Anomalies found: check the change report.\n",
      "Running all checks...\n",
      "Anomalies found: check the change report.\n",
      "Running all checks...\n",
      "Anomalies found: check the change report.\n"
     ]
    },
    {
     "name": "stderr",
     "output_type": "stream",
     "text": [
      "Writing activities to SQLite3 database:\n",
      "0% [##############################] 100% | ETA: 00:00:00\n",
      "Total time elapsed: 00:00:51\n"
     ]
    },
    {
     "name": "stdout",
     "output_type": "stream",
     "text": [
      "Title: Writing activities to SQLite3 database:\n",
      "  Started: 12/04/2024 19:14:24\n",
      "  Finished: 12/04/2024 19:15:15\n",
      "  Total time elapsed: 00:00:51\n",
      "  CPU %: 27.10\n",
      "  Memory %: 55.28\n",
      "Created database: EI38_cutoff_remind_SSP1-Base_2020_VSI\n"
     ]
    },
    {
     "name": "stderr",
     "output_type": "stream",
     "text": [
      "Writing activities to SQLite3 database:\n",
      "0% [##############################] 100% | ETA: 00:00:00\n",
      "Total time elapsed: 00:00:45\n"
     ]
    },
    {
     "name": "stdout",
     "output_type": "stream",
     "text": [
      "Title: Writing activities to SQLite3 database:\n",
      "  Started: 12/04/2024 19:23:05\n",
      "  Finished: 12/04/2024 19:23:50\n",
      "  Total time elapsed: 00:00:45\n",
      "  CPU %: 13.10\n",
      "  Memory %: 53.90\n",
      "Created database: EI38_cutoff_remind_SSP1-Base_2025_VSI\n"
     ]
    },
    {
     "name": "stderr",
     "output_type": "stream",
     "text": [
      "Writing activities to SQLite3 database:\n",
      "0% [##############################] 100% | ETA: 00:00:00\n",
      "Total time elapsed: 00:00:48\n"
     ]
    },
    {
     "name": "stdout",
     "output_type": "stream",
     "text": [
      "Title: Writing activities to SQLite3 database:\n",
      "  Started: 12/04/2024 19:30:02\n",
      "  Finished: 12/04/2024 19:30:51\n",
      "  Total time elapsed: 00:00:48\n",
      "  CPU %: 56.10\n",
      "  Memory %: 35.20\n",
      "Created database: EI38_cutoff_remind_SSP1-Base_2030_VSI\n"
     ]
    },
    {
     "name": "stderr",
     "output_type": "stream",
     "text": [
      "Writing activities to SQLite3 database:\n",
      "0% [##############################] 100% | ETA: 00:00:00\n",
      "Total time elapsed: 00:00:43\n"
     ]
    },
    {
     "name": "stdout",
     "output_type": "stream",
     "text": [
      "Title: Writing activities to SQLite3 database:\n",
      "  Started: 12/04/2024 19:35:07\n",
      "  Finished: 12/04/2024 19:35:50\n",
      "  Total time elapsed: 00:00:43\n",
      "  CPU %: 50.70\n",
      "  Memory %: 32.53\n",
      "Created database: EI38_cutoff_remind_SSP1-Base_2035_VSI\n"
     ]
    },
    {
     "name": "stderr",
     "output_type": "stream",
     "text": [
      "Writing activities to SQLite3 database:\n",
      "0% [##############################] 100% | ETA: 00:00:00\n",
      "Total time elapsed: 00:00:43\n"
     ]
    },
    {
     "name": "stdout",
     "output_type": "stream",
     "text": [
      "Title: Writing activities to SQLite3 database:\n",
      "  Started: 12/04/2024 19:40:15\n",
      "  Finished: 12/04/2024 19:40:59\n",
      "  Total time elapsed: 00:00:43\n",
      "  CPU %: 50.50\n",
      "  Memory %: 31.21\n",
      "Created database: EI38_cutoff_remind_SSP1-Base_2040_VSI\n"
     ]
    },
    {
     "name": "stderr",
     "output_type": "stream",
     "text": [
      "Writing activities to SQLite3 database:\n",
      "0% [##############################] 100% | ETA: 00:00:00\n",
      "Total time elapsed: 00:00:44\n"
     ]
    },
    {
     "name": "stdout",
     "output_type": "stream",
     "text": [
      "Title: Writing activities to SQLite3 database:\n",
      "  Started: 12/04/2024 19:45:54\n",
      "  Finished: 12/04/2024 19:46:39\n",
      "  Total time elapsed: 00:00:44\n",
      "  CPU %: 13.20\n",
      "  Memory %: 32.44\n",
      "Created database: EI38_cutoff_remind_SSP2-Base_2020_VSI\n"
     ]
    },
    {
     "name": "stderr",
     "output_type": "stream",
     "text": [
      "Writing activities to SQLite3 database:\n",
      "0% [##############################] 100% | ETA: 00:00:00\n",
      "Total time elapsed: 00:00:44\n"
     ]
    },
    {
     "name": "stdout",
     "output_type": "stream",
     "text": [
      "Title: Writing activities to SQLite3 database:\n",
      "  Started: 12/04/2024 19:52:00\n",
      "  Finished: 12/04/2024 19:52:44\n",
      "  Total time elapsed: 00:00:44\n",
      "  CPU %: 25.20\n",
      "  Memory %: 31.94\n",
      "Created database: EI38_cutoff_remind_SSP2-Base_2025_VSI\n"
     ]
    },
    {
     "name": "stderr",
     "output_type": "stream",
     "text": [
      "Writing activities to SQLite3 database:\n",
      "0% [##############################] 100% | ETA: 00:00:00\n",
      "Total time elapsed: 00:00:49\n"
     ]
    },
    {
     "name": "stdout",
     "output_type": "stream",
     "text": [
      "Title: Writing activities to SQLite3 database:\n",
      "  Started: 12/04/2024 19:59:29\n",
      "  Finished: 12/04/2024 20:00:19\n",
      "  Total time elapsed: 00:00:49\n",
      "  CPU %: 26.90\n",
      "  Memory %: 31.10\n",
      "Created database: EI38_cutoff_remind_SSP2-Base_2030_VSI\n"
     ]
    },
    {
     "name": "stderr",
     "output_type": "stream",
     "text": [
      "Writing activities to SQLite3 database:\n",
      "0% [##############################] 100% | ETA: 00:00:00\n",
      "Total time elapsed: 00:00:43\n"
     ]
    },
    {
     "name": "stdout",
     "output_type": "stream",
     "text": [
      "Title: Writing activities to SQLite3 database:\n",
      "  Started: 12/04/2024 20:06:52\n",
      "  Finished: 12/04/2024 20:07:35\n",
      "  Total time elapsed: 00:00:43\n",
      "  CPU %: 40.20\n",
      "  Memory %: 31.52\n",
      "Created database: EI38_cutoff_remind_SSP2-Base_2035_VSI\n"
     ]
    },
    {
     "name": "stderr",
     "output_type": "stream",
     "text": [
      "Writing activities to SQLite3 database:\n",
      "0% [##############################] 100% | ETA: 00:00:00\n",
      "Total time elapsed: 00:00:49\n"
     ]
    },
    {
     "name": "stdout",
     "output_type": "stream",
     "text": [
      "Title: Writing activities to SQLite3 database:\n",
      "  Started: 12/04/2024 20:17:08\n",
      "  Finished: 12/04/2024 20:17:58\n",
      "  Total time elapsed: 00:00:49\n",
      "  CPU %: 25.20\n",
      "  Memory %: 31.56\n",
      "Created database: EI38_cutoff_remind_SSP2-Base_2040_VSI\n"
     ]
    },
    {
     "name": "stderr",
     "output_type": "stream",
     "text": [
      "Writing activities to SQLite3 database:\n",
      "0% [##############################] 100% | ETA: 00:00:00\n",
      "Total time elapsed: 00:00:44\n"
     ]
    },
    {
     "name": "stdout",
     "output_type": "stream",
     "text": [
      "Title: Writing activities to SQLite3 database:\n",
      "  Started: 12/04/2024 20:28:05\n",
      "  Finished: 12/04/2024 20:28:49\n",
      "  Total time elapsed: 00:00:44\n",
      "  CPU %: 33.10\n",
      "  Memory %: 31.67\n",
      "Created database: EI38_cutoff_remind_SSP5-Base_2020_VSI\n"
     ]
    },
    {
     "name": "stderr",
     "output_type": "stream",
     "text": [
      "Writing activities to SQLite3 database:\n",
      "0% [##############################] 100% | ETA: 00:00:00\n",
      "Total time elapsed: 00:00:43\n"
     ]
    },
    {
     "name": "stdout",
     "output_type": "stream",
     "text": [
      "Title: Writing activities to SQLite3 database:\n",
      "  Started: 12/04/2024 20:37:45\n",
      "  Finished: 12/04/2024 20:38:29\n",
      "  Total time elapsed: 00:00:43\n",
      "  CPU %: 22.50\n",
      "  Memory %: 31.94\n",
      "Created database: EI38_cutoff_remind_SSP5-Base_2025_VSI\n"
     ]
    },
    {
     "name": "stderr",
     "output_type": "stream",
     "text": [
      "Writing activities to SQLite3 database:\n",
      "0% [##############################] 100% | ETA: 00:00:00\n",
      "Total time elapsed: 00:00:44\n"
     ]
    },
    {
     "name": "stdout",
     "output_type": "stream",
     "text": [
      "Title: Writing activities to SQLite3 database:\n",
      "  Started: 12/04/2024 20:45:27\n",
      "  Finished: 12/04/2024 20:46:12\n",
      "  Total time elapsed: 00:00:44\n",
      "  CPU %: 11.30\n",
      "  Memory %: 30.16\n",
      "Created database: EI38_cutoff_remind_SSP5-Base_2030_VSI\n"
     ]
    },
    {
     "name": "stderr",
     "output_type": "stream",
     "text": [
      "Writing activities to SQLite3 database:\n",
      "0% [##############################] 100% | ETA: 00:00:00\n",
      "Total time elapsed: 00:00:45\n"
     ]
    },
    {
     "name": "stdout",
     "output_type": "stream",
     "text": [
      "Title: Writing activities to SQLite3 database:\n",
      "  Started: 12/04/2024 20:56:47\n",
      "  Finished: 12/04/2024 20:57:32\n",
      "  Total time elapsed: 00:00:45\n",
      "  CPU %: 13.00\n",
      "  Memory %: 31.20\n",
      "Created database: EI38_cutoff_remind_SSP5-Base_2035_VSI\n"
     ]
    },
    {
     "name": "stderr",
     "output_type": "stream",
     "text": [
      "Writing activities to SQLite3 database:\n",
      "0% [##############################] 100% | ETA: 00:00:00\n",
      "Total time elapsed: 00:00:50\n"
     ]
    },
    {
     "name": "stdout",
     "output_type": "stream",
     "text": [
      "Title: Writing activities to SQLite3 database:\n",
      "  Started: 12/04/2024 21:09:44\n",
      "  Finished: 12/04/2024 21:10:34\n",
      "  Total time elapsed: 00:00:50\n",
      "  CPU %: 13.10\n",
      "  Memory %: 31.54\n",
      "Created database: EI38_cutoff_remind_SSP5-Base_2040_VSI\n",
      "Generate scenario report.\n",
      "Report saved under g:\\My Drive\\10. PHD\\001. Articles\\2024_LCIA_DRAFT\\2 - Analysis\\V7\\export\\scenario_report.\n",
      "Generate change report.\n",
      "Report saved under g:\\My Drive\\10. PHD\\001. Articles\\2024_LCIA_DRAFT\\2 - Analysis\\V7.\n"
     ]
    }
   ],
   "source": [
    "# Writing the databases to Brightway \n",
    "## Considering this to be the baseline\n",
    "ndb.write_db_to_brightway(name=db_names)"
   ]
  },
  {
   "cell_type": "code",
   "execution_count": 18,
   "metadata": {},
   "outputs": [
    {
     "data": {
      "text/plain": [
       "['biosphere3',\n",
       " 'ecoinvent 3.8 cutoff',\n",
       " 'EI38_cutoff_remind_SSP1-Base_2020_baseline',\n",
       " 'EI38_cutoff_remind_SSP1-Base_2025_baseline',\n",
       " 'EI38_cutoff_remind_SSP1-Base_2030_baseline',\n",
       " 'EI38_cutoff_remind_SSP1-Base_2035_baseline',\n",
       " 'EI38_cutoff_remind_SSP1-Base_2040_baseline',\n",
       " 'EI38_cutoff_remind_SSP2-Base_2020_baseline',\n",
       " 'EI38_cutoff_remind_SSP2-Base_2025_baseline',\n",
       " 'EI38_cutoff_remind_SSP2-Base_2030_baseline',\n",
       " 'EI38_cutoff_remind_SSP2-Base_2035_baseline',\n",
       " 'EI38_cutoff_remind_SSP2-Base_2040_baseline',\n",
       " 'EI38_cutoff_remind_SSP5-Base_2020_baseline',\n",
       " 'EI38_cutoff_remind_SSP5-Base_2025_baseline',\n",
       " 'EI38_cutoff_remind_SSP5-Base_2030_baseline',\n",
       " 'EI38_cutoff_remind_SSP5-Base_2035_baseline',\n",
       " 'EI38_cutoff_remind_SSP5-Base_2040_baseline',\n",
       " 'EI38_cutoff_remind_SSP1-Base_2020_VSI',\n",
       " 'EI38_cutoff_remind_SSP1-Base_2025_VSI',\n",
       " 'EI38_cutoff_remind_SSP1-Base_2030_VSI',\n",
       " 'EI38_cutoff_remind_SSP1-Base_2035_VSI',\n",
       " 'EI38_cutoff_remind_SSP1-Base_2040_VSI',\n",
       " 'EI38_cutoff_remind_SSP2-Base_2020_VSI',\n",
       " 'EI38_cutoff_remind_SSP2-Base_2025_VSI',\n",
       " 'EI38_cutoff_remind_SSP2-Base_2030_VSI',\n",
       " 'EI38_cutoff_remind_SSP2-Base_2035_VSI',\n",
       " 'EI38_cutoff_remind_SSP2-Base_2040_VSI',\n",
       " 'EI38_cutoff_remind_SSP5-Base_2020_VSI',\n",
       " 'EI38_cutoff_remind_SSP5-Base_2025_VSI',\n",
       " 'EI38_cutoff_remind_SSP5-Base_2030_VSI',\n",
       " 'EI38_cutoff_remind_SSP5-Base_2035_VSI',\n",
       " 'EI38_cutoff_remind_SSP5-Base_2040_VSI']"
      ]
     },
     "execution_count": 18,
     "metadata": {},
     "output_type": "execute_result"
    }
   ],
   "source": [
    "list(bd.databases)"
   ]
  },
  {
   "cell_type": "code",
   "execution_count": null,
   "metadata": {},
   "outputs": [],
   "source": []
  }
 ],
 "metadata": {
  "kernelspec": {
   "display_name": "bw2premise-ei38compat-ok",
   "language": "python",
   "name": "python3"
  },
  "language_info": {
   "codemirror_mode": {
    "name": "ipython",
    "version": 3
   },
   "file_extension": ".py",
   "mimetype": "text/x-python",
   "name": "python",
   "nbconvert_exporter": "python",
   "pygments_lexer": "ipython3",
   "version": "3.11.8"
  }
 },
 "nbformat": 4,
 "nbformat_minor": 2
}
