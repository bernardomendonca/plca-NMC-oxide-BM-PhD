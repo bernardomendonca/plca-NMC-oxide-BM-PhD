{
 "cells": [
  {
   "cell_type": "code",
   "execution_count": null,
   "metadata": {},
   "outputs": [],
   "source": [
    "'''\n",
    "When working with ecoinvent 3.8, I need to use brightway2 + a downgrade of bw2io in order to properly create the biosphere3 database and to properly load ecoinvent 3.8 cutoff\n",
    "\n",
    "The ecoinvent 3.8 cutoff dataset has been loaded in the previous notebook, so now we need to use a different environment:\n",
    "The environment setup that can do this is bw2premise-ei38compat-ok\n",
    "\n",
    "In this notebook, we'll be using brightway2.5\n",
    "'''"
   ]
  },
  {
   "cell_type": "markdown",
   "metadata": {},
   "source": [
    "# Libraries"
   ]
  },
  {
   "cell_type": "code",
   "execution_count": 1,
   "metadata": {},
   "outputs": [],
   "source": [
    "# Import BW25 packages.\n",
    "import bw2data as bd"
   ]
  },
  {
   "cell_type": "markdown",
   "metadata": {},
   "source": [
    "# 1. Support Functions"
   ]
  },
  {
   "cell_type": "code",
   "execution_count": 2,
   "metadata": {},
   "outputs": [],
   "source": [
    "from database_setup import scenario_db_name"
   ]
  },
  {
   "cell_type": "markdown",
   "metadata": {},
   "source": [
    "# 2. Imports and Declarations"
   ]
  },
  {
   "cell_type": "code",
   "execution_count": 3,
   "metadata": {},
   "outputs": [
    {
     "data": {
      "text/plain": [
       "Brightway2 projects manager with 19 objects:\n",
       "\tLNV-EI38\n",
       "\tLNV-EI38-20241204\n",
       "\tLNV-EI38-202502025\n",
       "\tLNV-EI38-20250225\n",
       "\tLNV-EI38-20250226\n",
       "\tLNV-EI38-20250227\n",
       "\tLNV-EI38-20250303\n",
       "\tLNV-EI38-20250314\n",
       "\tLNV-EI38-20250317\n",
       "\tLNV-EI38-test20241120\n",
       "\tLNV-EI38-test20241120-BaselineEI38\n",
       "\tV1_pLCA_LiIon\n",
       "\tV1_pLCA_liIon\n",
       "\tV2_pLCA_LiIon\n",
       "\tV2_pLCA_liIon\n",
       "\tV3_pLCA_liion\n",
       "\tdefault\n",
       "\ttest-EI38-SSP1-Base\n",
       "\tv3_liion\n",
       "Use `projects.report()` to get a report on all projects."
      ]
     },
     "execution_count": 3,
     "metadata": {},
     "output_type": "execute_result"
    }
   ],
   "source": [
    "bd.projects"
   ]
  },
  {
   "cell_type": "code",
   "execution_count": 4,
   "metadata": {},
   "outputs": [],
   "source": [
    "#Creating/accessing the project\n",
    "# bd.projects.set_current(\"LNV-EI38-20250227\") #Creating/accessing the project\n",
    "\n",
    "\n",
    "# Fixing NMVOC:\n",
    "# bd.projects.set_current(\"LNV-EI38-20250303\") #Creating/accessing the project\n",
    "\n",
    "# Fixing logistic regression:\n",
    "bd.projects.set_current(\"LNV-EI38-20250317\") #Creating/accessing the project"
   ]
  },
  {
   "cell_type": "markdown",
   "metadata": {},
   "source": [
    "# 3. Incorporating Background Scenarios with Premise"
   ]
  },
  {
   "cell_type": "code",
   "execution_count": 5,
   "metadata": {},
   "outputs": [],
   "source": [
    "# From here:\n",
    "# https://premise.readthedocs.io/en/latest/introduction.html#default-iam-scenarios\n",
    "from premise import *"
   ]
  },
  {
   "cell_type": "code",
   "execution_count": null,
   "metadata": {},
   "outputs": [],
   "source": [
    "'''\n",
    "We'll incorporate the following scenarios, each per database:\n",
    "TRUE - SSP1-None (REMIND SSP1-Base)\n",
    "- SSP1-RCP1.9 (REMIND SSP1-PkBudg500)\n",
    "- SSP1-RCP2.6 (REMIND SSP1-PkBudg1150)\n",
    "TRUE - SSP2-None (REMIND SSP2-Base)\n",
    "- SSP2-RCP1.9 (REMIND SSP2-PkBudg500)\n",
    "- SSP2-RCP2.6 (REMIND SSP2-PkBudg1150)\n",
    "TRUE - SSP5-Base\n",
    "\n",
    "From:\n",
    "2025 to 2040\n",
    "\n",
    "And Create:\n",
    "- Baseline (keep without transforming)\n",
    "- BL + VSI\n",
    "'''"
   ]
  },
  {
   "cell_type": "markdown",
   "metadata": {},
   "source": [
    "## 2.1. Defining the scenarios"
   ]
  },
  {
   "cell_type": "code",
   "execution_count": 6,
   "metadata": {},
   "outputs": [],
   "source": [
    "# I want to work in between 2025 and 2040, therefore:\n",
    "years = range(2025, 2041, 5)"
   ]
  },
  {
   "cell_type": "code",
   "execution_count": 7,
   "metadata": {},
   "outputs": [],
   "source": [
    "# The scenarios defined previously are:\n",
    "scenario_definitions = [\n",
    "    {\"model\": \"remind\", \"pathway\": \"SSP1-Base\"}, # Confirmed working\n",
    "    # {\"model\": \"remind\", \"pathway\": \"SSP1-PkBudg500\"}, \n",
    "    # {\"model\": \"remind\", \"pathway\": \"SSP1-PkBudg1150\"},\n",
    "    {\"model\": \"remind\", \"pathway\": \"SSP2-Base\"}, # Confirmed working\n",
    "    # {\"model\": \"remind\", \"pathway\": \"SSP2-PkBudg500\"}, # Confirmed working\n",
    "    # {\"model\": \"remind\", \"pathway\": \"SSP2-PkBudg1150\"}, # Confirmed working\n",
    "    {\"model\": \"remind\", \"pathway\": \"SSP5-Base\"}, # Confirmed working\n",
    "]"
   ]
  },
  {
   "cell_type": "code",
   "execution_count": 8,
   "metadata": {},
   "outputs": [],
   "source": [
    "# Generating my list:\n",
    "scenarios = [\n",
    "    {**scenario, \"year\": year}\n",
    "    for scenario in scenario_definitions\n",
    "    for year in years\n",
    "]\n",
    "\n",
    "# List of custom database names with a suffix\n",
    "suffix_to_include = 'baseline'\n",
    "db_names = [scenario_db_name(scenario[\"model\"], scenario[\"pathway\"], scenario[\"year\"], suffix=suffix_to_include) for scenario in scenarios]"
   ]
  },
  {
   "cell_type": "code",
   "execution_count": 9,
   "metadata": {},
   "outputs": [
    {
     "data": {
      "text/plain": [
       "[{'model': 'remind', 'pathway': 'SSP1-Base', 'year': 2025},\n",
       " {'model': 'remind', 'pathway': 'SSP1-Base', 'year': 2030},\n",
       " {'model': 'remind', 'pathway': 'SSP1-Base', 'year': 2035},\n",
       " {'model': 'remind', 'pathway': 'SSP1-Base', 'year': 2040},\n",
       " {'model': 'remind', 'pathway': 'SSP2-Base', 'year': 2025},\n",
       " {'model': 'remind', 'pathway': 'SSP2-Base', 'year': 2030},\n",
       " {'model': 'remind', 'pathway': 'SSP2-Base', 'year': 2035},\n",
       " {'model': 'remind', 'pathway': 'SSP2-Base', 'year': 2040},\n",
       " {'model': 'remind', 'pathway': 'SSP5-Base', 'year': 2025},\n",
       " {'model': 'remind', 'pathway': 'SSP5-Base', 'year': 2030},\n",
       " {'model': 'remind', 'pathway': 'SSP5-Base', 'year': 2035},\n",
       " {'model': 'remind', 'pathway': 'SSP5-Base', 'year': 2040}]"
      ]
     },
     "execution_count": 9,
     "metadata": {},
     "output_type": "execute_result"
    }
   ],
   "source": [
    "scenarios"
   ]
  },
  {
   "cell_type": "markdown",
   "metadata": {},
   "source": [
    "# 4. Creating baseline databases"
   ]
  },
  {
   "cell_type": "code",
   "execution_count": 10,
   "metadata": {},
   "outputs": [
    {
     "name": "stdout",
     "output_type": "stream",
     "text": [
      "premise v.(2, 0, 1)\n",
      "+------------------------------------------------------------------+\n",
      "| Warning                                                          |\n",
      "+------------------------------------------------------------------+\n",
      "| Because some of the scenarios can yield LCI databases            |\n",
      "| containing net negative emission technologies (NET),             |\n",
      "| it is advised to account for biogenic CO2 flows when calculating |\n",
      "| Global Warming potential indicators.                             |\n",
      "| `premise_gwp` provides characterization factors for such flows.  |\n",
      "| It also provides factors for hydrogen emissions to air.          |\n",
      "|                                                                  |\n",
      "| Within your bw2 project:                                         |\n",
      "| from premise_gwp import add_premise_gwp                          |\n",
      "| add_premise_gwp()                                                |\n",
      "+------------------------------------------------------------------+\n",
      "+--------------------------------+----------------------------------+\n",
      "| Utils functions                | Description                      |\n",
      "+--------------------------------+----------------------------------+\n",
      "| clear_cache()                  | Clears the cache folder. Useful  |\n",
      "|                                | when updating `premise`or        |\n",
      "|                                | encountering issues with         |\n",
      "|                                | inventories.                     |\n",
      "+--------------------------------+----------------------------------+\n",
      "| get_regions_definition(model)  | Retrieves the list of countries  |\n",
      "|                                | for each region of the model.    |\n",
      "+--------------------------------+----------------------------------+\n",
      "| ndb.NewDatabase(...)           | Generates a summary of the most  |\n",
      "| ndb.generate_scenario_report() | important scenarios' variables.  |\n",
      "+--------------------------------+----------------------------------+\n",
      "Keep uncertainty data?\n",
      "NewDatabase(..., keep_uncertainty_data=True)\n",
      "\n",
      "Disable multiprocessing?\n",
      "NewDatabase(..., use_multiprocessing=False)\n",
      "\n",
      "Hide these messages?\n",
      "NewDatabase(..., quiet=True)\n",
      "- Extracting source database\n",
      "- Extracting inventories\n",
      "- Fetching IAM data\n",
      "Done!\n"
     ]
    }
   ],
   "source": [
    "# Creating the new databases:\n",
    "ndb = NewDatabase(\n",
    "      scenarios=scenarios,\n",
    "      source_db=\"ecoinvent 3.8 cutoff\",\n",
    "      source_version=\"3.8\", \n",
    "      key='tUePmX_S5B8ieZkkM7WUU2CnO8SmShwmAeWK9x2rTFo=',\n",
    "      use_multiprocessing=True,\n",
    "      keep_uncertainty_data=False\n",
    "  )"
   ]
  },
  {
   "cell_type": "code",
   "execution_count": 11,
   "metadata": {},
   "outputs": [
    {
     "data": {
      "text/plain": [
       "\"\\nUp to this point, we'll have the new databases (defined by the scenarios) added to the project.\\n\\nWe still need to transform the database based on the updates we want to run.\\n\\nSome update examples here:\\nhttps://github.com/polca/premise/blob/master/examples/examples.ipynb\\n\\nList of ndb.update() methods:\\nhttps://github.com/polca/premise/blob/3bb7a9c9bc0b72165450f27c3dce1a2cbedd523e/premise/new_database.py#L866\\n\\n\""
      ]
     },
     "execution_count": 11,
     "metadata": {},
     "output_type": "execute_result"
    }
   ],
   "source": [
    "'''\n",
    "Up to this point, we'll have the new databases (defined by the scenarios) added to the project.\n",
    "\n",
    "We still need to transform the database based on the updates we want to run.\n",
    "\n",
    "Some update examples here:\n",
    "https://github.com/polca/premise/blob/master/examples/examples.ipynb\n",
    "\n",
    "List of ndb.update() methods:\n",
    "https://github.com/polca/premise/blob/3bb7a9c9bc0b72165450f27c3dce1a2cbedd523e/premise/new_database.py#L866\n",
    "\n",
    "'''"
   ]
  },
  {
   "cell_type": "code",
   "execution_count": 12,
   "metadata": {},
   "outputs": [
    {
     "name": "stdout",
     "output_type": "stream",
     "text": [
      "`update()` will skip the following sectors: 'buses', 'cars', 'two_wheelers'.\n",
      "If you want to update these sectors, please run them separately afterwards.\n"
     ]
    },
    {
     "name": "stderr",
     "output_type": "stream",
     "text": [
      "Updating: external:  90%|████████████▌ | 9/10 [13:51<01:32, 92.43s/it]\n"
     ]
    },
    {
     "name": "stdout",
     "output_type": "stream",
     "text": [
      "External scenarios (datapackages) are not provided. Skipped.\n",
      "Done!\n",
      "\n"
     ]
    }
   ],
   "source": [
    "ndb.update() # <- updates eveyrthing!\n",
    "\n",
    "## More info here:\n",
    "# https://premise.readthedocs.io/en/latest/transform.html"
   ]
  },
  {
   "cell_type": "code",
   "execution_count": 13,
   "metadata": {},
   "outputs": [
    {
     "data": {
      "text/plain": [
       "['EI38_cutoff_remind_SSP1-Base_2025_baseline',\n",
       " 'EI38_cutoff_remind_SSP1-Base_2030_baseline',\n",
       " 'EI38_cutoff_remind_SSP1-Base_2035_baseline',\n",
       " 'EI38_cutoff_remind_SSP1-Base_2040_baseline',\n",
       " 'EI38_cutoff_remind_SSP2-Base_2025_baseline',\n",
       " 'EI38_cutoff_remind_SSP2-Base_2030_baseline',\n",
       " 'EI38_cutoff_remind_SSP2-Base_2035_baseline',\n",
       " 'EI38_cutoff_remind_SSP2-Base_2040_baseline',\n",
       " 'EI38_cutoff_remind_SSP5-Base_2025_baseline',\n",
       " 'EI38_cutoff_remind_SSP5-Base_2030_baseline',\n",
       " 'EI38_cutoff_remind_SSP5-Base_2035_baseline',\n",
       " 'EI38_cutoff_remind_SSP5-Base_2040_baseline']"
      ]
     },
     "execution_count": 13,
     "metadata": {},
     "output_type": "execute_result"
    }
   ],
   "source": [
    "db_names"
   ]
  },
  {
   "cell_type": "code",
   "execution_count": 14,
   "metadata": {},
   "outputs": [
    {
     "name": "stdout",
     "output_type": "stream",
     "text": [
      "Write new database(s) to Brightway.\n",
      "Running all checks...\n",
      "Anomalies found: check the change report.\n",
      "Running all checks...\n",
      "Anomalies found: check the change report.\n",
      "Running all checks...\n",
      "Anomalies found: check the change report.\n",
      "Running all checks...\n",
      "Anomalies found: check the change report.\n",
      "Running all checks...\n",
      "Anomalies found: check the change report.\n",
      "Running all checks...\n",
      "Anomalies found: check the change report.\n",
      "Running all checks...\n",
      "Anomalies found: check the change report.\n",
      "Running all checks...\n",
      "Anomalies found: check the change report.\n",
      "Running all checks...\n",
      "Anomalies found: check the change report.\n",
      "Running all checks...\n",
      "Anomalies found: check the change report.\n",
      "Running all checks...\n",
      "Anomalies found: check the change report.\n",
      "Running all checks...\n",
      "Anomalies found: check the change report.\n"
     ]
    },
    {
     "name": "stderr",
     "output_type": "stream",
     "text": [
      "Writing activities to SQLite3 database:\n",
      "0% [##############################] 100% | ETA: 00:00:00\n",
      "Total time elapsed: 00:00:42\n"
     ]
    },
    {
     "name": "stdout",
     "output_type": "stream",
     "text": [
      "Title: Writing activities to SQLite3 database:\n",
      "  Started: 03/17/2025 10:25:48\n",
      "  Finished: 03/17/2025 10:26:31\n",
      "  Total time elapsed: 00:00:42\n",
      "  CPU %: 28.50\n",
      "  Memory %: 34.25\n",
      "Created database: EI38_cutoff_remind_SSP1-Base_2025_baseline\n"
     ]
    },
    {
     "name": "stderr",
     "output_type": "stream",
     "text": [
      "Writing activities to SQLite3 database:\n",
      "0% [##############################] 100% | ETA: 00:00:00\n",
      "Total time elapsed: 00:00:43\n"
     ]
    },
    {
     "name": "stdout",
     "output_type": "stream",
     "text": [
      "Title: Writing activities to SQLite3 database:\n",
      "  Started: 03/17/2025 10:29:06\n",
      "  Finished: 03/17/2025 10:29:49\n",
      "  Total time elapsed: 00:00:43\n",
      "  CPU %: 34.10\n",
      "  Memory %: 34.39\n",
      "Created database: EI38_cutoff_remind_SSP1-Base_2030_baseline\n"
     ]
    },
    {
     "name": "stderr",
     "output_type": "stream",
     "text": [
      "Writing activities to SQLite3 database:\n",
      "0% [##############################] 100% | ETA: 00:00:00\n",
      "Total time elapsed: 00:00:47\n"
     ]
    },
    {
     "name": "stdout",
     "output_type": "stream",
     "text": [
      "Title: Writing activities to SQLite3 database:\n",
      "  Started: 03/17/2025 10:32:24\n",
      "  Finished: 03/17/2025 10:33:11\n",
      "  Total time elapsed: 00:00:47\n",
      "  CPU %: 15.10\n",
      "  Memory %: 34.45\n",
      "Created database: EI38_cutoff_remind_SSP1-Base_2035_baseline\n"
     ]
    },
    {
     "name": "stderr",
     "output_type": "stream",
     "text": [
      "Writing activities to SQLite3 database:\n",
      "0% [##############################] 100% | ETA: 00:00:00\n",
      "Total time elapsed: 00:00:42\n"
     ]
    },
    {
     "name": "stdout",
     "output_type": "stream",
     "text": [
      "Title: Writing activities to SQLite3 database:\n",
      "  Started: 03/17/2025 10:35:54\n",
      "  Finished: 03/17/2025 10:36:37\n",
      "  Total time elapsed: 00:00:42\n",
      "  CPU %: 38.60\n",
      "  Memory %: 34.49\n",
      "Created database: EI38_cutoff_remind_SSP1-Base_2040_baseline\n"
     ]
    },
    {
     "name": "stderr",
     "output_type": "stream",
     "text": [
      "Writing activities to SQLite3 database:\n",
      "0% [##############################] 100% | ETA: 00:00:00\n",
      "Total time elapsed: 00:00:42\n"
     ]
    },
    {
     "name": "stdout",
     "output_type": "stream",
     "text": [
      "Title: Writing activities to SQLite3 database:\n",
      "  Started: 03/17/2025 10:39:27\n",
      "  Finished: 03/17/2025 10:40:10\n",
      "  Total time elapsed: 00:00:42\n",
      "  CPU %: 11.70\n",
      "  Memory %: 34.53\n",
      "Created database: EI38_cutoff_remind_SSP2-Base_2025_baseline\n"
     ]
    },
    {
     "name": "stderr",
     "output_type": "stream",
     "text": [
      "Writing activities to SQLite3 database:\n",
      "0% [##############################] 100% | ETA: 00:00:00\n",
      "Total time elapsed: 00:00:45\n"
     ]
    },
    {
     "name": "stdout",
     "output_type": "stream",
     "text": [
      "Title: Writing activities to SQLite3 database:\n",
      "  Started: 03/17/2025 10:42:59\n",
      "  Finished: 03/17/2025 10:43:45\n",
      "  Total time elapsed: 00:00:45\n",
      "  CPU %: 33.50\n",
      "  Memory %: 34.59\n",
      "Created database: EI38_cutoff_remind_SSP2-Base_2030_baseline\n"
     ]
    },
    {
     "name": "stderr",
     "output_type": "stream",
     "text": [
      "Writing activities to SQLite3 database:\n",
      "0% [##############################] 100% | ETA: 00:00:00\n",
      "Total time elapsed: 00:00:42\n"
     ]
    },
    {
     "name": "stdout",
     "output_type": "stream",
     "text": [
      "Title: Writing activities to SQLite3 database:\n",
      "  Started: 03/17/2025 10:46:43\n",
      "  Finished: 03/17/2025 10:47:26\n",
      "  Total time elapsed: 00:00:42\n",
      "  CPU %: 26.40\n",
      "  Memory %: 34.63\n",
      "Created database: EI38_cutoff_remind_SSP2-Base_2035_baseline\n"
     ]
    },
    {
     "name": "stderr",
     "output_type": "stream",
     "text": [
      "Writing activities to SQLite3 database:\n",
      "0% [##############################] 100% | ETA: 00:00:00\n",
      "Total time elapsed: 00:00:43\n"
     ]
    },
    {
     "name": "stdout",
     "output_type": "stream",
     "text": [
      "Title: Writing activities to SQLite3 database:\n",
      "  Started: 03/17/2025 10:50:28\n",
      "  Finished: 03/17/2025 10:51:11\n",
      "  Total time elapsed: 00:00:43\n",
      "  CPU %: 10.60\n",
      "  Memory %: 34.67\n",
      "Created database: EI38_cutoff_remind_SSP2-Base_2040_baseline\n"
     ]
    },
    {
     "name": "stderr",
     "output_type": "stream",
     "text": [
      "Writing activities to SQLite3 database:\n",
      "0% [##############################] 100% | ETA: 00:00:00\n",
      "Total time elapsed: 00:00:45\n"
     ]
    },
    {
     "name": "stdout",
     "output_type": "stream",
     "text": [
      "Title: Writing activities to SQLite3 database:\n",
      "  Started: 03/17/2025 10:54:21\n",
      "  Finished: 03/17/2025 10:55:06\n",
      "  Total time elapsed: 00:00:45\n",
      "  CPU %: 38.00\n",
      "  Memory %: 34.70\n",
      "Created database: EI38_cutoff_remind_SSP5-Base_2025_baseline\n"
     ]
    },
    {
     "name": "stderr",
     "output_type": "stream",
     "text": [
      "Writing activities to SQLite3 database:\n",
      "0% [##############################] 100% | ETA: 00:00:00\n",
      "Total time elapsed: 00:00:46\n"
     ]
    },
    {
     "name": "stdout",
     "output_type": "stream",
     "text": [
      "Title: Writing activities to SQLite3 database:\n",
      "  Started: 03/17/2025 10:58:17\n",
      "  Finished: 03/17/2025 10:59:03\n",
      "  Total time elapsed: 00:00:46\n",
      "  CPU %: 23.40\n",
      "  Memory %: 34.73\n",
      "Created database: EI38_cutoff_remind_SSP5-Base_2030_baseline\n"
     ]
    },
    {
     "name": "stderr",
     "output_type": "stream",
     "text": [
      "Writing activities to SQLite3 database:\n",
      "0% [##############################] 100% | ETA: 00:00:00\n",
      "Total time elapsed: 00:00:43\n"
     ]
    },
    {
     "name": "stdout",
     "output_type": "stream",
     "text": [
      "Title: Writing activities to SQLite3 database:\n",
      "  Started: 03/17/2025 11:02:17\n",
      "  Finished: 03/17/2025 11:03:01\n",
      "  Total time elapsed: 00:00:43\n",
      "  CPU %: 16.30\n",
      "  Memory %: 34.76\n",
      "Created database: EI38_cutoff_remind_SSP5-Base_2035_baseline\n"
     ]
    },
    {
     "name": "stderr",
     "output_type": "stream",
     "text": [
      "Writing activities to SQLite3 database:\n",
      "0% [##############################] 100% | ETA: 00:00:00\n",
      "Total time elapsed: 00:00:46\n"
     ]
    },
    {
     "name": "stdout",
     "output_type": "stream",
     "text": [
      "Title: Writing activities to SQLite3 database:\n",
      "  Started: 03/17/2025 11:06:25\n",
      "  Finished: 03/17/2025 11:07:12\n",
      "  Total time elapsed: 00:00:46\n",
      "  CPU %: 34.20\n",
      "  Memory %: 34.81\n",
      "Created database: EI38_cutoff_remind_SSP5-Base_2040_baseline\n",
      "Generate scenario report.\n",
      "Report saved under c:\\Users\\berna\\OneDrive\\Documentos\\GitHub\\plca-NMC-oxide-BM-PhD\\export\\scenario_report.\n",
      "Generate change report.\n",
      "Report saved under c:\\Users\\berna\\OneDrive\\Documentos\\GitHub\\plca-NMC-oxide-BM-PhD.\n"
     ]
    }
   ],
   "source": [
    "# Writing the databases to Brightway \n",
    "## Considering this to be the baseline\n",
    "ndb.write_db_to_brightway(name=db_names)"
   ]
  },
  {
   "cell_type": "markdown",
   "metadata": {},
   "source": [
    "# 5. Also creating the VSI anciliary database"
   ]
  },
  {
   "cell_type": "code",
   "execution_count": 15,
   "metadata": {},
   "outputs": [],
   "source": [
    "# List of custom database names with a suffix\n",
    "suffix_to_include = 'VSI'\n",
    "db_names = [scenario_db_name(scenario[\"model\"], scenario[\"pathway\"], scenario[\"year\"], suffix=suffix_to_include) for scenario in scenarios]"
   ]
  },
  {
   "cell_type": "code",
   "execution_count": 16,
   "metadata": {},
   "outputs": [
    {
     "data": {
      "text/plain": [
       "['EI38_cutoff_remind_SSP1-Base_2025_VSI',\n",
       " 'EI38_cutoff_remind_SSP1-Base_2030_VSI',\n",
       " 'EI38_cutoff_remind_SSP1-Base_2035_VSI',\n",
       " 'EI38_cutoff_remind_SSP1-Base_2040_VSI',\n",
       " 'EI38_cutoff_remind_SSP2-Base_2025_VSI',\n",
       " 'EI38_cutoff_remind_SSP2-Base_2030_VSI',\n",
       " 'EI38_cutoff_remind_SSP2-Base_2035_VSI',\n",
       " 'EI38_cutoff_remind_SSP2-Base_2040_VSI',\n",
       " 'EI38_cutoff_remind_SSP5-Base_2025_VSI',\n",
       " 'EI38_cutoff_remind_SSP5-Base_2030_VSI',\n",
       " 'EI38_cutoff_remind_SSP5-Base_2035_VSI',\n",
       " 'EI38_cutoff_remind_SSP5-Base_2040_VSI']"
      ]
     },
     "execution_count": 16,
     "metadata": {},
     "output_type": "execute_result"
    }
   ],
   "source": [
    "db_names"
   ]
  },
  {
   "cell_type": "code",
   "execution_count": 17,
   "metadata": {},
   "outputs": [
    {
     "name": "stdout",
     "output_type": "stream",
     "text": [
      "premise v.(2, 0, 1)\n",
      "+------------------------------------------------------------------+\n",
      "| Warning                                                          |\n",
      "+------------------------------------------------------------------+\n",
      "| Because some of the scenarios can yield LCI databases            |\n",
      "| containing net negative emission technologies (NET),             |\n",
      "| it is advised to account for biogenic CO2 flows when calculating |\n",
      "| Global Warming potential indicators.                             |\n",
      "| `premise_gwp` provides characterization factors for such flows.  |\n",
      "| It also provides factors for hydrogen emissions to air.          |\n",
      "|                                                                  |\n",
      "| Within your bw2 project:                                         |\n",
      "| from premise_gwp import add_premise_gwp                          |\n",
      "| add_premise_gwp()                                                |\n",
      "+------------------------------------------------------------------+\n",
      "+--------------------------------+----------------------------------+\n",
      "| Utils functions                | Description                      |\n",
      "+--------------------------------+----------------------------------+\n",
      "| clear_cache()                  | Clears the cache folder. Useful  |\n",
      "|                                | when updating `premise`or        |\n",
      "|                                | encountering issues with         |\n",
      "|                                | inventories.                     |\n",
      "+--------------------------------+----------------------------------+\n",
      "| get_regions_definition(model)  | Retrieves the list of countries  |\n",
      "|                                | for each region of the model.    |\n",
      "+--------------------------------+----------------------------------+\n",
      "| ndb.NewDatabase(...)           | Generates a summary of the most  |\n",
      "| ndb.generate_scenario_report() | important scenarios' variables.  |\n",
      "+--------------------------------+----------------------------------+\n",
      "Keep uncertainty data?\n",
      "NewDatabase(..., keep_uncertainty_data=True)\n",
      "\n",
      "Disable multiprocessing?\n",
      "NewDatabase(..., use_multiprocessing=False)\n",
      "\n",
      "Hide these messages?\n",
      "NewDatabase(..., quiet=True)\n",
      "- Extracting source database\n",
      "- Extracting inventories\n",
      "- Fetching IAM data\n",
      "Done!\n"
     ]
    }
   ],
   "source": [
    "# Creating the new databases:\n",
    "ndb = NewDatabase(\n",
    "      scenarios=scenarios,\n",
    "      source_db=\"ecoinvent 3.8 cutoff\",\n",
    "      source_version=\"3.8\", \n",
    "      key='tUePmX_S5B8ieZkkM7WUU2CnO8SmShwmAeWK9x2rTFo=',\n",
    "      use_multiprocessing=True,\n",
    "      keep_uncertainty_data=False\n",
    "  )"
   ]
  },
  {
   "cell_type": "code",
   "execution_count": 18,
   "metadata": {},
   "outputs": [
    {
     "name": "stdout",
     "output_type": "stream",
     "text": [
      "`update()` will skip the following sectors: 'buses', 'cars', 'two_wheelers'.\n",
      "If you want to update these sectors, please run them separately afterwards.\n"
     ]
    },
    {
     "name": "stderr",
     "output_type": "stream",
     "text": [
      "Updating: external:  90%|████████████▌ | 9/10 [14:19<01:35, 95.46s/it]\n"
     ]
    },
    {
     "name": "stdout",
     "output_type": "stream",
     "text": [
      "External scenarios (datapackages) are not provided. Skipped.\n",
      "Done!\n",
      "\n"
     ]
    }
   ],
   "source": [
    "ndb.update() # <- updates eveyrthing!\n",
    "\n",
    "## More info here:\n",
    "# https://premise.readthedocs.io/en/latest/transform.html"
   ]
  },
  {
   "cell_type": "code",
   "execution_count": 19,
   "metadata": {},
   "outputs": [
    {
     "name": "stdout",
     "output_type": "stream",
     "text": [
      "Write new database(s) to Brightway.\n",
      "Running all checks...\n",
      "Anomalies found: check the change report.\n",
      "Running all checks...\n",
      "Anomalies found: check the change report.\n",
      "Running all checks...\n",
      "Anomalies found: check the change report.\n",
      "Running all checks...\n",
      "Anomalies found: check the change report.\n",
      "Running all checks...\n",
      "Anomalies found: check the change report.\n",
      "Running all checks...\n",
      "Anomalies found: check the change report.\n",
      "Running all checks...\n",
      "Anomalies found: check the change report.\n",
      "Running all checks...\n",
      "Anomalies found: check the change report.\n",
      "Running all checks...\n",
      "Anomalies found: check the change report.\n",
      "Running all checks...\n",
      "Anomalies found: check the change report.\n",
      "Running all checks...\n",
      "Anomalies found: check the change report.\n",
      "Running all checks...\n",
      "Anomalies found: check the change report.\n"
     ]
    },
    {
     "name": "stderr",
     "output_type": "stream",
     "text": [
      "Writing activities to SQLite3 database:\n",
      "0% [##############################] 100% | ETA: 00:00:00\n",
      "Total time elapsed: 00:00:46\n"
     ]
    },
    {
     "name": "stdout",
     "output_type": "stream",
     "text": [
      "Title: Writing activities to SQLite3 database:\n",
      "  Started: 03/17/2025 11:34:32\n",
      "  Finished: 03/17/2025 11:35:18\n",
      "  Total time elapsed: 00:00:46\n",
      "  CPU %: 29.20\n",
      "  Memory %: 47.20\n",
      "Created database: EI38_cutoff_remind_SSP1-Base_2025_VSI\n"
     ]
    },
    {
     "name": "stderr",
     "output_type": "stream",
     "text": [
      "Writing activities to SQLite3 database:\n",
      "0% [##############################] 100% | ETA: 00:00:00\n",
      "Total time elapsed: 00:00:43\n"
     ]
    },
    {
     "name": "stdout",
     "output_type": "stream",
     "text": [
      "Title: Writing activities to SQLite3 database:\n",
      "  Started: 03/17/2025 11:38:56\n",
      "  Finished: 03/17/2025 11:39:40\n",
      "  Total time elapsed: 00:00:43\n",
      "  CPU %: 14.60\n",
      "  Memory %: 47.23\n",
      "Created database: EI38_cutoff_remind_SSP1-Base_2030_VSI\n"
     ]
    },
    {
     "name": "stderr",
     "output_type": "stream",
     "text": [
      "Writing activities to SQLite3 database:\n",
      "0% [##############################] 100% | ETA: 00:00:00\n",
      "Total time elapsed: 00:00:43\n"
     ]
    },
    {
     "name": "stdout",
     "output_type": "stream",
     "text": [
      "Title: Writing activities to SQLite3 database:\n",
      "  Started: 03/17/2025 11:43:32\n",
      "  Finished: 03/17/2025 11:44:16\n",
      "  Total time elapsed: 00:00:43\n",
      "  CPU %: 28.50\n",
      "  Memory %: 46.94\n",
      "Created database: EI38_cutoff_remind_SSP1-Base_2035_VSI\n"
     ]
    },
    {
     "name": "stderr",
     "output_type": "stream",
     "text": [
      "Writing activities to SQLite3 database:\n",
      "0% [##############################] 100% | ETA: 00:00:00\n",
      "Total time elapsed: 00:00:47\n"
     ]
    },
    {
     "name": "stdout",
     "output_type": "stream",
     "text": [
      "Title: Writing activities to SQLite3 database:\n",
      "  Started: 03/17/2025 11:48:30\n",
      "  Finished: 03/17/2025 11:49:18\n",
      "  Total time elapsed: 00:00:47\n",
      "  CPU %: 32.60\n",
      "  Memory %: 46.95\n",
      "Created database: EI38_cutoff_remind_SSP1-Base_2040_VSI\n"
     ]
    },
    {
     "name": "stderr",
     "output_type": "stream",
     "text": [
      "Writing activities to SQLite3 database:\n",
      "0% [##############################] 100% | ETA: 00:00:00\n",
      "Total time elapsed: 00:00:45\n"
     ]
    },
    {
     "name": "stdout",
     "output_type": "stream",
     "text": [
      "Title: Writing activities to SQLite3 database:\n",
      "  Started: 03/17/2025 11:53:46\n",
      "  Finished: 03/17/2025 11:54:32\n",
      "  Total time elapsed: 00:00:45\n",
      "  CPU %: 37.70\n",
      "  Memory %: 46.18\n",
      "Created database: EI38_cutoff_remind_SSP2-Base_2025_VSI\n"
     ]
    },
    {
     "name": "stderr",
     "output_type": "stream",
     "text": [
      "Writing activities to SQLite3 database:\n",
      "0% [##############################] 100% | ETA: 00:00:00\n",
      "Total time elapsed: 00:00:42\n"
     ]
    },
    {
     "name": "stdout",
     "output_type": "stream",
     "text": [
      "Title: Writing activities to SQLite3 database:\n",
      "  Started: 03/17/2025 11:59:28\n",
      "  Finished: 03/17/2025 12:00:11\n",
      "  Total time elapsed: 00:00:42\n",
      "  CPU %: 40.20\n",
      "  Memory %: 44.42\n",
      "Created database: EI38_cutoff_remind_SSP2-Base_2030_VSI\n"
     ]
    },
    {
     "name": "stderr",
     "output_type": "stream",
     "text": [
      "Writing activities to SQLite3 database:\n",
      "0% [##############################] 100% | ETA: 00:00:00\n",
      "Total time elapsed: 00:00:47\n"
     ]
    },
    {
     "name": "stdout",
     "output_type": "stream",
     "text": [
      "Title: Writing activities to SQLite3 database:\n",
      "  Started: 03/17/2025 12:05:47\n",
      "  Finished: 03/17/2025 12:06:34\n",
      "  Total time elapsed: 00:00:47\n",
      "  CPU %: 39.70\n",
      "  Memory %: 42.29\n",
      "Created database: EI38_cutoff_remind_SSP2-Base_2035_VSI\n"
     ]
    },
    {
     "name": "stderr",
     "output_type": "stream",
     "text": [
      "Writing activities to SQLite3 database:\n",
      "0% [##############################] 100% | ETA: 00:00:00\n",
      "Total time elapsed: 00:00:47\n"
     ]
    },
    {
     "name": "stdout",
     "output_type": "stream",
     "text": [
      "Title: Writing activities to SQLite3 database:\n",
      "  Started: 03/17/2025 12:12:30\n",
      "  Finished: 03/17/2025 12:13:17\n",
      "  Total time elapsed: 00:00:47\n",
      "  CPU %: 33.30\n",
      "  Memory %: 40.20\n",
      "Created database: EI38_cutoff_remind_SSP2-Base_2040_VSI\n"
     ]
    },
    {
     "name": "stderr",
     "output_type": "stream",
     "text": [
      "Writing activities to SQLite3 database:\n",
      "0% [##############################] 100% | ETA: 00:00:00\n",
      "Total time elapsed: 00:00:43\n"
     ]
    },
    {
     "name": "stdout",
     "output_type": "stream",
     "text": [
      "Title: Writing activities to SQLite3 database:\n",
      "  Started: 03/17/2025 12:19:25\n",
      "  Finished: 03/17/2025 12:20:08\n",
      "  Total time elapsed: 00:00:43\n",
      "  CPU %: 27.40\n",
      "  Memory %: 37.75\n",
      "Created database: EI38_cutoff_remind_SSP5-Base_2025_VSI\n"
     ]
    },
    {
     "name": "stderr",
     "output_type": "stream",
     "text": [
      "Writing activities to SQLite3 database:\n",
      "0% [##############################] 100% | ETA: 00:00:00\n",
      "Total time elapsed: 00:00:44\n"
     ]
    },
    {
     "name": "stdout",
     "output_type": "stream",
     "text": [
      "Title: Writing activities to SQLite3 database:\n",
      "  Started: 03/17/2025 12:27:07\n",
      "  Finished: 03/17/2025 12:27:52\n",
      "  Total time elapsed: 00:00:44\n",
      "  CPU %: 14.60\n",
      "  Memory %: 34.46\n",
      "Created database: EI38_cutoff_remind_SSP5-Base_2030_VSI\n"
     ]
    },
    {
     "name": "stderr",
     "output_type": "stream",
     "text": [
      "Writing activities to SQLite3 database:\n",
      "0% [##############################] 100% | ETA: 00:00:00\n",
      "Total time elapsed: 00:00:47\n"
     ]
    },
    {
     "name": "stdout",
     "output_type": "stream",
     "text": [
      "Title: Writing activities to SQLite3 database:\n",
      "  Started: 03/17/2025 12:34:36\n",
      "  Finished: 03/17/2025 12:35:24\n",
      "  Total time elapsed: 00:00:47\n",
      "  CPU %: 29.80\n",
      "  Memory %: 29.94\n",
      "Created database: EI38_cutoff_remind_SSP5-Base_2035_VSI\n"
     ]
    },
    {
     "name": "stderr",
     "output_type": "stream",
     "text": [
      "Writing activities to SQLite3 database:\n",
      "0% [##############################] 100% | ETA: 00:00:00\n",
      "Total time elapsed: 00:00:43\n"
     ]
    },
    {
     "name": "stdout",
     "output_type": "stream",
     "text": [
      "Title: Writing activities to SQLite3 database:\n",
      "  Started: 03/17/2025 12:41:11\n",
      "  Finished: 03/17/2025 12:41:55\n",
      "  Total time elapsed: 00:00:43\n",
      "  CPU %: 29.60\n",
      "  Memory %: 28.34\n",
      "Created database: EI38_cutoff_remind_SSP5-Base_2040_VSI\n",
      "Generate scenario report.\n",
      "Report saved under c:\\Users\\berna\\OneDrive\\Documentos\\GitHub\\plca-NMC-oxide-BM-PhD\\export\\scenario_report.\n",
      "Generate change report.\n",
      "Report saved under c:\\Users\\berna\\OneDrive\\Documentos\\GitHub\\plca-NMC-oxide-BM-PhD.\n"
     ]
    }
   ],
   "source": [
    "# Writing the databases to Brightway \n",
    "## Considering this to be the baseline\n",
    "ndb.write_db_to_brightway(name=db_names)"
   ]
  },
  {
   "cell_type": "code",
   "execution_count": 20,
   "metadata": {},
   "outputs": [
    {
     "data": {
      "text/plain": [
       "['biosphere3',\n",
       " 'ecoinvent 3.8 cutoff',\n",
       " 'EI38_cutoff_remind_SSP1-Base_2025_baseline',\n",
       " 'EI38_cutoff_remind_SSP1-Base_2030_baseline',\n",
       " 'EI38_cutoff_remind_SSP1-Base_2035_baseline',\n",
       " 'EI38_cutoff_remind_SSP1-Base_2040_baseline',\n",
       " 'EI38_cutoff_remind_SSP2-Base_2025_baseline',\n",
       " 'EI38_cutoff_remind_SSP2-Base_2030_baseline',\n",
       " 'EI38_cutoff_remind_SSP2-Base_2035_baseline',\n",
       " 'EI38_cutoff_remind_SSP2-Base_2040_baseline',\n",
       " 'EI38_cutoff_remind_SSP5-Base_2025_baseline',\n",
       " 'EI38_cutoff_remind_SSP5-Base_2030_baseline',\n",
       " 'EI38_cutoff_remind_SSP5-Base_2035_baseline',\n",
       " 'EI38_cutoff_remind_SSP5-Base_2040_baseline',\n",
       " 'EI38_cutoff_remind_SSP1-Base_2025_VSI',\n",
       " 'EI38_cutoff_remind_SSP1-Base_2030_VSI',\n",
       " 'EI38_cutoff_remind_SSP1-Base_2035_VSI',\n",
       " 'EI38_cutoff_remind_SSP1-Base_2040_VSI',\n",
       " 'EI38_cutoff_remind_SSP2-Base_2025_VSI',\n",
       " 'EI38_cutoff_remind_SSP2-Base_2030_VSI',\n",
       " 'EI38_cutoff_remind_SSP2-Base_2035_VSI',\n",
       " 'EI38_cutoff_remind_SSP2-Base_2040_VSI',\n",
       " 'EI38_cutoff_remind_SSP5-Base_2025_VSI',\n",
       " 'EI38_cutoff_remind_SSP5-Base_2030_VSI',\n",
       " 'EI38_cutoff_remind_SSP5-Base_2035_VSI',\n",
       " 'EI38_cutoff_remind_SSP5-Base_2040_VSI']"
      ]
     },
     "execution_count": 20,
     "metadata": {},
     "output_type": "execute_result"
    }
   ],
   "source": [
    "list(bd.databases)"
   ]
  },
  {
   "cell_type": "code",
   "execution_count": null,
   "metadata": {},
   "outputs": [],
   "source": []
  },
  {
   "cell_type": "code",
   "execution_count": null,
   "metadata": {},
   "outputs": [],
   "source": []
  }
 ],
 "metadata": {
  "kernelspec": {
   "display_name": "Python 3",
   "language": "python",
   "name": "python3"
  },
  "language_info": {
   "codemirror_mode": {
    "name": "ipython",
    "version": 3
   },
   "file_extension": ".py",
   "mimetype": "text/x-python",
   "name": "python",
   "nbconvert_exporter": "python",
   "pygments_lexer": "ipython3",
   "version": "3.11.8"
  }
 },
 "nbformat": 4,
 "nbformat_minor": 2
}
