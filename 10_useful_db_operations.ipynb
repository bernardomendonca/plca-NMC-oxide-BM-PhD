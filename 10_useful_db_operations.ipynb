{
 "cells": [
  {
   "cell_type": "code",
   "execution_count": 1,
   "metadata": {},
   "outputs": [],
   "source": [
    "# Import BW25 packages.\n",
    "import bw2data as bd\n",
    "import copy\n",
    "import bw2io as bi\n",
    "import bw2calc as bc\n",
    "import bw2analyzer as bwa\n",
    "\n",
    "import matplotlib.pyplot as plt"
   ]
  },
  {
   "cell_type": "code",
   "execution_count": 2,
   "metadata": {},
   "outputs": [
    {
     "data": {
      "text/plain": [
       "Brightway2 projects manager with 9 objects:\n",
       "\tLNV-EI38\n",
       "\tV1_pLCA_LiIon\n",
       "\tV1_pLCA_liIon\n",
       "\tV2_pLCA_LiIon\n",
       "\tV2_pLCA_liIon\n",
       "\tV3_pLCA_liion\n",
       "\tdefault\n",
       "\ttest-EI38-SSP1-Base\n",
       "\tv3_liion\n",
       "Use `projects.report()` to get a report on all projects."
      ]
     },
     "execution_count": 2,
     "metadata": {},
     "output_type": "execute_result"
    }
   ],
   "source": [
    "bd.projects"
   ]
  },
  {
   "cell_type": "code",
   "execution_count": 11,
   "metadata": {},
   "outputs": [],
   "source": [
    "bd.projects.set_current(\"LNV-EI38\") #Creating/accessing the project"
   ]
  },
  {
   "cell_type": "code",
   "execution_count": 12,
   "metadata": {},
   "outputs": [
    {
     "data": {
      "text/plain": [
       "[]"
      ]
     },
     "execution_count": 12,
     "metadata": {},
     "output_type": "execute_result"
    }
   ],
   "source": [
    "list(bd.databases)"
   ]
  },
  {
   "cell_type": "code",
   "execution_count": 10,
   "metadata": {},
   "outputs": [],
   "source": [
    "all_databases = list(bd.databases)"
   ]
  },
  {
   "cell_type": "code",
   "execution_count": 15,
   "metadata": {},
   "outputs": [],
   "source": [
    "databases_to_keep = [\n",
    " 'biosphere3',\n",
    " 'ecoinvent 3.8 cutoff',\n",
    " 'EI38_cutoff_remind_SSP1-Base_2025_VSI_test_1',\n",
    " 'EI38_cutoff_remind_SSP1-Base_2030_VSI_test_1',\n",
    " 'EI38_cutoff_remind_SSP1-Base_2035_VSI_test_1',\n",
    " 'EI38_cutoff_remind_SSP1-Base_2025_energy',\n",
    " 'EI38_cutoff_remind_SSP1-Base_2030_energy',\n",
    " 'EI38_cutoff_remind_SSP1-Base_2035_energy',\n",
    " 'EI38_cutoff_remind_SSP1-Base_2025_energy_and_VSI_test_1',\n",
    " 'EI38_cutoff_remind_SSP1-Base_2030_energy_and_VSI_test_1',\n",
    " 'EI38_cutoff_remind_SSP1-Base_2035_energy_and_VSI_test_1'\n",
    " ]"
   ]
  },
  {
   "cell_type": "code",
   "execution_count": 16,
   "metadata": {},
   "outputs": [
    {
     "data": {
      "text/plain": [
       "['EI38_cutoff_remind_SSP1-Base_2020_baseline',\n",
       " 'EI38_cutoff_remind_SSP1-Base_2040_baseline',\n",
       " 'EI38_cutoff_remind_SSP1-Base_2045_baseline',\n",
       " 'EI38_cutoff_remind_SSP1-Base_2050_baseline',\n",
       " 'EI38_cutoff_remind_SSP1-Base_2020_VSI_test_1',\n",
       " 'EI38_cutoff_remind_SSP1-Base_2040_VSI_test_1',\n",
       " 'EI38_cutoff_remind_SSP1-Base_2045_VSI_test_1',\n",
       " 'EI38_cutoff_remind_SSP1-Base_2050_VSI_test_1',\n",
       " 'EI38_cutoff_remind_SSP1-Base_2020_energy',\n",
       " 'EI38_cutoff_remind_SSP1-Base_2040_energy',\n",
       " 'EI38_cutoff_remind_SSP1-Base_2045_energy',\n",
       " 'EI38_cutoff_remind_SSP1-Base_2050_energy',\n",
       " 'EI38_cutoff_remind_SSP1-Base_2020_energy_and_VSI_test_1',\n",
       " 'EI38_cutoff_remind_SSP1-Base_2040_energy_and_VSI_test_1',\n",
       " 'EI38_cutoff_remind_SSP1-Base_2045_energy_and_VSI_test_1',\n",
       " 'EI38_cutoff_remind_SSP1-Base_2050_energy_and_VSI_test_1']"
      ]
     },
     "execution_count": 16,
     "metadata": {},
     "output_type": "execute_result"
    }
   ],
   "source": [
    "databases_to_delete = [db for db in all_databases if db not in databases_to_keep]\n",
    "databases_to_delete"
   ]
  },
  {
   "cell_type": "code",
   "execution_count": 17,
   "metadata": {},
   "outputs": [
    {
     "name": "stdout",
     "output_type": "stream",
     "text": [
      "Vacuuming database \n",
      "Vacuuming database \n",
      "Vacuuming database \n",
      "Vacuuming database \n",
      "Vacuuming database \n",
      "Vacuuming database \n",
      "Vacuuming database \n",
      "Vacuuming database \n",
      "Vacuuming database \n",
      "Vacuuming database \n",
      "Vacuuming database \n",
      "Vacuuming database \n",
      "Vacuuming database \n",
      "Vacuuming database \n",
      "Vacuuming database \n",
      "Vacuuming database \n"
     ]
    }
   ],
   "source": [
    "# If need to delete databases:\n",
    "## del bd.databases['ecoinvent 3.8 cutoff']\n",
    "## del bd.databases['biosphere3']\n",
    "\n",
    "#If needed cleaning methods and dbs\n",
    "# Create a list of method keys and delete them one by one\n",
    "\n",
    "'''for method in list(bd.methods):\n",
    "    del bd.methods[method]\n",
    "\n",
    "'''\n",
    "# Create a list of database keys and delete them one by one\n",
    "\n",
    "for db in databases_to_delete:\n",
    "    del bd.databases[db]"
   ]
  },
  {
   "cell_type": "code",
   "execution_count": null,
   "metadata": {},
   "outputs": [],
   "source": [
    "# Deleting projects\n",
    "\n",
    "'''\n",
    "\n",
    "bd.projects.delete_project(name='<project_name>', delete_dir=True or False)\n",
    "\n",
    "'''"
   ]
  },
  {
   "cell_type": "code",
   "execution_count": null,
   "metadata": {},
   "outputs": [],
   "source": [
    "# Deleting all but base databases:\n",
    "\n",
    "'''\n",
    "\n",
    "# Databases to keep\n",
    "databases_to_keep = [\"biosphere3\", \"ecoinvent 3.8 cutoff\"]\n",
    "\n",
    "# Collect the names of databases to delete\n",
    "databases_to_delete = [db for db in bd.databases if db not in databases_to_keep]\n",
    "\n",
    "# Loop through the collected list and delete each database\n",
    "for db in databases_to_delete:\n",
    "    del bd.databases[db]\n",
    "    print(f\"Deleted database: {db}\")\n",
    "\n",
    "print(\"All specified databases have been deleted.\")\n",
    "\n",
    "\n",
    "'''"
   ]
  }
 ],
 "metadata": {
  "kernelspec": {
   "display_name": "bw2-ei38compat-ok",
   "language": "python",
   "name": "python3"
  },
  "language_info": {
   "codemirror_mode": {
    "name": "ipython",
    "version": 3
   },
   "file_extension": ".py",
   "mimetype": "text/x-python",
   "name": "python",
   "nbconvert_exporter": "python",
   "pygments_lexer": "ipython3",
   "version": "3.11.8"
  }
 },
 "nbformat": 4,
 "nbformat_minor": 2
}
