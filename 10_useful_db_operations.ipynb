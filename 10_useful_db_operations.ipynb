{
 "cells": [
  {
   "cell_type": "code",
   "execution_count": 1,
   "metadata": {},
   "outputs": [],
   "source": [
    "# Import BW25 packages.\n",
    "import bw2data as bd\n",
    "import copy\n",
    "import bw2io as bi\n",
    "import bw2calc as bc\n",
    "import bw2analyzer as bwa\n",
    "\n",
    "import matplotlib.pyplot as plt"
   ]
  },
  {
   "cell_type": "code",
   "execution_count": 41,
   "metadata": {},
   "outputs": [
    {
     "data": {
      "text/plain": [
       "Brightway2 projects manager with 3 objects:\n",
       "\tYourPrcheckingBatteryojectName\n",
       "\tdefault\n",
       "\tpLCA 2024\n",
       "Use `projects.report()` to get a report on all projects."
      ]
     },
     "execution_count": 41,
     "metadata": {},
     "output_type": "execute_result"
    }
   ],
   "source": [
    "bd.projects"
   ]
  },
  {
   "cell_type": "code",
   "execution_count": 42,
   "metadata": {},
   "outputs": [],
   "source": [
    "bd.projects.set_current(\"pLCA 2024\") #Creating/accessing the project"
   ]
  },
  {
   "cell_type": "code",
   "execution_count": 43,
   "metadata": {},
   "outputs": [
    {
     "data": {
      "text/plain": [
       "['fuel electricity', 'ei39-remind-SSP2', 'EV case']"
      ]
     },
     "execution_count": 43,
     "metadata": {},
     "output_type": "execute_result"
    }
   ],
   "source": [
    "list(bd.databases)"
   ]
  },
  {
   "cell_type": "code",
   "execution_count": 17,
   "metadata": {},
   "outputs": [
    {
     "data": {
      "text/plain": [
       "27213"
      ]
     },
     "execution_count": 17,
     "metadata": {},
     "output_type": "execute_result"
    }
   ],
   "source": [
    "len(bd.Database('EI38_cutoff_remind_SSP1-Base_2025_baseline'))"
   ]
  },
  {
   "cell_type": "code",
   "execution_count": 45,
   "metadata": {},
   "outputs": [],
   "source": [
    "all_databases = list(bd.databases)"
   ]
  },
  {
   "cell_type": "code",
   "execution_count": 15,
   "metadata": {},
   "outputs": [],
   "source": [
    "databases_to_keep = [\n",
    " 'biosphere3',\n",
    " 'ecoinvent 3.8 cutoff',\n",
    " 'EI38_cutoff_remind_SSP1-Base_2025_VSI_test_1',\n",
    " 'EI38_cutoff_remind_SSP1-Base_2030_VSI_test_1',\n",
    " 'EI38_cutoff_remind_SSP1-Base_2035_VSI_test_1',\n",
    " 'EI38_cutoff_remind_SSP1-Base_2025_energy',\n",
    " 'EI38_cutoff_remind_SSP1-Base_2030_energy',\n",
    " 'EI38_cutoff_remind_SSP1-Base_2035_energy',\n",
    " 'EI38_cutoff_remind_SSP1-Base_2025_energy_and_VSI_test_1',\n",
    " 'EI38_cutoff_remind_SSP1-Base_2030_energy_and_VSI_test_1',\n",
    " 'EI38_cutoff_remind_SSP1-Base_2035_energy_and_VSI_test_1'\n",
    " ]"
   ]
  },
  {
   "cell_type": "code",
   "execution_count": 6,
   "metadata": {},
   "outputs": [
    {
     "ename": "NameError",
     "evalue": "name 'databases_to_keep' is not defined",
     "output_type": "error",
     "traceback": [
      "\u001b[1;31m---------------------------------------------------------------------------\u001b[0m",
      "\u001b[1;31mNameError\u001b[0m                                 Traceback (most recent call last)",
      "Cell \u001b[1;32mIn[6], line 1\u001b[0m\n\u001b[1;32m----> 1\u001b[0m databases_to_delete \u001b[38;5;241m=\u001b[39m \u001b[43m[\u001b[49m\u001b[43mdb\u001b[49m\u001b[43m \u001b[49m\u001b[38;5;28;43;01mfor\u001b[39;49;00m\u001b[43m \u001b[49m\u001b[43mdb\u001b[49m\u001b[43m \u001b[49m\u001b[38;5;129;43;01min\u001b[39;49;00m\u001b[43m \u001b[49m\u001b[43mall_databases\u001b[49m\u001b[43m \u001b[49m\u001b[38;5;28;43;01mif\u001b[39;49;00m\u001b[43m \u001b[49m\u001b[43mdb\u001b[49m\u001b[43m \u001b[49m\u001b[38;5;129;43;01mnot\u001b[39;49;00m\u001b[43m \u001b[49m\u001b[38;5;129;43;01min\u001b[39;49;00m\u001b[43m \u001b[49m\u001b[43mdatabases_to_keep\u001b[49m\u001b[43m]\u001b[49m\n\u001b[0;32m      2\u001b[0m databases_to_delete\n",
      "Cell \u001b[1;32mIn[6], line 1\u001b[0m, in \u001b[0;36m<listcomp>\u001b[1;34m(.0)\u001b[0m\n\u001b[1;32m----> 1\u001b[0m databases_to_delete \u001b[38;5;241m=\u001b[39m [db \u001b[38;5;28;01mfor\u001b[39;00m db \u001b[38;5;129;01min\u001b[39;00m all_databases \u001b[38;5;28;01mif\u001b[39;00m db \u001b[38;5;129;01mnot\u001b[39;00m \u001b[38;5;129;01min\u001b[39;00m \u001b[43mdatabases_to_keep\u001b[49m]\n\u001b[0;32m      2\u001b[0m databases_to_delete\n",
      "\u001b[1;31mNameError\u001b[0m: name 'databases_to_keep' is not defined"
     ]
    }
   ],
   "source": [
    "databases_to_delete = [db for db in all_databases if db not in databases_to_keep]\n",
    "databases_to_delete"
   ]
  },
  {
   "cell_type": "code",
   "execution_count": 8,
   "metadata": {},
   "outputs": [],
   "source": [
    "databases_to_delete = ['EI38_cutoff_remind_SSP1-Base_2020_VSI']"
   ]
  },
  {
   "cell_type": "code",
   "execution_count": 46,
   "metadata": {},
   "outputs": [],
   "source": [
    "databases_to_delete = all_databases"
   ]
  },
  {
   "cell_type": "code",
   "execution_count": 47,
   "metadata": {},
   "outputs": [
    {
     "name": "stdout",
     "output_type": "stream",
     "text": [
      "Vacuuming database \n"
     ]
    }
   ],
   "source": [
    "# If need to delete databases:\n",
    "## del bd.databases['ecoinvent 3.8 cutoff']\n",
    "## del bd.databases['biosphere3']\n",
    "\n",
    "#If needed cleaning methods and dbs\n",
    "# Create a list of method keys and delete them one by one\n",
    "\n",
    "'''for method in list(bd.methods):\n",
    "    del bd.methods[method]\n",
    "\n",
    "'''\n",
    "# Create a list of database keys and delete them one by one\n",
    "\n",
    "for db in databases_to_delete:\n",
    "    del bd.databases[db]"
   ]
  },
  {
   "cell_type": "code",
   "execution_count": 49,
   "metadata": {},
   "outputs": [
    {
     "ename": "ValueError",
     "evalue": "pLCA 2024 is not a project",
     "output_type": "error",
     "traceback": [
      "\u001b[1;31m---------------------------------------------------------------------------\u001b[0m",
      "\u001b[1;31mValueError\u001b[0m                                Traceback (most recent call last)",
      "Cell \u001b[1;32mIn[49], line 3\u001b[0m\n\u001b[0;32m      1\u001b[0m \u001b[38;5;66;03m# Deleting projects\u001b[39;00m\n\u001b[1;32m----> 3\u001b[0m \u001b[43mbd\u001b[49m\u001b[38;5;241;43m.\u001b[39;49m\u001b[43mprojects\u001b[49m\u001b[38;5;241;43m.\u001b[39;49m\u001b[43mdelete_project\u001b[49m\u001b[43m(\u001b[49m\u001b[43mname\u001b[49m\u001b[38;5;241;43m=\u001b[39;49m\u001b[38;5;124;43m\"\u001b[39;49m\u001b[38;5;124;43mpLCA 2024\u001b[39;49m\u001b[38;5;124;43m\"\u001b[39;49m\u001b[43m,\u001b[49m\u001b[43m \u001b[49m\u001b[43mdelete_dir\u001b[49m\u001b[38;5;241;43m=\u001b[39;49m\u001b[38;5;28;43;01mTrue\u001b[39;49;00m\u001b[43m)\u001b[49m\n",
      "File \u001b[1;32mc:\\Users\\24417507\\AppData\\Local\\anaconda3\\envs\\bw2-toloadei38\\Lib\\site-packages\\bw2data\\project.py:291\u001b[0m, in \u001b[0;36mProjectManager.delete_project\u001b[1;34m(self, name, delete_dir)\u001b[0m\n\u001b[0;32m    289\u001b[0m victim \u001b[38;5;241m=\u001b[39m name \u001b[38;5;129;01mor\u001b[39;00m \u001b[38;5;28mself\u001b[39m\u001b[38;5;241m.\u001b[39mcurrent\n\u001b[0;32m    290\u001b[0m \u001b[38;5;28;01mif\u001b[39;00m victim \u001b[38;5;129;01mnot\u001b[39;00m \u001b[38;5;129;01min\u001b[39;00m \u001b[38;5;28mself\u001b[39m:\n\u001b[1;32m--> 291\u001b[0m     \u001b[38;5;28;01mraise\u001b[39;00m \u001b[38;5;167;01mValueError\u001b[39;00m(\u001b[38;5;124m\"\u001b[39m\u001b[38;5;132;01m{}\u001b[39;00m\u001b[38;5;124m is not a project\u001b[39m\u001b[38;5;124m\"\u001b[39m\u001b[38;5;241m.\u001b[39mformat(victim))\n\u001b[0;32m    292\u001b[0m \u001b[38;5;28;01mif\u001b[39;00m \u001b[38;5;28mlen\u001b[39m(\u001b[38;5;28mself\u001b[39m) \u001b[38;5;241m==\u001b[39m \u001b[38;5;241m1\u001b[39m:\n\u001b[0;32m    293\u001b[0m     \u001b[38;5;28;01mraise\u001b[39;00m \u001b[38;5;167;01mValueError\u001b[39;00m(\u001b[38;5;124m\"\u001b[39m\u001b[38;5;124mCan\u001b[39m\u001b[38;5;124m'\u001b[39m\u001b[38;5;124mt delete only remaining project\u001b[39m\u001b[38;5;124m\"\u001b[39m)\n",
      "\u001b[1;31mValueError\u001b[0m: pLCA 2024 is not a project"
     ]
    }
   ],
   "source": [
    "# Deleting projects\n",
    "\n",
    "bd.projects.delete_project(name=\"pLCA 2024\", delete_dir=True)\n"
   ]
  },
  {
   "cell_type": "code",
   "execution_count": 30,
   "metadata": {},
   "outputs": [
    {
     "data": {
      "text/plain": [
       "'\\n\\n# Databases to keep\\ndatabases_to_keep = [\"biosphere3\", \"ecoinvent 3.8 cutoff\"]\\n\\n# Collect the names of databases to delete\\ndatabases_to_delete = [db for db in bd.databases if db not in databases_to_keep]\\n\\n# Loop through the collected list and delete each database\\nfor db in databases_to_delete:\\n    del bd.databases[db]\\n    print(f\"Deleted database: {db}\")\\n\\nprint(\"All specified databases have been deleted.\")\\n\\n\\n'"
      ]
     },
     "execution_count": 30,
     "metadata": {},
     "output_type": "execute_result"
    }
   ],
   "source": [
    "# Deleting all but base databases:\n",
    "\n",
    "'''\n",
    "\n",
    "# Databases to keep\n",
    "databases_to_keep = [\"biosphere3\", \"ecoinvent 3.8 cutoff\"]\n",
    "\n",
    "# Collect the names of databases to delete\n",
    "databases_to_delete = [db for db in bd.databases if db not in databases_to_keep]\n",
    "\n",
    "# Loop through the collected list and delete each database\n",
    "for db in databases_to_delete:\n",
    "    del bd.databases[db]\n",
    "    print(f\"Deleted database: {db}\")\n",
    "\n",
    "print(\"All specified databases have been deleted.\")\n",
    "\n",
    "\n",
    "'''"
   ]
  }
 ],
 "metadata": {
  "kernelspec": {
   "display_name": "bw2-toloadei38",
   "language": "python",
   "name": "python3"
  },
  "language_info": {
   "codemirror_mode": {
    "name": "ipython",
    "version": 3
   },
   "file_extension": ".py",
   "mimetype": "text/x-python",
   "name": "python",
   "nbconvert_exporter": "python",
   "pygments_lexer": "ipython3",
   "version": "3.11.9"
  }
 },
 "nbformat": 4,
 "nbformat_minor": 2
}
