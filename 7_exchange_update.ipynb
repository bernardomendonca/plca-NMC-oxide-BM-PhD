{
 "cells": [
  {
   "cell_type": "markdown",
   "metadata": {},
   "source": [
    "# Libraries"
   ]
  },
  {
   "cell_type": "code",
   "execution_count": null,
   "metadata": {},
   "outputs": [],
   "source": [
    "import bw2data as bd\n",
    "import numpy as np"
   ]
  },
  {
   "cell_type": "code",
   "execution_count": null,
   "metadata": {},
   "outputs": [],
   "source": [
    "# Alias np.NaN to np.nan for backward compatibility\n",
    "np.NaN = np.nan"
   ]
  },
  {
   "cell_type": "markdown",
   "metadata": {},
   "source": [
    "# 1. Support Functions"
   ]
  },
  {
   "cell_type": "code",
   "execution_count": null,
   "metadata": {},
   "outputs": [],
   "source": [
    "from activity_modify import process_all_csvs\n",
    "from activity_modify import process_all_csvs_interpolate\n",
    "\n",
    "from lifecycle import calculate_impacts_for_activities\n",
    "from database_setup import results_to_dataframe\n",
    "\n",
    "from config import recipe_midpoint_h\n",
    "import config"
   ]
  },
  {
   "cell_type": "code",
   "execution_count": null,
   "metadata": {},
   "outputs": [],
   "source": [
    "'''\n",
    "Fom the config script we are importing our range of scenarios' databases:\n",
    "\n",
    "db_remindSSP1_baseline \n",
    "db_remindSSP2_baseline \n",
    "db_remindSSP5_baseline \n",
    "db_remindSSP1_VSI \n",
    "db_remindSSP2_VSI \n",
    "db_remindSSP5_VSI\n",
    "\n",
    "'''"
   ]
  },
  {
   "cell_type": "markdown",
   "metadata": {},
   "source": [
    "# 2. Imports and Declarations"
   ]
  },
  {
   "cell_type": "code",
   "execution_count": null,
   "metadata": {},
   "outputs": [],
   "source": [
    "bd.projects"
   ]
  },
  {
   "cell_type": "code",
   "execution_count": null,
   "metadata": {},
   "outputs": [],
   "source": [
    "#Creating/accessing the project\n",
    "project_name = \"LNV-EI38-20250303\"\n",
    "\n",
    "bd.projects.set_current(project_name)"
   ]
  },
  {
   "cell_type": "code",
   "execution_count": null,
   "metadata": {},
   "outputs": [],
   "source": [
    "list(bd.databases)"
   ]
  },
  {
   "cell_type": "code",
   "execution_count": null,
   "metadata": {},
   "outputs": [],
   "source": [
    "# Folder containing the input coefficient CSVs\n",
    "input_folder = './input_coefficients'\n",
    "\n",
    "# Define the impact assessment methods\n",
    "methods_list = recipe_midpoint_h\n",
    "\n",
    "# Define the years\n",
    "years = [2025, 2030, 2035, 2040]"
   ]
  },
  {
   "cell_type": "markdown",
   "metadata": {},
   "source": [
    "# 3. Working on a single database, activity, and input coefficient file"
   ]
  },
  {
   "cell_type": "code",
   "execution_count": null,
   "metadata": {},
   "outputs": [],
   "source": [
    "#### \n",
    "# Following code for when there's the need to work on a single activity:"
   ]
  },
  {
   "cell_type": "code",
   "execution_count": null,
   "metadata": {},
   "outputs": [],
   "source": [
    "'''db_name = 'EI38_cutoff_remind_SSP1-Base_2025_baseline'\n",
    "db = bd.Database(db_name)\n",
    "\n",
    "activity_id = '3dd23e526c5de9474538ce20d43a402f'\n",
    "activity = db.get(activity_id)\n",
    "\n",
    "# Now you can work with the 'activity' object based on the retrieve ID\n",
    "print(activity)'''"
   ]
  },
  {
   "cell_type": "markdown",
   "metadata": {},
   "source": [
    "## 3.1. Reading CSV input with coefficients"
   ]
  },
  {
   "cell_type": "code",
   "execution_count": null,
   "metadata": {},
   "outputs": [],
   "source": [
    "'''csv_file = f'./input_coefficients/{activity_id}.csv'\n",
    "coeff_df = pd.read_csv(csv_file)\n",
    "\n",
    "# Ensure that 'VSI_modify' is a boolean\n",
    "coeff_df['VSI_modify'] = coeff_df['VSI_modify'].fillna(False).astype(bool)\n",
    "\n",
    "# Display the DataFrame\n",
    "coeff_df'''"
   ]
  },
  {
   "cell_type": "code",
   "execution_count": null,
   "metadata": {},
   "outputs": [],
   "source": [
    "'''coeff_df = coeff_df[coeff_df['VSI_modify']]'''"
   ]
  },
  {
   "cell_type": "code",
   "execution_count": null,
   "metadata": {},
   "outputs": [],
   "source": [
    "'''def get_coefficients(activity_id):\n",
    "    db = bd.Database(db_name)\n",
    "    activity_id = activity_id\n",
    "    activity = db.get(activity_id)'''"
   ]
  },
  {
   "cell_type": "markdown",
   "metadata": {},
   "source": [
    "# 4. Coefficient application to individual processes"
   ]
  },
  {
   "cell_type": "markdown",
   "metadata": {},
   "source": [
    "## 4.1. SSP1"
   ]
  },
  {
   "cell_type": "markdown",
   "metadata": {},
   "source": [
    "### 4.1.1. SSP1 Baseline"
   ]
  },
  {
   "cell_type": "code",
   "execution_count": null,
   "metadata": {},
   "outputs": [],
   "source": [
    "# Define the databases and years\n",
    "databases = config.db_remindSSP1_baseline\n",
    "\n",
    "# Process all CSV files and get combined results\n",
    "combined_results = process_all_csvs(project_name, input_folder, methods_list, databases, years)"
   ]
  },
  {
   "cell_type": "code",
   "execution_count": null,
   "metadata": {},
   "outputs": [],
   "source": [
    "# Save combined results to a CSV file\n",
    "run = 'remindSSP1_baseline'\n",
    "combined_results.to_csv(f'./outputs/combined_results/combined_results_{run}.csv', index=False)"
   ]
  },
  {
   "cell_type": "markdown",
   "metadata": {},
   "source": [
    "### 4.1.2. SSP1 VSI (Interpolated)"
   ]
  },
  {
   "cell_type": "code",
   "execution_count": null,
   "metadata": {},
   "outputs": [],
   "source": [
    "# Define the databases and years\n",
    "databases = config.db_remindSSP1_VSI\n",
    " \n",
    "# Process all CSV files and get combined results\n",
    "combined_results = process_all_csvs_interpolate(project_name, input_folder, methods_list, databases, years, modify_permanently=False)"
   ]
  },
  {
   "cell_type": "code",
   "execution_count": null,
   "metadata": {},
   "outputs": [],
   "source": [
    "# Save combined results to a CSV file \n",
    "run = 'remindSSP1_VSI_interpolated'\n",
    "combined_results.to_csv(f'./outputs/combined_results/combined_results_{run}.csv', index=False)"
   ]
  },
  {
   "cell_type": "markdown",
   "metadata": {},
   "source": [
    "## 4.2. SSP2"
   ]
  },
  {
   "cell_type": "markdown",
   "metadata": {},
   "source": [
    "### 4.2.1. SSP2 Baseline"
   ]
  },
  {
   "cell_type": "code",
   "execution_count": null,
   "metadata": {},
   "outputs": [],
   "source": [
    "# Define the databases and years\n",
    "databases = config.db_remindSSP2_baseline\n",
    "\n",
    "# Process all CSV files and get combined results\n",
    "combined_results = process_all_csvs(project_name, input_folder, methods_list, databases, years)"
   ]
  },
  {
   "cell_type": "code",
   "execution_count": null,
   "metadata": {},
   "outputs": [],
   "source": [
    "# Save combined results to a CSV file\n",
    "run = 'remindSSP2_baseline'\n",
    "combined_results.to_csv(f'./outputs/combined_results/combined_results_{run}.csv', index=False)"
   ]
  },
  {
   "cell_type": "markdown",
   "metadata": {},
   "source": [
    "### 4.2.2. SSP2 VSI Interpolated"
   ]
  },
  {
   "cell_type": "code",
   "execution_count": null,
   "metadata": {},
   "outputs": [],
   "source": [
    "# Define the databases and years\n",
    "databases = config.db_remindSSP2_VSI\n",
    " \n",
    "# Process all CSV files and get combined results\n",
    "combined_results = process_all_csvs_interpolate(project_name, input_folder, methods_list, databases, years, modify_permanently=False)"
   ]
  },
  {
   "cell_type": "code",
   "execution_count": null,
   "metadata": {},
   "outputs": [],
   "source": [
    "# Save combined results to a CSV file \n",
    "run = 'remindSSP2_VSI_interpolated'\n",
    "combined_results.to_csv(f'./outputs/combined_results/combined_results_{run}.csv', index=False)"
   ]
  },
  {
   "cell_type": "markdown",
   "metadata": {},
   "source": [
    "## 4.3. SSP5"
   ]
  },
  {
   "cell_type": "markdown",
   "metadata": {},
   "source": [
    "### 4.3.1. SSP5 Baseline"
   ]
  },
  {
   "cell_type": "code",
   "execution_count": null,
   "metadata": {},
   "outputs": [],
   "source": [
    "# Define the databases and years\n",
    "databases = config.db_remindSSP5_baseline \n",
    "\n",
    "# Process all CSV files and get combined results\n",
    "combined_results = process_all_csvs(project_name, input_folder, methods_list, databases, years)"
   ]
  },
  {
   "cell_type": "code",
   "execution_count": null,
   "metadata": {},
   "outputs": [],
   "source": [
    "# Save combined results to a CSV file\n",
    "run = 'remindSSP5_baseline'\n",
    "combined_results.to_csv(f'./outputs/combined_results/combined_results_{run}.csv', index=False)"
   ]
  },
  {
   "cell_type": "markdown",
   "metadata": {},
   "source": [
    "### 4.3.2. SSP5 VSI Interpolated"
   ]
  },
  {
   "cell_type": "code",
   "execution_count": null,
   "metadata": {},
   "outputs": [],
   "source": [
    "# Define the databases and years\n",
    "databases = config.db_remindSSP5_VSI\n",
    " \n",
    "# Process all CSV files and get combined results\n",
    "combined_results = process_all_csvs_interpolate(project_name, input_folder, methods_list, databases, years, modify_permanently=False)"
   ]
  },
  {
   "cell_type": "code",
   "execution_count": null,
   "metadata": {},
   "outputs": [],
   "source": [
    "# Save combined results to a CSV file \n",
    "run = 'remindSSP5_VSI_interpolated'\n",
    "combined_results.to_csv(f'./outputs/combined_results/combined_results_{run}.csv', index=False)"
   ]
  },
  {
   "cell_type": "markdown",
   "metadata": {},
   "source": [
    "# 5. NMC Oxide"
   ]
  },
  {
   "cell_type": "markdown",
   "metadata": {},
   "source": [
    "## 5.1. SSP1"
   ]
  },
  {
   "cell_type": "markdown",
   "metadata": {},
   "source": [
    "### 5.1.1. Getting baseline contribution analysis of EFs from NMC111 Oxide"
   ]
  },
  {
   "cell_type": "markdown",
   "metadata": {},
   "source": [
    "#### 2025"
   ]
  },
  {
   "cell_type": "code",
   "execution_count": null,
   "metadata": {},
   "outputs": [],
   "source": [
    "db_name = 'EI38_cutoff_remind_SSP1-Base_2025_baseline'"
   ]
  },
  {
   "cell_type": "code",
   "execution_count": null,
   "metadata": {},
   "outputs": [],
   "source": [
    "results = calculate_impacts_for_activities(config.activities_nmcoxide, recipe_midpoint_h, db_name, reference_product=config.reference_product_nmcoxide)"
   ]
  },
  {
   "cell_type": "code",
   "execution_count": null,
   "metadata": {},
   "outputs": [],
   "source": [
    "df = results_to_dataframe(results, project_name, db_name)"
   ]
  },
  {
   "cell_type": "code",
   "execution_count": null,
   "metadata": {},
   "outputs": [],
   "source": [
    "df.to_csv('EFcontributions_nmcoxide_SSP1_baseline_2025.csv')"
   ]
  },
  {
   "cell_type": "markdown",
   "metadata": {},
   "source": [
    "#### 2030"
   ]
  },
  {
   "cell_type": "code",
   "execution_count": null,
   "metadata": {},
   "outputs": [],
   "source": [
    "db_name = 'EI38_cutoff_remind_SSP1-Base_2030_baseline'"
   ]
  },
  {
   "cell_type": "code",
   "execution_count": null,
   "metadata": {},
   "outputs": [],
   "source": [
    "results = calculate_impacts_for_activities(config.activities_nmcoxide, recipe_midpoint_h, db_name, reference_product=config.reference_product_nmcoxide)"
   ]
  },
  {
   "cell_type": "code",
   "execution_count": null,
   "metadata": {},
   "outputs": [],
   "source": [
    "df = results_to_dataframe(results, project_name, db_name)"
   ]
  },
  {
   "cell_type": "code",
   "execution_count": null,
   "metadata": {},
   "outputs": [],
   "source": [
    "df.to_csv('EFcontributions_nmcoxide_SSP1_baseline_2030.csv')"
   ]
  },
  {
   "cell_type": "markdown",
   "metadata": {},
   "source": [
    "#### 2035"
   ]
  },
  {
   "cell_type": "code",
   "execution_count": null,
   "metadata": {},
   "outputs": [],
   "source": [
    "db_name = 'EI38_cutoff_remind_SSP1-Base_2035_baseline'"
   ]
  },
  {
   "cell_type": "code",
   "execution_count": null,
   "metadata": {},
   "outputs": [],
   "source": [
    "results = calculate_impacts_for_activities(config.activities_nmcoxide, recipe_midpoint_h, db_name, reference_product=config.reference_product_nmcoxide)"
   ]
  },
  {
   "cell_type": "code",
   "execution_count": null,
   "metadata": {},
   "outputs": [],
   "source": [
    "df = results_to_dataframe(results, project_name, db_name)"
   ]
  },
  {
   "cell_type": "code",
   "execution_count": null,
   "metadata": {},
   "outputs": [],
   "source": [
    "df.to_csv('EFcontributions_nmcoxide_SSP1_baseline_2035.csv')"
   ]
  },
  {
   "cell_type": "markdown",
   "metadata": {},
   "source": [
    "#### 2040"
   ]
  },
  {
   "cell_type": "code",
   "execution_count": null,
   "metadata": {},
   "outputs": [],
   "source": [
    "db_name = 'EI38_cutoff_remind_SSP1-Base_2040_baseline'"
   ]
  },
  {
   "cell_type": "code",
   "execution_count": null,
   "metadata": {},
   "outputs": [],
   "source": [
    "results = calculate_impacts_for_activities(config.activities_nmcoxide, recipe_midpoint_h, db_name, reference_product=config.reference_product_nmcoxide)"
   ]
  },
  {
   "cell_type": "code",
   "execution_count": null,
   "metadata": {},
   "outputs": [],
   "source": [
    "df = results_to_dataframe(results, project_name, db_name)"
   ]
  },
  {
   "cell_type": "code",
   "execution_count": null,
   "metadata": {},
   "outputs": [],
   "source": [
    "df.to_csv('EFcontributions_nmcoxide_SSP1_baseline_2040.csv')"
   ]
  },
  {
   "cell_type": "markdown",
   "metadata": {},
   "source": [
    "### 5.1.2. Permanently modifying databases with coefficients"
   ]
  },
  {
   "cell_type": "code",
   "execution_count": null,
   "metadata": {},
   "outputs": [],
   "source": [
    "# Define the databases and years\n",
    "databases = config.db_remindSSP1_VSI\n",
    "\n",
    "# Process all CSV files and get combined results\n",
    "combined_results = process_all_csvs_interpolate(project_name, input_folder, methods_list, databases, years, modify_permanently=True)"
   ]
  },
  {
   "cell_type": "code",
   "execution_count": null,
   "metadata": {},
   "outputs": [],
   "source": [
    "# Save combined results to a CSV file\n",
    "run = 'remindSSP1_VSI-NMC'\n",
    "combined_results.to_csv(f'./outputs/combined_results/combined_results_{run}.csv', index=False)"
   ]
  },
  {
   "cell_type": "markdown",
   "metadata": {},
   "source": [
    "### 5.1.3. Get contributions for NMC oxide"
   ]
  },
  {
   "cell_type": "markdown",
   "metadata": {},
   "source": [
    "#### 2025"
   ]
  },
  {
   "cell_type": "code",
   "execution_count": null,
   "metadata": {},
   "outputs": [],
   "source": [
    "db_name = 'EI38_cutoff_remind_SSP1-Base_2025_VSI'"
   ]
  },
  {
   "cell_type": "code",
   "execution_count": null,
   "metadata": {},
   "outputs": [],
   "source": [
    "results = calculate_impacts_for_activities(config.activities_nmcoxide, recipe_midpoint_h, db_name, reference_product=config.reference_product_nmcoxide)"
   ]
  },
  {
   "cell_type": "code",
   "execution_count": null,
   "metadata": {},
   "outputs": [],
   "source": [
    "df = results_to_dataframe(results, project_name, db_name)"
   ]
  },
  {
   "cell_type": "code",
   "execution_count": null,
   "metadata": {},
   "outputs": [],
   "source": [
    "df.to_csv('EFcontributions_nmcoxide_SSP1_VSI_2025.csv')"
   ]
  },
  {
   "cell_type": "markdown",
   "metadata": {},
   "source": [
    "#### 2030"
   ]
  },
  {
   "cell_type": "code",
   "execution_count": null,
   "metadata": {},
   "outputs": [],
   "source": [
    "db_name = 'EI38_cutoff_remind_SSP1-Base_2030_VSI'"
   ]
  },
  {
   "cell_type": "code",
   "execution_count": null,
   "metadata": {},
   "outputs": [],
   "source": [
    "results = calculate_impacts_for_activities(config.activities_nmcoxide, recipe_midpoint_h, db_name, reference_product=config.reference_product_nmcoxide)"
   ]
  },
  {
   "cell_type": "code",
   "execution_count": null,
   "metadata": {},
   "outputs": [],
   "source": [
    "df = results_to_dataframe(results, project_name, db_name)"
   ]
  },
  {
   "cell_type": "code",
   "execution_count": null,
   "metadata": {},
   "outputs": [],
   "source": [
    "df.to_csv('EFcontributions_nmcoxide_SSP1_VSI_2030.csv')"
   ]
  },
  {
   "cell_type": "markdown",
   "metadata": {},
   "source": [
    "#### 2035"
   ]
  },
  {
   "cell_type": "code",
   "execution_count": null,
   "metadata": {},
   "outputs": [],
   "source": [
    "db_name = 'EI38_cutoff_remind_SSP1-Base_2035_VSI'"
   ]
  },
  {
   "cell_type": "code",
   "execution_count": null,
   "metadata": {},
   "outputs": [],
   "source": [
    "results = calculate_impacts_for_activities(config.activities_nmcoxide, recipe_midpoint_h, db_name, reference_product=config.reference_product_nmcoxide)"
   ]
  },
  {
   "cell_type": "code",
   "execution_count": null,
   "metadata": {},
   "outputs": [],
   "source": [
    "df = results_to_dataframe(results, project_name, db_name)"
   ]
  },
  {
   "cell_type": "code",
   "execution_count": null,
   "metadata": {},
   "outputs": [],
   "source": [
    "df.to_csv('EFcontributions_nmcoxide_SSP1_VSI_2035.csv')"
   ]
  },
  {
   "cell_type": "markdown",
   "metadata": {},
   "source": [
    "#### 2040"
   ]
  },
  {
   "cell_type": "code",
   "execution_count": null,
   "metadata": {},
   "outputs": [],
   "source": [
    "db_name = 'EI38_cutoff_remind_SSP1-Base_2040_VSI'"
   ]
  },
  {
   "cell_type": "code",
   "execution_count": null,
   "metadata": {},
   "outputs": [],
   "source": [
    "results = calculate_impacts_for_activities(config.activities_nmcoxide, recipe_midpoint_h, db_name, reference_product=config.reference_product_nmcoxide)"
   ]
  },
  {
   "cell_type": "code",
   "execution_count": null,
   "metadata": {},
   "outputs": [],
   "source": [
    "df = results_to_dataframe(results, project_name, db_name)"
   ]
  },
  {
   "cell_type": "code",
   "execution_count": null,
   "metadata": {},
   "outputs": [],
   "source": [
    "df.to_csv('EFcontributions_nmcoxide_SSP1_VSI_2040.csv')"
   ]
  },
  {
   "cell_type": "markdown",
   "metadata": {},
   "source": [
    "## 5.2. SSP2"
   ]
  },
  {
   "cell_type": "markdown",
   "metadata": {},
   "source": [
    "### 5.2.1. Getting baseline contribution analysis of EFs from NMC111 Oxide"
   ]
  },
  {
   "cell_type": "markdown",
   "metadata": {},
   "source": [
    "#### 2025"
   ]
  },
  {
   "cell_type": "code",
   "execution_count": null,
   "metadata": {},
   "outputs": [],
   "source": [
    "db_name = 'EI38_cutoff_remind_SSP2-Base_2025_baseline'"
   ]
  },
  {
   "cell_type": "code",
   "execution_count": null,
   "metadata": {},
   "outputs": [],
   "source": [
    "results = calculate_impacts_for_activities(config.activities_nmcoxide, recipe_midpoint_h, db_name, reference_product=config.reference_product_nmcoxide)"
   ]
  },
  {
   "cell_type": "code",
   "execution_count": null,
   "metadata": {},
   "outputs": [],
   "source": [
    "df = results_to_dataframe(results, project_name, db_name)"
   ]
  },
  {
   "cell_type": "code",
   "execution_count": null,
   "metadata": {},
   "outputs": [],
   "source": [
    "df.to_csv('EFcontributions_nmcoxide_SSP2_baseline_2025.csv')"
   ]
  },
  {
   "cell_type": "markdown",
   "metadata": {},
   "source": [
    "#### 2030"
   ]
  },
  {
   "cell_type": "code",
   "execution_count": null,
   "metadata": {},
   "outputs": [],
   "source": [
    "db_name = 'EI38_cutoff_remind_SSP2-Base_2030_baseline'"
   ]
  },
  {
   "cell_type": "code",
   "execution_count": null,
   "metadata": {},
   "outputs": [],
   "source": [
    "results = calculate_impacts_for_activities(config.activities_nmcoxide, recipe_midpoint_h, db_name, reference_product=config.reference_product_nmcoxide)"
   ]
  },
  {
   "cell_type": "code",
   "execution_count": null,
   "metadata": {},
   "outputs": [],
   "source": [
    "df = results_to_dataframe(results, project_name, db_name)"
   ]
  },
  {
   "cell_type": "code",
   "execution_count": null,
   "metadata": {},
   "outputs": [],
   "source": [
    "df.to_csv('EFcontributions_nmcoxide_SSP2_baseline_2030.csv')"
   ]
  },
  {
   "cell_type": "markdown",
   "metadata": {},
   "source": [
    "#### 2035"
   ]
  },
  {
   "cell_type": "code",
   "execution_count": null,
   "metadata": {},
   "outputs": [],
   "source": [
    "db_name = 'EI38_cutoff_remind_SSP2-Base_2035_baseline'"
   ]
  },
  {
   "cell_type": "code",
   "execution_count": null,
   "metadata": {},
   "outputs": [],
   "source": [
    "results = calculate_impacts_for_activities(config.activities_nmcoxide, recipe_midpoint_h, db_name, reference_product=config.reference_product_nmcoxide)"
   ]
  },
  {
   "cell_type": "code",
   "execution_count": null,
   "metadata": {},
   "outputs": [],
   "source": [
    "df = results_to_dataframe(results, project_name, db_name)"
   ]
  },
  {
   "cell_type": "code",
   "execution_count": null,
   "metadata": {},
   "outputs": [],
   "source": [
    "df.to_csv('EFcontributions_nmcoxide_SSP2_baseline_2035.csv')"
   ]
  },
  {
   "cell_type": "markdown",
   "metadata": {},
   "source": [
    "#### 2040"
   ]
  },
  {
   "cell_type": "code",
   "execution_count": null,
   "metadata": {},
   "outputs": [],
   "source": [
    "db_name = 'EI38_cutoff_remind_SSP2-Base_2040_baseline'"
   ]
  },
  {
   "cell_type": "code",
   "execution_count": null,
   "metadata": {},
   "outputs": [],
   "source": [
    "results = calculate_impacts_for_activities(config.activities_nmcoxide, recipe_midpoint_h, db_name, reference_product=config.reference_product_nmcoxide)"
   ]
  },
  {
   "cell_type": "code",
   "execution_count": null,
   "metadata": {},
   "outputs": [],
   "source": [
    "df = results_to_dataframe(results, project_name, db_name)"
   ]
  },
  {
   "cell_type": "code",
   "execution_count": null,
   "metadata": {},
   "outputs": [],
   "source": [
    "df.to_csv('EFcontributions_nmcoxide_SSP2_baseline_2040.csv')"
   ]
  },
  {
   "cell_type": "markdown",
   "metadata": {},
   "source": [
    "### 5.2.2. Permanently modifying databases with coefficients"
   ]
  },
  {
   "cell_type": "code",
   "execution_count": null,
   "metadata": {},
   "outputs": [],
   "source": [
    "# Define the databases and years\n",
    "databases = config.db_remindSSP2_VSI\n",
    "databases"
   ]
  },
  {
   "cell_type": "code",
   "execution_count": null,
   "metadata": {},
   "outputs": [],
   "source": [
    "# Define the databases and years\n",
    "databases = config.db_remindSSP2_VSI\n",
    "\n",
    "# Process all CSV files and get combined results\n",
    "combined_results = process_all_csvs_interpolate(project_name, input_folder, methods_list, databases, years, modify_permanently=True)"
   ]
  },
  {
   "cell_type": "code",
   "execution_count": null,
   "metadata": {},
   "outputs": [],
   "source": [
    "# Save combined results to a CSV file\n",
    "run = 'remindSSP2_VSI-NMC'\n",
    "combined_results.to_csv(f'./outputs/combined_results/combined_results_{run}.csv', index=False)"
   ]
  },
  {
   "cell_type": "markdown",
   "metadata": {},
   "source": [
    "### 5.1.3. Get contributions for NMC oxide"
   ]
  },
  {
   "cell_type": "markdown",
   "metadata": {},
   "source": [
    "#### 2025"
   ]
  },
  {
   "cell_type": "code",
   "execution_count": null,
   "metadata": {},
   "outputs": [],
   "source": [
    "db_name = 'EI38_cutoff_remind_SSP2-Base_2025_VSI'"
   ]
  },
  {
   "cell_type": "code",
   "execution_count": null,
   "metadata": {},
   "outputs": [],
   "source": [
    "results = calculate_impacts_for_activities(config.activities_nmcoxide, recipe_midpoint_h, db_name, reference_product=config.reference_product_nmcoxide)"
   ]
  },
  {
   "cell_type": "code",
   "execution_count": null,
   "metadata": {},
   "outputs": [],
   "source": [
    "df = results_to_dataframe(results, project_name, db_name)"
   ]
  },
  {
   "cell_type": "code",
   "execution_count": null,
   "metadata": {},
   "outputs": [],
   "source": [
    "df.to_csv('EFcontributions_nmcoxide_SSP2_VSI_2025.csv')"
   ]
  },
  {
   "cell_type": "markdown",
   "metadata": {},
   "source": [
    "#### 2030"
   ]
  },
  {
   "cell_type": "code",
   "execution_count": null,
   "metadata": {},
   "outputs": [],
   "source": [
    "db_name = 'EI38_cutoff_remind_SSP2-Base_2030_VSI'"
   ]
  },
  {
   "cell_type": "code",
   "execution_count": null,
   "metadata": {},
   "outputs": [],
   "source": [
    "results = calculate_impacts_for_activities(config.activities_nmcoxide, recipe_midpoint_h, db_name, reference_product=config.reference_product_nmcoxide)"
   ]
  },
  {
   "cell_type": "code",
   "execution_count": null,
   "metadata": {},
   "outputs": [],
   "source": [
    "df = results_to_dataframe(results, project_name, db_name)"
   ]
  },
  {
   "cell_type": "code",
   "execution_count": null,
   "metadata": {},
   "outputs": [],
   "source": [
    "df.to_csv('EFcontributions_nmcoxide_SSP2_VSI_2030.csv')"
   ]
  },
  {
   "cell_type": "markdown",
   "metadata": {},
   "source": [
    "#### 2035"
   ]
  },
  {
   "cell_type": "code",
   "execution_count": null,
   "metadata": {},
   "outputs": [],
   "source": [
    "db_name = 'EI38_cutoff_remind_SSP2-Base_2035_VSI'"
   ]
  },
  {
   "cell_type": "code",
   "execution_count": null,
   "metadata": {},
   "outputs": [],
   "source": [
    "results = calculate_impacts_for_activities(config.activities_nmcoxide, recipe_midpoint_h, db_name, reference_product=config.reference_product_nmcoxide)"
   ]
  },
  {
   "cell_type": "code",
   "execution_count": null,
   "metadata": {},
   "outputs": [],
   "source": [
    "df = results_to_dataframe(results, project_name, db_name)"
   ]
  },
  {
   "cell_type": "code",
   "execution_count": null,
   "metadata": {},
   "outputs": [],
   "source": [
    "df.to_csv('EFcontributions_nmcoxide_SSP2_VSI_2035.csv')"
   ]
  },
  {
   "cell_type": "markdown",
   "metadata": {},
   "source": [
    "#### 2040"
   ]
  },
  {
   "cell_type": "code",
   "execution_count": null,
   "metadata": {},
   "outputs": [],
   "source": [
    "db_name = 'EI38_cutoff_remind_SSP2-Base_2040_VSI'"
   ]
  },
  {
   "cell_type": "code",
   "execution_count": null,
   "metadata": {},
   "outputs": [],
   "source": [
    "results = calculate_impacts_for_activities(config.activities_nmcoxide, recipe_midpoint_h, db_name, reference_product=config.reference_product_nmcoxide)"
   ]
  },
  {
   "cell_type": "code",
   "execution_count": null,
   "metadata": {},
   "outputs": [],
   "source": [
    "df = results_to_dataframe(results, project_name, db_name)"
   ]
  },
  {
   "cell_type": "code",
   "execution_count": null,
   "metadata": {},
   "outputs": [],
   "source": [
    "df.to_csv('EFcontributions_nmcoxide_SSP2_VSI_2040.csv')"
   ]
  },
  {
   "cell_type": "markdown",
   "metadata": {},
   "source": [
    "## 5.3. SSP5"
   ]
  },
  {
   "cell_type": "markdown",
   "metadata": {},
   "source": [
    "### 5.3.1. Getting baseline contribution analysis of EFs from NMC111 Oxide"
   ]
  },
  {
   "cell_type": "markdown",
   "metadata": {},
   "source": [
    "#### 2025"
   ]
  },
  {
   "cell_type": "code",
   "execution_count": null,
   "metadata": {},
   "outputs": [],
   "source": [
    "db_name = 'EI38_cutoff_remind_SSP5-Base_2025_baseline'"
   ]
  },
  {
   "cell_type": "code",
   "execution_count": null,
   "metadata": {},
   "outputs": [],
   "source": [
    "results = calculate_impacts_for_activities(config.activities_nmcoxide, recipe_midpoint_h, db_name, reference_product=config.reference_product_nmcoxide)"
   ]
  },
  {
   "cell_type": "code",
   "execution_count": null,
   "metadata": {},
   "outputs": [],
   "source": [
    "df = results_to_dataframe(results, project_name, db_name)"
   ]
  },
  {
   "cell_type": "code",
   "execution_count": null,
   "metadata": {},
   "outputs": [],
   "source": [
    "df.to_csv('EFcontributions_nmcoxide_SSP5_baseline_2025.csv')"
   ]
  },
  {
   "cell_type": "markdown",
   "metadata": {},
   "source": [
    "#### 2030"
   ]
  },
  {
   "cell_type": "code",
   "execution_count": null,
   "metadata": {},
   "outputs": [],
   "source": [
    "db_name = 'EI38_cutoff_remind_SSP5-Base_2030_baseline'"
   ]
  },
  {
   "cell_type": "code",
   "execution_count": null,
   "metadata": {},
   "outputs": [],
   "source": [
    "results = calculate_impacts_for_activities(config.activities_nmcoxide, recipe_midpoint_h, db_name, reference_product=config.reference_product_nmcoxide)"
   ]
  },
  {
   "cell_type": "code",
   "execution_count": null,
   "metadata": {},
   "outputs": [],
   "source": [
    "df = results_to_dataframe(results, project_name, db_name)"
   ]
  },
  {
   "cell_type": "code",
   "execution_count": null,
   "metadata": {},
   "outputs": [],
   "source": [
    "df.to_csv('EFcontributions_nmcoxide_SSP5_baseline_2030.csv')"
   ]
  },
  {
   "cell_type": "markdown",
   "metadata": {},
   "source": [
    "#### 2035"
   ]
  },
  {
   "cell_type": "code",
   "execution_count": null,
   "metadata": {},
   "outputs": [],
   "source": [
    "db_name = 'EI38_cutoff_remind_SSP5-Base_2035_baseline'"
   ]
  },
  {
   "cell_type": "code",
   "execution_count": null,
   "metadata": {},
   "outputs": [],
   "source": [
    "results = calculate_impacts_for_activities(config.activities_nmcoxide, recipe_midpoint_h, db_name, reference_product=config.reference_product_nmcoxide)"
   ]
  },
  {
   "cell_type": "code",
   "execution_count": null,
   "metadata": {},
   "outputs": [],
   "source": [
    "df = results_to_dataframe(results, project_name, db_name)"
   ]
  },
  {
   "cell_type": "code",
   "execution_count": null,
   "metadata": {},
   "outputs": [],
   "source": [
    "df.to_csv('EFcontributions_nmcoxide_SSP5_baseline_2035.csv')"
   ]
  },
  {
   "cell_type": "markdown",
   "metadata": {},
   "source": [
    "#### 2040"
   ]
  },
  {
   "cell_type": "code",
   "execution_count": null,
   "metadata": {},
   "outputs": [],
   "source": [
    "db_name = 'EI38_cutoff_remind_SSP5-Base_2040_baseline'"
   ]
  },
  {
   "cell_type": "code",
   "execution_count": null,
   "metadata": {},
   "outputs": [],
   "source": [
    "results = calculate_impacts_for_activities(config.activities_nmcoxide, recipe_midpoint_h, db_name, reference_product=config.reference_product_nmcoxide)"
   ]
  },
  {
   "cell_type": "code",
   "execution_count": null,
   "metadata": {},
   "outputs": [],
   "source": [
    "df = results_to_dataframe(results, project_name, db_name)"
   ]
  },
  {
   "cell_type": "code",
   "execution_count": null,
   "metadata": {},
   "outputs": [],
   "source": [
    "df.to_csv('EFcontributions_nmcoxide_SSP5_baseline_2040.csv')"
   ]
  },
  {
   "cell_type": "markdown",
   "metadata": {},
   "source": [
    "### 5.3.2. Permanently modifying databases with coefficients"
   ]
  },
  {
   "cell_type": "code",
   "execution_count": null,
   "metadata": {},
   "outputs": [],
   "source": [
    "# Define the databases and years\n",
    "databases = config.db_remindSSP5_VSI\n",
    "\n",
    "# Process all CSV files and get combined results\n",
    "combined_results = process_all_csvs_interpolate(project_name, input_folder, methods_list, databases, years, modify_permanently=True)"
   ]
  },
  {
   "cell_type": "code",
   "execution_count": null,
   "metadata": {},
   "outputs": [],
   "source": [
    "# Save combined results to a CSV file\n",
    "run = 'remindSSP5_VSI-NMC'\n",
    "combined_results.to_csv(f'./outputs/combined_results/combined_results_{run}.csv', index=False)"
   ]
  },
  {
   "cell_type": "markdown",
   "metadata": {},
   "source": [
    "### 5.3.3. Get contributions for NMC oxide"
   ]
  },
  {
   "cell_type": "markdown",
   "metadata": {},
   "source": [
    "#### 2025"
   ]
  },
  {
   "cell_type": "code",
   "execution_count": null,
   "metadata": {},
   "outputs": [],
   "source": [
    "db_name = 'EI38_cutoff_remind_SSP5-Base_2025_VSI'"
   ]
  },
  {
   "cell_type": "code",
   "execution_count": null,
   "metadata": {},
   "outputs": [],
   "source": [
    "results = calculate_impacts_for_activities(config.activities_nmcoxide, recipe_midpoint_h, db_name, reference_product=config.reference_product_nmcoxide)"
   ]
  },
  {
   "cell_type": "code",
   "execution_count": null,
   "metadata": {},
   "outputs": [],
   "source": [
    "df = results_to_dataframe(results, project_name, db_name)"
   ]
  },
  {
   "cell_type": "code",
   "execution_count": null,
   "metadata": {},
   "outputs": [],
   "source": [
    "df.to_csv('EFcontributions_nmcoxide_SSP5_VSI_2025.csv')"
   ]
  },
  {
   "cell_type": "markdown",
   "metadata": {},
   "source": [
    "#### 2030"
   ]
  },
  {
   "cell_type": "code",
   "execution_count": null,
   "metadata": {},
   "outputs": [],
   "source": [
    "db_name = 'EI38_cutoff_remind_SSP5-Base_2030_VSI'"
   ]
  },
  {
   "cell_type": "code",
   "execution_count": null,
   "metadata": {},
   "outputs": [],
   "source": [
    "results = calculate_impacts_for_activities(config.activities_nmcoxide, recipe_midpoint_h, db_name, reference_product=config.reference_product_nmcoxide)"
   ]
  },
  {
   "cell_type": "code",
   "execution_count": null,
   "metadata": {},
   "outputs": [],
   "source": [
    "df = results_to_dataframe(results, project_name, db_name)"
   ]
  },
  {
   "cell_type": "code",
   "execution_count": null,
   "metadata": {},
   "outputs": [],
   "source": [
    "df.to_csv('EFcontributions_nmcoxide_SSP5_VSI_2030.csv')"
   ]
  },
  {
   "cell_type": "markdown",
   "metadata": {},
   "source": [
    "#### 2035"
   ]
  },
  {
   "cell_type": "code",
   "execution_count": null,
   "metadata": {},
   "outputs": [],
   "source": [
    "db_name = 'EI38_cutoff_remind_SSP5-Base_2035_VSI'"
   ]
  },
  {
   "cell_type": "code",
   "execution_count": null,
   "metadata": {},
   "outputs": [],
   "source": [
    "results = calculate_impacts_for_activities(config.activities_nmcoxide, recipe_midpoint_h, db_name, reference_product=config.reference_product_nmcoxide)"
   ]
  },
  {
   "cell_type": "code",
   "execution_count": null,
   "metadata": {},
   "outputs": [],
   "source": [
    "df = results_to_dataframe(results, project_name, db_name)"
   ]
  },
  {
   "cell_type": "code",
   "execution_count": null,
   "metadata": {},
   "outputs": [],
   "source": [
    "df.to_csv('EFcontributions_nmcoxide_SSP5_VSI_2035.csv')"
   ]
  },
  {
   "cell_type": "markdown",
   "metadata": {},
   "source": [
    "#### 2040"
   ]
  },
  {
   "cell_type": "code",
   "execution_count": null,
   "metadata": {},
   "outputs": [],
   "source": [
    "db_name = 'EI38_cutoff_remind_SSP5-Base_2040_VSI'"
   ]
  },
  {
   "cell_type": "code",
   "execution_count": null,
   "metadata": {},
   "outputs": [],
   "source": [
    "results = calculate_impacts_for_activities(config.activities_nmcoxide, recipe_midpoint_h, db_name, reference_product=config.reference_product_nmcoxide)"
   ]
  },
  {
   "cell_type": "code",
   "execution_count": null,
   "metadata": {},
   "outputs": [],
   "source": [
    "df = results_to_dataframe(results, project_name, db_name)"
   ]
  },
  {
   "cell_type": "code",
   "execution_count": null,
   "metadata": {},
   "outputs": [],
   "source": [
    "df.to_csv('EFcontributions_nmcoxide_SSP5_VSI_2040.csv')"
   ]
  },
  {
   "cell_type": "code",
   "execution_count": null,
   "metadata": {},
   "outputs": [],
   "source": []
  },
  {
   "cell_type": "code",
   "execution_count": null,
   "metadata": {},
   "outputs": [],
   "source": []
  }
 ],
 "metadata": {
  "kernelspec": {
   "display_name": "Python 3",
   "language": "python",
   "name": "python3"
  },
  "language_info": {
   "codemirror_mode": {
    "name": "ipython",
    "version": 3
   },
   "file_extension": ".py",
   "mimetype": "text/x-python",
   "name": "python",
   "nbconvert_exporter": "python",
   "pygments_lexer": "ipython3",
   "version": "3.11.8"
  }
 },
 "nbformat": 4,
 "nbformat_minor": 2
}
