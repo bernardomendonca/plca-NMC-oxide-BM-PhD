{
 "cells": [
  {
   "cell_type": "code",
   "execution_count": 1,
   "metadata": {},
   "outputs": [
    {
     "data": {
      "text/plain": [
       "'\\nWhen working with ecoinvent 3.8, we need to use brightway2 + a downgrade of bw2io in order to properly create the biosphere3 database and to properly load ecoinvent 3.8 cutoff.\\nA solution was found based on this following thread:\\nhttps://github.com/polca/premise/issues/87\\nThe environment setup that can do this is bw2-toloadei38\\nAfterwards, we can move to notebook 2_generating_datasets.ipynb to work with brightway 2.5 and premise.\\n'"
      ]
     },
     "execution_count": 1,
     "metadata": {},
     "output_type": "execute_result"
    }
   ],
   "source": [
    "'''\n",
    "When working with ecoinvent 3.8, we need to use brightway2 + a downgrade of bw2io in order to properly create the biosphere3 database and to properly load ecoinvent 3.8 cutoff.\n",
    "A solution was found based on this following thread:\n",
    "https://github.com/polca/premise/issues/87\n",
    "The environment setup that can do this is bw2-toloadei38\n",
    "Afterwards, we can move to notebook 2_generating_datasets.ipynb to work with brightway 2.5 and premise.\n",
    "'''"
   ]
  },
  {
   "cell_type": "markdown",
   "metadata": {},
   "source": [
    "# 1. Importing Libraries"
   ]
  },
  {
   "cell_type": "code",
   "execution_count": 2,
   "metadata": {},
   "outputs": [],
   "source": [
    "# Import BW25 packages. You'll notice the packages are imported individually, unlike a one-and-done import with BW2.\n",
    "import bw2data as bd\n",
    "import bw2io as bi\n",
    "import bw2calc as bc\n",
    "import bw2analyzer as bwa"
   ]
  },
  {
   "cell_type": "code",
   "execution_count": 3,
   "metadata": {},
   "outputs": [
    {
     "data": {
      "text/plain": [
       "Brightway2 projects manager with 12 objects:\n",
       "\tLNV-EI38\n",
       "\tLNV-EI38-20241204\n",
       "\tLNV-EI38-test20241120\n",
       "\tLNV-EI38-test20241120-BaselineEI38\n",
       "\tV1_pLCA_LiIon\n",
       "\tV1_pLCA_liIon\n",
       "\tV2_pLCA_LiIon\n",
       "\tV2_pLCA_liIon\n",
       "\tV3_pLCA_liion\n",
       "\tdefault\n",
       "\ttest-EI38-SSP1-Base\n",
       "\tv3_liion\n",
       "Use `projects.report()` to get a report on all projects."
      ]
     },
     "execution_count": 3,
     "metadata": {},
     "output_type": "execute_result"
    }
   ],
   "source": [
    "bd.projects"
   ]
  },
  {
   "cell_type": "code",
   "execution_count": 4,
   "metadata": {},
   "outputs": [],
   "source": [
    "bd.projects.set_current(\"LNV-EI38-202502025\") #Creating/accessing the project\n",
    "# bd.projects.set_current(\"LNV-EI38-test20241120-BaselineEI38\") #Creating/accessing the project"
   ]
  },
  {
   "cell_type": "code",
   "execution_count": 5,
   "metadata": {},
   "outputs": [
    {
     "data": {
      "text/plain": [
       "Databases dictionary with 0 objects"
      ]
     },
     "execution_count": 5,
     "metadata": {},
     "output_type": "execute_result"
    }
   ],
   "source": [
    "bd.databases"
   ]
  },
  {
   "cell_type": "code",
   "execution_count": 6,
   "metadata": {},
   "outputs": [
    {
     "data": {
      "text/plain": [
       "Methods dictionary with 0 objects"
      ]
     },
     "execution_count": 6,
     "metadata": {},
     "output_type": "execute_result"
    }
   ],
   "source": [
    "bd.methods"
   ]
  },
  {
   "cell_type": "code",
   "execution_count": 7,
   "metadata": {},
   "outputs": [
    {
     "name": "stdout",
     "output_type": "stream",
     "text": [
      "Creating default biosphere\n",
      "\n"
     ]
    },
    {
     "name": "stderr",
     "output_type": "stream",
     "text": [
      "Writing activities to SQLite3 database:\n"
     ]
    },
    {
     "name": "stdout",
     "output_type": "stream",
     "text": [
      "Applying strategy: normalize_units\n",
      "Applying strategy: drop_unspecified_subcategories\n",
      "Applying strategy: ensure_categories_are_tuples\n",
      "Applied 3 strategies in 0.00 seconds\n"
     ]
    },
    {
     "name": "stderr",
     "output_type": "stream",
     "text": [
      "0% [##############################] 100% | ETA: 00:00:00\n",
      "Total time elapsed: 00:00:00\n"
     ]
    },
    {
     "name": "stdout",
     "output_type": "stream",
     "text": [
      "Title: Writing activities to SQLite3 database:\n",
      "  Started: 02/25/2025 10:19:06\n",
      "  Finished: 02/25/2025 10:19:07\n",
      "  Total time elapsed: 00:00:00\n",
      "  CPU %: 19.90\n",
      "  Memory %: 0.63\n",
      "Created database: biosphere3\n",
      "Creating default LCIA methods\n",
      "\n",
      "Applying strategy: normalize_units\n",
      "Applying strategy: set_biosphere_type\n",
      "Applying strategy: fix_ecoinvent_38_lcia_implementation\n",
      "Applying strategy: drop_unspecified_subcategories\n",
      "Applying strategy: link_iterable_by_fields\n",
      "Applied 5 strategies in 1.14 seconds\n",
      "Wrote 975 LCIA methods with 254388 characterization factors\n",
      "Creating core data migrations\n",
      "\n"
     ]
    }
   ],
   "source": [
    "bi.bw2setup() #Importing elementary flows, LCIA methods and some other data"
   ]
  },
  {
   "cell_type": "markdown",
   "metadata": {},
   "source": [
    "# 2. Importing ecoinvent"
   ]
  },
  {
   "cell_type": "code",
   "execution_count": 8,
   "metadata": {},
   "outputs": [],
   "source": [
    "# UTS laptop\n",
    "# ei38cutoffdir = 'C:/Users/24417507/OneDrive - UTS/Documents/Ecoinvent/v38_2021/ecoinvent 3.8_cutoff_ecoSpold02/datasets'\n",
    "\n",
    "# Lenovo7i - personal\n",
    "ei38cutoffdir = 'D:/Datasets/ecoinvent 3.8_cutoff_ecoSpold02/datasets'\n",
    "\n",
    "# Any other folder\n",
    "## Add your folder here"
   ]
  },
  {
   "cell_type": "code",
   "execution_count": 9,
   "metadata": {},
   "outputs": [
    {
     "name": "stdout",
     "output_type": "stream",
     "text": [
      "Extracting XML data from 19565 datasets\n",
      "Extracted 19565 datasets in 62.15 seconds\n",
      "Applying strategy: normalize_units\n",
      "Applying strategy: update_ecoinvent_locations\n",
      "Applying strategy: remove_zero_amount_coproducts\n",
      "Applying strategy: remove_zero_amount_inputs_with_no_activity\n",
      "Applying strategy: remove_unnamed_parameters\n",
      "Applying strategy: es2_assign_only_product_with_amount_as_reference_product\n",
      "Applying strategy: assign_single_product_as_activity\n",
      "Applying strategy: create_composite_code\n",
      "Applying strategy: drop_unspecified_subcategories\n",
      "Applying strategy: fix_ecoinvent_flows_pre35\n",
      "Applying strategy: drop_temporary_outdated_biosphere_flows\n",
      "Applying strategy: link_biosphere_by_flow_uuid\n",
      "Applying strategy: link_internal_technosphere_by_composite_code\n",
      "Applying strategy: delete_exchanges_missing_activity\n",
      "Applying strategy: delete_ghost_exchanges\n",
      "Applying strategy: remove_uncertainty_from_negative_loss_exchanges\n",
      "Applying strategy: fix_unreasonably_high_lognormal_uncertainties\n",
      "Applying strategy: set_lognormal_loc_value\n",
      "Applying strategy: convert_activity_parameters_to_list\n",
      "Applying strategy: add_cpc_classification_from_single_reference_product\n",
      "Applying strategy: delete_none_synonyms\n",
      "Applied 21 strategies in 5.58 seconds\n"
     ]
    },
    {
     "name": "stderr",
     "output_type": "stream",
     "text": [
      "Writing activities to SQLite3 database:\n"
     ]
    },
    {
     "name": "stdout",
     "output_type": "stream",
     "text": [
      "19565 datasets\n",
      "629959 exchanges\n",
      "0 unlinked exchanges\n",
      "  \n"
     ]
    },
    {
     "name": "stderr",
     "output_type": "stream",
     "text": [
      "0% [##############################] 100% | ETA: 00:00:00\n",
      "Total time elapsed: 00:00:29\n"
     ]
    },
    {
     "name": "stdout",
     "output_type": "stream",
     "text": [
      "Title: Writing activities to SQLite3 database:\n",
      "  Started: 02/25/2025 10:21:55\n",
      "  Finished: 02/25/2025 10:22:25\n",
      "  Total time elapsed: 00:00:29\n",
      "  CPU %: 9.30\n",
      "  Memory %: 9.23\n",
      "Created database: ecoinvent 3.8 cutoff\n"
     ]
    }
   ],
   "source": [
    "if 'ecoinvent 3.8 cutoff' in bi.databases:\n",
    "    print(\"Database has already been imported\")\n",
    "else:\n",
    "    ei38 = bi.SingleOutputEcospold2Importer(ei38cutoffdir, 'ecoinvent 3.8 cutoff')\n",
    "    ei38.apply_strategies()\n",
    "    ei38.statistics()\n",
    "    # ei38.drop_unlinked(True)\n",
    "    ei38.write_database() # This will take some time."
   ]
  }
 ],
 "metadata": {
  "kernelspec": {
   "display_name": "bw2-toloadei38",
   "language": "python",
   "name": "python3"
  },
  "language_info": {
   "codemirror_mode": {
    "name": "ipython",
    "version": 3
   },
   "file_extension": ".py",
   "mimetype": "text/x-python",
   "name": "python",
   "nbconvert_exporter": "python",
   "pygments_lexer": "ipython3",
   "version": "3.12.2"
  }
 },
 "nbformat": 4,
 "nbformat_minor": 2
}
