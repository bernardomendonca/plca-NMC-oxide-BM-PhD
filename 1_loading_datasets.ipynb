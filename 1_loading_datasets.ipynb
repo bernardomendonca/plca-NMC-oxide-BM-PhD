{
 "cells": [
  {
   "cell_type": "code",
   "execution_count": 1,
   "metadata": {},
   "outputs": [
    {
     "data": {
      "text/plain": [
       "'\\nWhen working with ecoinvent 3.8, we need to use brightway2 + a downgrade of bw2io in order to properly create the biosphere3 database and to properly load ecoinvent 3.8 cutoff.\\nA solution was found based on this following thread:\\nhttps://github.com/polca/premise/issues/87\\nThe environment setup that can do this is bw2-toloadei38\\nAfterwards, we can move to notebook 2_generating_datasets.ipynb to work with brightway 2.5 and premise.\\n'"
      ]
     },
     "execution_count": 1,
     "metadata": {},
     "output_type": "execute_result"
    }
   ],
   "source": [
    "'''\n",
    "When working with ecoinvent 3.8, we need to use brightway2 + a downgrade of bw2io in order to properly create the biosphere3 database and to properly load ecoinvent 3.8 cutoff.\n",
    "A solution was found based on this following thread:\n",
    "https://github.com/polca/premise/issues/87\n",
    "The environment setup that can do this is bw2-toloadei38\n",
    "Afterwards, we can move to notebook 2_generating_datasets.ipynb to work with brightway 2.5 and premise.\n",
    "'''"
   ]
  },
  {
   "cell_type": "markdown",
   "metadata": {},
   "source": [
    "# 1. Importing Libraries"
   ]
  },
  {
   "cell_type": "code",
   "execution_count": 2,
   "metadata": {},
   "outputs": [],
   "source": [
    "# Import BW25 packages. You'll notice the packages are imported individually, unlike a one-and-done import with BW2.\n",
    "import bw2data as bd\n",
    "import bw2io as bi"
   ]
  },
  {
   "cell_type": "code",
   "execution_count": 3,
   "metadata": {},
   "outputs": [
    {
     "data": {
      "text/plain": [
       "Brightway2 projects manager with 19 objects:\n",
       "\tLNV-EI38\n",
       "\tLNV-EI38-20241204\n",
       "\tLNV-EI38-202502025\n",
       "\tLNV-EI38-20250225\n",
       "\tLNV-EI38-20250226\n",
       "\tLNV-EI38-20250227\n",
       "\tLNV-EI38-20250303\n",
       "\tLNV-EI38-20250314\n",
       "\tLNV-EI38-20250317\n",
       "\tLNV-EI38-test20241120\n",
       "\tLNV-EI38-test20241120-BaselineEI38\n",
       "\tV1_pLCA_LiIon\n",
       "\tV1_pLCA_liIon\n",
       "\tV2_pLCA_LiIon\n",
       "\tV2_pLCA_liIon\n",
       "\tV3_pLCA_liion\n",
       "\tdefault\n",
       "\ttest-EI38-SSP1-Base\n",
       "\tv3_liion\n",
       "Use `projects.report()` to get a report on all projects."
      ]
     },
     "execution_count": 3,
     "metadata": {},
     "output_type": "execute_result"
    }
   ],
   "source": [
    "bd.projects"
   ]
  },
  {
   "cell_type": "code",
   "execution_count": null,
   "metadata": {},
   "outputs": [],
   "source": [
    "# Fixing premise-gwp:\n",
    "bd.projects.set_current(\"LNV-EI38-20250414\")"
   ]
  },
  {
   "cell_type": "code",
   "execution_count": 5,
   "metadata": {},
   "outputs": [
    {
     "data": {
      "text/plain": [
       "Databases dictionary with 0 objects"
      ]
     },
     "execution_count": 5,
     "metadata": {},
     "output_type": "execute_result"
    }
   ],
   "source": [
    "bd.databases"
   ]
  },
  {
   "cell_type": "code",
   "execution_count": 6,
   "metadata": {},
   "outputs": [
    {
     "data": {
      "text/plain": [
       "Methods dictionary with 0 objects"
      ]
     },
     "execution_count": 6,
     "metadata": {},
     "output_type": "execute_result"
    }
   ],
   "source": [
    "bd.methods"
   ]
  },
  {
   "cell_type": "code",
   "execution_count": 7,
   "metadata": {},
   "outputs": [
    {
     "name": "stdout",
     "output_type": "stream",
     "text": [
      "Creating default biosphere\n",
      "\n"
     ]
    },
    {
     "name": "stderr",
     "output_type": "stream",
     "text": [
      "Writing activities to SQLite3 database:\n"
     ]
    },
    {
     "name": "stdout",
     "output_type": "stream",
     "text": [
      "Applying strategy: normalize_units\n",
      "Applying strategy: drop_unspecified_subcategories\n",
      "Applying strategy: ensure_categories_are_tuples\n",
      "Applied 3 strategies in 0.01 seconds\n"
     ]
    },
    {
     "name": "stderr",
     "output_type": "stream",
     "text": [
      "0% [##############################] 100% | ETA: 00:00:00\n",
      "Total time elapsed: 00:00:00\n"
     ]
    },
    {
     "name": "stdout",
     "output_type": "stream",
     "text": [
      "Title: Writing activities to SQLite3 database:\n",
      "  Started: 04/14/2025 15:06:29\n",
      "  Finished: 04/14/2025 15:06:29\n",
      "  Total time elapsed: 00:00:00\n",
      "  CPU %: 105.60\n",
      "  Memory %: 0.49\n",
      "Created database: biosphere3\n",
      "Creating default LCIA methods\n",
      "\n",
      "Applying strategy: normalize_units\n",
      "Applying strategy: set_biosphere_type\n",
      "Applying strategy: fix_ecoinvent_38_lcia_implementation\n",
      "Applying strategy: drop_unspecified_subcategories\n",
      "Applying strategy: link_iterable_by_fields\n",
      "Applied 5 strategies in 1.44 seconds\n",
      "Wrote 975 LCIA methods with 254388 characterization factors\n",
      "Creating core data migrations\n",
      "\n"
     ]
    }
   ],
   "source": [
    "bi.bw2setup() #Importing elementary flows, LCIA methods and some other data"
   ]
  },
  {
   "cell_type": "code",
   "execution_count": 8,
   "metadata": {},
   "outputs": [
    {
     "ename": "ModuleNotFoundError",
     "evalue": "No module named 'premise_gwp'",
     "output_type": "error",
     "traceback": [
      "\u001b[1;31m---------------------------------------------------------------------------\u001b[0m",
      "\u001b[1;31mModuleNotFoundError\u001b[0m                       Traceback (most recent call last)",
      "Cell \u001b[1;32mIn[8], line 5\u001b[0m\n\u001b[0;32m      1\u001b[0m \u001b[38;5;66;03m### OPTIONAL ###\u001b[39;00m\n\u001b[0;32m      2\u001b[0m \n\u001b[0;32m      3\u001b[0m \u001b[38;5;66;03m# Based on: https://github.com/polca/premise_gwp?tab=readme-ov-file#impact-category\u001b[39;00m\n\u001b[1;32m----> 5\u001b[0m \u001b[38;5;28;01mfrom\u001b[39;00m \u001b[38;5;21;01mpremise_gwp\u001b[39;00m \u001b[38;5;28;01mimport\u001b[39;00m add_premise_gwp\n\u001b[0;32m      6\u001b[0m add_premise_gwp() \u001b[38;5;66;03m#Adding the GWP method from premise to the project\u001b[39;00m\n",
      "\u001b[1;31mModuleNotFoundError\u001b[0m: No module named 'premise_gwp'"
     ]
    }
   ],
   "source": [
    "### OPTIONAL ###\n",
    "\n",
    "# Based on: https://github.com/polca/premise_gwp?tab=readme-ov-file#impact-category\n",
    "\n",
    "# from premise_gwp import add_premise_gwp\n",
    "# add_premise_gwp() #Adding the GWP method from premise to the project\n",
    "\n",
    "# The current environment is very prone to breaking, so maybe better to go to 10_useful_db_operations.ipynb and run the code there to create the new method."
   ]
  },
  {
   "cell_type": "code",
   "execution_count": null,
   "metadata": {},
   "outputs": [],
   "source": [
    "# Local directory\n",
    "ei38cutoffdir = 'D:/Datasets/ecoinvent 3.8_cutoff_ecoSpold02/datasets'"
   ]
  },
  {
   "cell_type": "code",
   "execution_count": 10,
   "metadata": {},
   "outputs": [
    {
     "name": "stdout",
     "output_type": "stream",
     "text": [
      "Extracting XML data from 19565 datasets\n",
      "Extracted 19565 datasets in 50.94 seconds\n",
      "Applying strategy: normalize_units\n",
      "Applying strategy: update_ecoinvent_locations\n",
      "Applying strategy: remove_zero_amount_coproducts\n",
      "Applying strategy: remove_zero_amount_inputs_with_no_activity\n",
      "Applying strategy: remove_unnamed_parameters\n",
      "Applying strategy: es2_assign_only_product_with_amount_as_reference_product\n",
      "Applying strategy: assign_single_product_as_activity\n",
      "Applying strategy: create_composite_code\n",
      "Applying strategy: drop_unspecified_subcategories\n",
      "Applying strategy: fix_ecoinvent_flows_pre35\n",
      "Applying strategy: drop_temporary_outdated_biosphere_flows\n",
      "Applying strategy: link_biosphere_by_flow_uuid\n",
      "Applying strategy: link_internal_technosphere_by_composite_code\n",
      "Applying strategy: delete_exchanges_missing_activity\n",
      "Applying strategy: delete_ghost_exchanges\n",
      "Applying strategy: remove_uncertainty_from_negative_loss_exchanges\n",
      "Applying strategy: fix_unreasonably_high_lognormal_uncertainties\n",
      "Applying strategy: set_lognormal_loc_value\n",
      "Applying strategy: convert_activity_parameters_to_list\n",
      "Applying strategy: add_cpc_classification_from_single_reference_product\n",
      "Applying strategy: delete_none_synonyms\n",
      "Applied 21 strategies in 6.89 seconds\n"
     ]
    },
    {
     "name": "stderr",
     "output_type": "stream",
     "text": [
      "Writing activities to SQLite3 database:\n"
     ]
    },
    {
     "name": "stdout",
     "output_type": "stream",
     "text": [
      "19565 datasets\n",
      "629959 exchanges\n",
      "0 unlinked exchanges\n",
      "  \n"
     ]
    },
    {
     "name": "stderr",
     "output_type": "stream",
     "text": [
      "0% [##############################] 100% | ETA: 00:00:00\n",
      "Total time elapsed: 00:00:51\n"
     ]
    },
    {
     "name": "stdout",
     "output_type": "stream",
     "text": [
      "Title: Writing activities to SQLite3 database:\n",
      "  Started: 04/14/2025 15:10:36\n",
      "  Finished: 04/14/2025 15:11:27\n",
      "  Total time elapsed: 00:00:51\n",
      "  CPU %: 94.30\n",
      "  Memory %: 9.12\n",
      "Created database: ecoinvent 3.8 cutoff\n"
     ]
    }
   ],
   "source": [
    "if 'ecoinvent 3.8 cutoff' in bi.databases:\n",
    "    print(\"Database has already been imported\")\n",
    "else:\n",
    "    ei38 = bi.SingleOutputEcospold2Importer(ei38cutoffdir, 'ecoinvent 3.8 cutoff')\n",
    "    ei38.apply_strategies()\n",
    "    ei38.statistics()\n",
    "    # ei38.drop_unlinked(True)\n",
    "    ei38.write_database() # This will take some time."
   ]
  },
  {
   "cell_type": "code",
   "execution_count": null,
   "metadata": {},
   "outputs": [],
   "source": []
  }
 ],
 "metadata": {
  "kernelspec": {
   "display_name": "Python 3",
   "language": "python",
   "name": "python3"
  },
  "language_info": {
   "codemirror_mode": {
    "name": "ipython",
    "version": 3
   },
   "file_extension": ".py",
   "mimetype": "text/x-python",
   "name": "python",
   "nbconvert_exporter": "python",
   "pygments_lexer": "ipython3",
   "version": "3.12.2"
  }
 },
 "nbformat": 4,
 "nbformat_minor": 2
}
